{
 "cells": [
  {
   "cell_type": "markdown",
   "metadata": {},
   "source": [
    "# ASHRAE - Great Energy Predictor III\n",
    "https://www.kaggle.com/competitions/ashrae-energy-prediction/overview\n",
    "\n",
    "LightGBMをやってみる  \n",
    "参考  \n",
    "https://www.kaggle.com/code/aitude/ashrae-kfold-lightgbm-without-leak-1-08  \n",
    "\n",
    "LightGBM パラメーター内容  \n",
    "https://zenn.dev/mosamosa/articles/07d0076c9292136a3639"
   ]
  },
  {
   "cell_type": "code",
   "execution_count": 1,
   "metadata": {},
   "outputs": [
    {
     "data": {
      "text/plain": [
       "' データディレクトリ '"
      ]
     },
     "execution_count": 1,
     "metadata": {},
     "output_type": "execute_result"
    }
   ],
   "source": [
    "# 定数定義\n",
    "DATA_PATH = \"./data\"\n",
    "\"\"\" データディレクトリ \"\"\""
   ]
  },
  {
   "cell_type": "code",
   "execution_count": 2,
   "metadata": {},
   "outputs": [],
   "source": [
    "# インポート定義\n",
    "\n",
    "import pandas as pd\n",
    "import numpy as np\n",
    "import matplotlib.pyplot as plt\n",
    "import lightgbm as lgb\n",
    "from lightgbm import early_stopping, log_evaluation\n",
    "from sklearn.preprocessing import LabelEncoder\n",
    "from sklearn.model_selection import KFold\n",
    "import datetime\n",
    "import gc\n",
    "import os\n",
    "from pandas.api.types import is_datetime64_any_dtype as is_datetime\n",
    "from pandas.api.types import is_categorical_dtype"
   ]
  },
  {
   "cell_type": "code",
   "execution_count": 83,
   "metadata": {},
   "outputs": [],
   "source": [
    "# データ読み込み\n",
    "train_df = pd.read_csv(os.path.join(DATA_PATH, 'train.csv'))\n",
    "\n",
    "# Remove outliers\n",
    "# TODO:なぜこの条件で除外しているかの確認が必要\n",
    "train_df = train_df [ train_df['building_id'] != 1099 ]\n",
    "train_df = train_df.query('not (building_id <= 104 & meter == 0 & timestamp <= \"2016-05-20\")')\n",
    "\n",
    "building_df = pd.read_csv(os.path.join(DATA_PATH, 'building_metadata.csv'))\n",
    "weather_df = pd.read_csv(os.path.join(DATA_PATH, 'weather_train.csv'))"
   ]
  },
  {
   "cell_type": "code",
   "execution_count": 3,
   "metadata": {},
   "outputs": [],
   "source": [
    "# Original code from https://www.kaggle.com/aitude/ashrae-missing-weather-data-handling by @aitude\n",
    "\n",
    "def fill_weather_dataset(weather_df: pd.DataFrame) -> pd.DataFrame:\n",
    "    \"\"\"気象データの欠損値を補完する\n",
    "\n",
    "    Args:\n",
    "        weather_df (pd.DataFrame): 気象データ\n",
    "\n",
    "    Returns:\n",
    "        pd.DataFrame: データ補完後の気象データを返す\n",
    "    \"\"\"\n",
    "    # サイトIDの数\n",
    "    SITE_ID_COUNT = 16\n",
    "\n",
    "    # 気象データの観測時間リストを作成\n",
    "    time_format = \"%Y-%m-%d %H:%M:%S\"\n",
    "    start_date = datetime.datetime.strptime(weather_df['timestamp'].min(),time_format)\n",
    "    end_date = datetime.datetime.strptime(weather_df['timestamp'].max(),time_format)\n",
    "    total_hours = int(((end_date - start_date).total_seconds() + 3600) / 3600)\n",
    "    hours_list = [(end_date - datetime.timedelta(hours=x)).strftime(time_format) for x in range(total_hours)]\n",
    "\n",
    "    # サイト毎に欠損データを追加\n",
    "    # ※追加するデータの値はnanを設定\n",
    "    for site_id in range(SITE_ID_COUNT):\n",
    "        site_hours = np.array(weather_df[weather_df['site_id'] == site_id]['timestamp'])\n",
    "        new_rows = pd.DataFrame(np.setdiff1d(hours_list,site_hours),columns=['timestamp'])\n",
    "        new_rows['site_id'] = site_id\n",
    "        weather_df = pd.concat([weather_df,new_rows])\n",
    "\n",
    "        weather_df = weather_df.reset_index(drop=True)\n",
    "\n",
    "    # 観測日時より、日、週、月のカラムを作成\n",
    "    # ※後述の追加カラムのため\n",
    "    weather_df[\"datetime\"] = pd.to_datetime(weather_df[\"timestamp\"])\n",
    "    weather_df[\"day\"] = weather_df[\"datetime\"].dt.day\n",
    "    weather_df[\"week\"] = weather_df[\"datetime\"].dt.week\n",
    "    weather_df[\"month\"] = weather_df[\"datetime\"].dt.month\n",
    "\n",
    "    # 欠損値を補完    \n",
    "    # データ集計の高速化のため、集計単位でインデックスを作成\n",
    "    weather_df = weather_df.set_index(['site_id','day','month'])\n",
    "\n",
    "    # 気温\n",
    "    air_temperature_filler = pd.DataFrame(weather_df.groupby(['site_id','day','month'])['air_temperature'].mean(),columns=[\"air_temperature\"])\n",
    "    weather_df.update(air_temperature_filler,overwrite=False)\n",
    "\n",
    "    # 雲量\n",
    "    # Step 1 グループ毎の平均値を取得\n",
    "    cloud_coverage_filler = weather_df.groupby(['site_id','day','month'])['cloud_coverage'].mean()\n",
    "    # Step 2 直前に値が設定されている場合、その値を使用する\n",
    "    cloud_coverage_filler = pd.DataFrame(cloud_coverage_filler.fillna(method='ffill'),columns=[\"cloud_coverage\"])\n",
    "\n",
    "    weather_df.update(cloud_coverage_filler,overwrite=False)\n",
    "\n",
    "    # 露点温度(≒湿度)\n",
    "    dew_temperature_filler = pd.DataFrame(weather_df.groupby(['site_id','day','month'])['dew_temperature'].mean(),columns=[\"dew_temperature\"])\n",
    "    weather_df.update(dew_temperature_filler, overwrite=False)\n",
    "\n",
    "    # 海面気圧\n",
    "    # Step 1 グループ毎の平均値を取得\n",
    "    sea_level_filler = weather_df.groupby(['site_id','day','month'])['sea_level_pressure'].mean()\n",
    "    # Step 2 直前に値が設定されている場合、その値を使用する\n",
    "    sea_level_filler = pd.DataFrame(sea_level_filler.fillna(method='ffill'),columns=['sea_level_pressure'])\n",
    "\n",
    "    weather_df.update(sea_level_filler,overwrite=False)\n",
    "\n",
    "    # 風向き\n",
    "    wind_direction_filler =  pd.DataFrame(weather_df.groupby(['site_id','day','month'])['wind_direction'].mean(),columns=['wind_direction'])\n",
    "    weather_df.update(wind_direction_filler,overwrite=False)\n",
    "\n",
    "    # 風速\n",
    "    wind_speed_filler =  pd.DataFrame(weather_df.groupby(['site_id','day','month'])['wind_speed'].mean(),columns=['wind_speed'])\n",
    "    weather_df.update(wind_speed_filler,overwrite=False)\n",
    "\n",
    "    # 降水量\n",
    "    # Step 1 グループ毎の平均値を取得\n",
    "    precip_depth_filler = weather_df.groupby(['site_id','day','month'])['precip_depth_1_hr'].mean()\n",
    "    # Step 2 直前に値が設定されている場合、その値を資料する\n",
    "    precip_depth_filler = pd.DataFrame(precip_depth_filler.fillna(method='ffill'),columns=['precip_depth_1_hr'])\n",
    "\n",
    "    weather_df.update(precip_depth_filler,overwrite=False)\n",
    "\n",
    "    # インデックスを再作成し、欠損値補完用に追加したカラムを削除\n",
    "    weather_df = weather_df.reset_index()\n",
    "    weather_df = weather_df.drop(['datetime','day','week','month'],axis=1)\n",
    "        \n",
    "    return weather_df"
   ]
  },
  {
   "cell_type": "code",
   "execution_count": 4,
   "metadata": {},
   "outputs": [],
   "source": [
    "# Original code from https://www.kaggle.com/gemartin/load-data-reduce-memory-usage by @gemartin\n",
    "\n",
    "def reduce_mem_usage(df: pd.DataFrame, use_float16: bool = False) -> pd.DataFrame:\n",
    "    \"\"\"ロードしたデータを型変換し、容量を削減する\n",
    "\n",
    "    Args:\n",
    "        df (pd.DataFrame): ロードデータ\n",
    "        use_float16 (bool, optional): float16使用フラグ デフォルト値：False\n",
    "\n",
    "    Returns:\n",
    "        pd.DataFrame: 容量削減後のデータを返す\n",
    "    \"\"\"\n",
    "    \n",
    "    start_mem = df.memory_usage().sum() / 1024**2\n",
    "    print(\"Memory usage of dataframe is {:.2f} MB\".format(start_mem))\n",
    "    \n",
    "    for col in df.columns:\n",
    "        if is_datetime(df[col]) or is_categorical_dtype(df[col]):\n",
    "            continue\n",
    "        col_type = df[col].dtype\n",
    "        \n",
    "        if col_type != object:\n",
    "            c_min = df[col].min()\n",
    "            c_max = df[col].max()\n",
    "            if str(col_type)[:3] == \"int\":\n",
    "                if c_min > np.iinfo(np.int8).min and c_max < np.iinfo(np.int8).max:\n",
    "                    df[col] = df[col].astype(np.int8)\n",
    "                elif c_min > np.iinfo(np.int16).min and c_max < np.iinfo(np.int16).max:\n",
    "                    df[col] = df[col].astype(np.int16)\n",
    "                elif c_min > np.iinfo(np.int32).min and c_max < np.iinfo(np.int32).max:\n",
    "                    df[col] = df[col].astype(np.int32)\n",
    "                elif c_min > np.iinfo(np.int64).min and c_max < np.iinfo(np.int64).max:\n",
    "                    df[col] = df[col].astype(np.int64)  \n",
    "            else:\n",
    "                if use_float16 and c_min > np.finfo(np.float16).min and c_max < np.finfo(np.float16).max:\n",
    "                    df[col] = df[col].astype(np.float16)\n",
    "                elif c_min > np.finfo(np.float32).min and c_max < np.finfo(np.float32).max:\n",
    "                    df[col] = df[col].astype(np.float32)\n",
    "                else:\n",
    "                    df[col] = df[col].astype(np.float64)\n",
    "        else:\n",
    "            df[col] = df[col].astype(\"category\")\n",
    "\n",
    "    end_mem = df.memory_usage().sum() / 1024**2\n",
    "    print(\"Memory usage after optimization is: {:.2f} MB\".format(end_mem))\n",
    "    print(\"Decreased by {:.1f}%\".format(100 * (start_mem - end_mem) / start_mem))\n",
    "    \n",
    "    return df"
   ]
  },
  {
   "cell_type": "code",
   "execution_count": 5,
   "metadata": {},
   "outputs": [],
   "source": [
    "def features_engineering(df: pd.DataFrame) -> pd.DataFrame:\n",
    "    \"\"\"特徴量を作成する\n",
    "\n",
    "    Args:\n",
    "        df (pd.DataFrame): ロードしたデータ\n",
    "\n",
    "    Returns:\n",
    "        pd.DataFrame: 特徴量を追加したデータ\n",
    "    \"\"\"\n",
    "    \n",
    "    # 時系列順にソートする\n",
    "    df.sort_values(\"timestamp\")\n",
    "    df.reset_index(drop=True)\n",
    "    \n",
    "    # Add more features\n",
    "    # 日時\n",
    "    df[\"timestamp\"] = pd.to_datetime(df[\"timestamp\"],format=\"%Y-%m-%d %H:%M:%S\")\n",
    "    \n",
    "    # 時間\n",
    "    df[\"hour\"] = df[\"timestamp\"].dt.hour\n",
    "    \n",
    "    # 曜日\n",
    "    df[\"weekend\"] = df[\"timestamp\"].dt.weekday\n",
    "    \n",
    "    # 総床面積 ※logでは0が設定された場合に-∞になるため、log(1+a)にする\n",
    "    df[\"square_feet\"] = np.log1p(df[\"square_feet\"])\n",
    "\n",
    "    # 築年数 ※値が設定されている場合は\"1\"、その他の場合は\"0\"を設定\n",
    "    df[\"year_built\"] = np.where(df[\"year_built\"].notna(), 1, 0)\n",
    "\n",
    "    # 体感温度 ※風による温度影響を測るため、北風をマイナス値(冷たい風)、南風をプラス値(暖かい風)とし、風速を掛けた値を設定する\n",
    "    df[\"wind_direction\"] = -np.sin(np.radians(df[\"wind_direction\"] % 360)) \n",
    "    df[\"wind_warn\"] = df[\"wind_direction\"] * df[\"wind_speed\"]\n",
    "    \n",
    "    # 使用しないカラムを削除する\n",
    "    drop = [\"timestamp\",\"sea_level_pressure\", \"wind_direction\", \"wind_speed\", \"floor_count\", \"building_id\"]\n",
    "    df = df.drop(drop, axis=1)\n",
    "    gc.collect()\n",
    "    \n",
    "    # Encode Categorical Data\n",
    "    le = LabelEncoder()\n",
    "    df[\"primary_use\"] = le.fit_transform(df[\"primary_use\"])\n",
    "    \n",
    "    return df"
   ]
  },
  {
   "cell_type": "code",
   "execution_count": 87,
   "metadata": {},
   "outputs": [
    {
     "name": "stderr",
     "output_type": "stream",
     "text": [
      "/var/folders/km/rlhv761j4rqcrksj6ch5bw_r0000gn/T/ipykernel_1585/703020239.py:36: FutureWarning: Series.dt.weekofyear and Series.dt.week have been deprecated. Please use Series.dt.isocalendar().week instead.\n",
      "  weather_df[\"week\"] = weather_df[\"datetime\"].dt.week\n"
     ]
    }
   ],
   "source": [
    "# 気象データの欠損値を補完する\n",
    "weather_df = fill_weather_dataset(weather_df)"
   ]
  },
  {
   "cell_type": "code",
   "execution_count": 88,
   "metadata": {},
   "outputs": [
    {
     "name": "stdout",
     "output_type": "stream",
     "text": [
      "Memory usage of dataframe is 757.31 MB\n",
      "Memory usage after optimization is: 322.18 MB\n",
      "Decreased by 57.5%\n",
      "Memory usage of dataframe is 0.07 MB\n",
      "Memory usage after optimization is: 0.02 MB\n",
      "Decreased by 73.9%\n",
      "Memory usage of dataframe is 9.65 MB\n",
      "Memory usage after optimization is: 2.60 MB\n",
      "Decreased by 73.1%\n"
     ]
    }
   ],
   "source": [
    "# データ容量を削減する\n",
    "train_df = reduce_mem_usage(train_df,use_float16=True)\n",
    "building_df = reduce_mem_usage(building_df,use_float16=True)\n",
    "weather_df = reduce_mem_usage(weather_df,use_float16=True)"
   ]
  },
  {
   "cell_type": "code",
   "execution_count": null,
   "metadata": {},
   "outputs": [],
   "source": [
    "# コーディング用にロード、加工したデータを保存する\n",
    "# TODO:テストコードのため、要削除\n",
    "# train_df.to_pickle(os.path.join(DATA_PATH, \"train_df.pkl\"))\n",
    "# building_df.to_pickle(os.path.join(DATA_PATH, \"building_df.pkl\"))\n",
    "# weather_df.to_pickle(os.path.join(DATA_PATH, \"weather_df.pkl\"))"
   ]
  },
  {
   "cell_type": "code",
   "execution_count": 6,
   "metadata": {},
   "outputs": [],
   "source": [
    "# コーディング用に保存したデータをロードする\n",
    "# TODO:テストコードのため、要削除\n",
    "train_df = pd.read_pickle(os.path.join(DATA_PATH, \"train_df.pkl\"))\n",
    "building_df = pd.read_pickle(os.path.join(DATA_PATH, \"building_df.pkl\"))\n",
    "weather_df = pd.read_pickle(os.path.join(DATA_PATH, \"weather_df.pkl\"))"
   ]
  },
  {
   "cell_type": "code",
   "execution_count": 7,
   "metadata": {},
   "outputs": [
    {
     "data": {
      "text/plain": [
       "0"
      ]
     },
     "execution_count": 7,
     "metadata": {},
     "output_type": "execute_result"
    }
   ],
   "source": [
    "# 各データを結合する\n",
    "train_df = train_df.merge(building_df, left_on='building_id',right_on='building_id',how='left')\n",
    "train_df = train_df.merge(weather_df,how='left',left_on=['site_id','timestamp'],right_on=['site_id', 'timestamp'])\n",
    "del weather_df\n",
    "gc.collect()"
   ]
  },
  {
   "cell_type": "code",
   "execution_count": 8,
   "metadata": {},
   "outputs": [],
   "source": [
    "# 特徴量を作成する\n",
    "train_df = features_engineering(train_df)"
   ]
  },
  {
   "cell_type": "code",
   "execution_count": 9,
   "metadata": {},
   "outputs": [
    {
     "data": {
      "text/plain": [
       "0"
      ]
     },
     "execution_count": 9,
     "metadata": {},
     "output_type": "execute_result"
    }
   ],
   "source": [
    "# データを目的変数と特徴量変数に分割する\n",
    "target = np.log1p(train_df[\"meter_reading\"])\n",
    "features = train_df.drop(\"meter_reading\", axis = 1)\n",
    "del train_df\n",
    "gc.collect()"
   ]
  },
  {
   "cell_type": "code",
   "execution_count": 10,
   "metadata": {},
   "outputs": [
    {
     "name": "stderr",
     "output_type": "stream",
     "text": [
      "/opt/homebrew/Caskroom/miniforge/base/envs/python_3.10/lib/python3.10/site-packages/lightgbm/basic.py:2068: UserWarning: categorical_feature in Dataset is overridden.\n",
      "New categorical_feature is ['hour', 'meter', 'primary_use', 'site_id', 'weekend', 'year_built']\n",
      "  _log_warning('categorical_feature in Dataset is overridden.\\n'\n",
      "/opt/homebrew/Caskroom/miniforge/base/envs/python_3.10/lib/python3.10/site-packages/lightgbm/basic.py:1780: UserWarning: Overriding the parameters from Reference Dataset.\n",
      "  _log_warning('Overriding the parameters from Reference Dataset.')\n",
      "/opt/homebrew/Caskroom/miniforge/base/envs/python_3.10/lib/python3.10/site-packages/lightgbm/basic.py:1513: UserWarning: categorical_column in param dict is overridden.\n",
      "  _log_warning(f'{cat_alias} in param dict is overridden.')\n"
     ]
    },
    {
     "name": "stdout",
     "output_type": "stream",
     "text": [
      "Training until validation scores don't improve for 50 rounds\n",
      "[25]\ttraining's rmse: 1.56859\tvalid_1's rmse: 1.61262\n",
      "[50]\ttraining's rmse: 1.40206\tvalid_1's rmse: 1.45214\n",
      "[75]\ttraining's rmse: 1.32763\tvalid_1's rmse: 1.38873\n",
      "[100]\ttraining's rmse: 1.28453\tvalid_1's rmse: 1.353\n",
      "[125]\ttraining's rmse: 1.24902\tvalid_1's rmse: 1.32707\n",
      "[150]\ttraining's rmse: 1.22391\tvalid_1's rmse: 1.30587\n",
      "[175]\ttraining's rmse: 1.20051\tvalid_1's rmse: 1.28699\n",
      "[200]\ttraining's rmse: 1.18021\tvalid_1's rmse: 1.27455\n",
      "[225]\ttraining's rmse: 1.16066\tvalid_1's rmse: 1.26161\n",
      "[250]\ttraining's rmse: 1.14326\tvalid_1's rmse: 1.25332\n",
      "[275]\ttraining's rmse: 1.12909\tvalid_1's rmse: 1.24595\n",
      "[300]\ttraining's rmse: 1.11689\tvalid_1's rmse: 1.23822\n",
      "[325]\ttraining's rmse: 1.10087\tvalid_1's rmse: 1.23029\n",
      "[350]\ttraining's rmse: 1.09074\tvalid_1's rmse: 1.22553\n",
      "[375]\ttraining's rmse: 1.08112\tvalid_1's rmse: 1.22036\n",
      "[400]\ttraining's rmse: 1.07316\tvalid_1's rmse: 1.21666\n",
      "[425]\ttraining's rmse: 1.06486\tvalid_1's rmse: 1.21293\n",
      "[450]\ttraining's rmse: 1.05556\tvalid_1's rmse: 1.20895\n",
      "[475]\ttraining's rmse: 1.04623\tvalid_1's rmse: 1.20513\n",
      "[500]\ttraining's rmse: 1.03803\tvalid_1's rmse: 1.19964\n",
      "[525]\ttraining's rmse: 1.03107\tvalid_1's rmse: 1.19675\n",
      "[550]\ttraining's rmse: 1.02282\tvalid_1's rmse: 1.1926\n",
      "[575]\ttraining's rmse: 1.01401\tvalid_1's rmse: 1.18864\n",
      "[600]\ttraining's rmse: 1.00701\tvalid_1's rmse: 1.18447\n",
      "[625]\ttraining's rmse: 1.00144\tvalid_1's rmse: 1.18244\n",
      "[650]\ttraining's rmse: 0.994877\tvalid_1's rmse: 1.17876\n",
      "[675]\ttraining's rmse: 0.990985\tvalid_1's rmse: 1.17789\n",
      "[700]\ttraining's rmse: 0.986185\tvalid_1's rmse: 1.17603\n",
      "[725]\ttraining's rmse: 0.980989\tvalid_1's rmse: 1.1746\n",
      "[750]\ttraining's rmse: 0.976776\tvalid_1's rmse: 1.17313\n",
      "[775]\ttraining's rmse: 0.972731\tvalid_1's rmse: 1.17158\n",
      "[800]\ttraining's rmse: 0.968956\tvalid_1's rmse: 1.16992\n",
      "[825]\ttraining's rmse: 0.965356\tvalid_1's rmse: 1.16909\n",
      "[850]\ttraining's rmse: 0.961108\tvalid_1's rmse: 1.16836\n",
      "[875]\ttraining's rmse: 0.957138\tvalid_1's rmse: 1.16724\n",
      "[900]\ttraining's rmse: 0.953892\tvalid_1's rmse: 1.16678\n",
      "[925]\ttraining's rmse: 0.95111\tvalid_1's rmse: 1.1661\n",
      "[950]\ttraining's rmse: 0.948491\tvalid_1's rmse: 1.16522\n",
      "[975]\ttraining's rmse: 0.946242\tvalid_1's rmse: 1.16427\n",
      "[1000]\ttraining's rmse: 0.943445\tvalid_1's rmse: 1.16377\n",
      "Did not meet early stopping. Best iteration is:\n",
      "[1000]\ttraining's rmse: 0.943445\tvalid_1's rmse: 1.16377\n"
     ]
    },
    {
     "name": "stderr",
     "output_type": "stream",
     "text": [
      "/opt/homebrew/Caskroom/miniforge/base/envs/python_3.10/lib/python3.10/site-packages/lightgbm/basic.py:2068: UserWarning: categorical_feature in Dataset is overridden.\n",
      "New categorical_feature is ['hour', 'meter', 'primary_use', 'site_id', 'weekend', 'year_built']\n",
      "  _log_warning('categorical_feature in Dataset is overridden.\\n'\n",
      "/opt/homebrew/Caskroom/miniforge/base/envs/python_3.10/lib/python3.10/site-packages/lightgbm/basic.py:1780: UserWarning: Overriding the parameters from Reference Dataset.\n",
      "  _log_warning('Overriding the parameters from Reference Dataset.')\n",
      "/opt/homebrew/Caskroom/miniforge/base/envs/python_3.10/lib/python3.10/site-packages/lightgbm/basic.py:1513: UserWarning: categorical_column in param dict is overridden.\n",
      "  _log_warning(f'{cat_alias} in param dict is overridden.')\n"
     ]
    },
    {
     "name": "stdout",
     "output_type": "stream",
     "text": [
      "[25]\ttraining's rmse: 1.52893\tvalid_1's rmse: 1.62229\n",
      "[50]\ttraining's rmse: 1.37308\tvalid_1's rmse: 1.4922\n",
      "[75]\ttraining's rmse: 1.30209\tvalid_1's rmse: 1.42881\n",
      "[100]\ttraining's rmse: 1.25923\tvalid_1's rmse: 1.39267\n",
      "[125]\ttraining's rmse: 1.22902\tvalid_1's rmse: 1.3649\n",
      "[150]\ttraining's rmse: 1.20347\tvalid_1's rmse: 1.34148\n",
      "[175]\ttraining's rmse: 1.1832\tvalid_1's rmse: 1.32318\n",
      "[200]\ttraining's rmse: 1.1648\tvalid_1's rmse: 1.30955\n",
      "[225]\ttraining's rmse: 1.14844\tvalid_1's rmse: 1.29366\n",
      "[250]\ttraining's rmse: 1.13457\tvalid_1's rmse: 1.27839\n",
      "[275]\ttraining's rmse: 1.12057\tvalid_1's rmse: 1.26401\n",
      "[300]\ttraining's rmse: 1.11198\tvalid_1's rmse: 1.25586\n",
      "[325]\ttraining's rmse: 1.10346\tvalid_1's rmse: 1.24777\n",
      "[350]\ttraining's rmse: 1.09037\tvalid_1's rmse: 1.2349\n",
      "[375]\ttraining's rmse: 1.0818\tvalid_1's rmse: 1.22717\n",
      "[400]\ttraining's rmse: 1.07428\tvalid_1's rmse: 1.22023\n",
      "[425]\ttraining's rmse: 1.06747\tvalid_1's rmse: 1.2153\n",
      "[450]\ttraining's rmse: 1.06083\tvalid_1's rmse: 1.20557\n",
      "[475]\ttraining's rmse: 1.05198\tvalid_1's rmse: 1.19932\n",
      "[500]\ttraining's rmse: 1.04581\tvalid_1's rmse: 1.19424\n",
      "[525]\ttraining's rmse: 1.0401\tvalid_1's rmse: 1.18998\n",
      "[550]\ttraining's rmse: 1.033\tvalid_1's rmse: 1.18305\n",
      "[575]\ttraining's rmse: 1.02807\tvalid_1's rmse: 1.17966\n",
      "[600]\ttraining's rmse: 1.02371\tvalid_1's rmse: 1.17632\n",
      "[625]\ttraining's rmse: 1.01828\tvalid_1's rmse: 1.1716\n",
      "[650]\ttraining's rmse: 1.01421\tvalid_1's rmse: 1.16813\n",
      "[675]\ttraining's rmse: 1.00825\tvalid_1's rmse: 1.1629\n",
      "[700]\ttraining's rmse: 1.00474\tvalid_1's rmse: 1.1607\n",
      "[725]\ttraining's rmse: 1.00063\tvalid_1's rmse: 1.15821\n",
      "[750]\ttraining's rmse: 0.996074\tvalid_1's rmse: 1.15623\n",
      "[775]\ttraining's rmse: 0.992478\tvalid_1's rmse: 1.15399\n",
      "[800]\ttraining's rmse: 0.988757\tvalid_1's rmse: 1.1513\n",
      "[825]\ttraining's rmse: 0.985152\tvalid_1's rmse: 1.14928\n",
      "[850]\ttraining's rmse: 0.981763\tvalid_1's rmse: 1.14809\n",
      "[875]\ttraining's rmse: 0.97803\tvalid_1's rmse: 1.14543\n",
      "[900]\ttraining's rmse: 0.974617\tvalid_1's rmse: 1.14316\n",
      "[925]\ttraining's rmse: 0.971629\tvalid_1's rmse: 1.14169\n",
      "[950]\ttraining's rmse: 0.968767\tvalid_1's rmse: 1.13986\n",
      "[975]\ttraining's rmse: 0.966418\tvalid_1's rmse: 1.13842\n",
      "[1000]\ttraining's rmse: 0.963381\tvalid_1's rmse: 1.13658\n",
      "Did not meet early stopping. Best iteration is:\n",
      "[1000]\ttraining's rmse: 0.943445\tvalid_1's rmse: 1.16377\n"
     ]
    },
    {
     "name": "stderr",
     "output_type": "stream",
     "text": [
      "/opt/homebrew/Caskroom/miniforge/base/envs/python_3.10/lib/python3.10/site-packages/lightgbm/basic.py:2068: UserWarning: categorical_feature in Dataset is overridden.\n",
      "New categorical_feature is ['hour', 'meter', 'primary_use', 'site_id', 'weekend', 'year_built']\n",
      "  _log_warning('categorical_feature in Dataset is overridden.\\n'\n",
      "/opt/homebrew/Caskroom/miniforge/base/envs/python_3.10/lib/python3.10/site-packages/lightgbm/basic.py:1780: UserWarning: Overriding the parameters from Reference Dataset.\n",
      "  _log_warning('Overriding the parameters from Reference Dataset.')\n",
      "/opt/homebrew/Caskroom/miniforge/base/envs/python_3.10/lib/python3.10/site-packages/lightgbm/basic.py:1513: UserWarning: categorical_column in param dict is overridden.\n",
      "  _log_warning(f'{cat_alias} in param dict is overridden.')\n"
     ]
    },
    {
     "name": "stdout",
     "output_type": "stream",
     "text": [
      "[25]\ttraining's rmse: 1.55009\tvalid_1's rmse: 1.57015\n",
      "[50]\ttraining's rmse: 1.40318\tvalid_1's rmse: 1.44418\n",
      "[75]\ttraining's rmse: 1.32606\tvalid_1's rmse: 1.38416\n",
      "[100]\ttraining's rmse: 1.27514\tvalid_1's rmse: 1.34828\n",
      "[125]\ttraining's rmse: 1.23714\tvalid_1's rmse: 1.32436\n",
      "[150]\ttraining's rmse: 1.20838\tvalid_1's rmse: 1.30655\n",
      "[175]\ttraining's rmse: 1.18307\tvalid_1's rmse: 1.29153\n",
      "[200]\ttraining's rmse: 1.16243\tvalid_1's rmse: 1.28127\n",
      "[225]\ttraining's rmse: 1.14555\tvalid_1's rmse: 1.27344\n",
      "[250]\ttraining's rmse: 1.13073\tvalid_1's rmse: 1.267\n",
      "[275]\ttraining's rmse: 1.11688\tvalid_1's rmse: 1.25939\n",
      "[300]\ttraining's rmse: 1.09946\tvalid_1's rmse: 1.25215\n",
      "[325]\ttraining's rmse: 1.08361\tvalid_1's rmse: 1.24576\n",
      "[350]\ttraining's rmse: 1.07082\tvalid_1's rmse: 1.23928\n",
      "[375]\ttraining's rmse: 1.06126\tvalid_1's rmse: 1.23517\n",
      "[400]\ttraining's rmse: 1.05201\tvalid_1's rmse: 1.23102\n",
      "[425]\ttraining's rmse: 1.04099\tvalid_1's rmse: 1.22568\n",
      "[450]\ttraining's rmse: 1.02908\tvalid_1's rmse: 1.22045\n",
      "[475]\ttraining's rmse: 1.02125\tvalid_1's rmse: 1.21811\n",
      "[500]\ttraining's rmse: 1.01178\tvalid_1's rmse: 1.21561\n",
      "[525]\ttraining's rmse: 1.00386\tvalid_1's rmse: 1.21248\n",
      "[550]\ttraining's rmse: 0.995722\tvalid_1's rmse: 1.20831\n",
      "[575]\ttraining's rmse: 0.988446\tvalid_1's rmse: 1.20539\n",
      "[600]\ttraining's rmse: 0.981338\tvalid_1's rmse: 1.20255\n",
      "[625]\ttraining's rmse: 0.976137\tvalid_1's rmse: 1.20026\n",
      "[650]\ttraining's rmse: 0.969948\tvalid_1's rmse: 1.19842\n",
      "[675]\ttraining's rmse: 0.965842\tvalid_1's rmse: 1.19693\n",
      "[700]\ttraining's rmse: 0.961198\tvalid_1's rmse: 1.19559\n",
      "[725]\ttraining's rmse: 0.955646\tvalid_1's rmse: 1.19439\n",
      "[750]\ttraining's rmse: 0.950319\tvalid_1's rmse: 1.19317\n",
      "[775]\ttraining's rmse: 0.945253\tvalid_1's rmse: 1.1915\n",
      "[800]\ttraining's rmse: 0.938957\tvalid_1's rmse: 1.18939\n",
      "[825]\ttraining's rmse: 0.934511\tvalid_1's rmse: 1.1879\n",
      "[850]\ttraining's rmse: 0.930701\tvalid_1's rmse: 1.18671\n",
      "[875]\ttraining's rmse: 0.926285\tvalid_1's rmse: 1.18511\n",
      "[900]\ttraining's rmse: 0.921544\tvalid_1's rmse: 1.18376\n",
      "[925]\ttraining's rmse: 0.917661\tvalid_1's rmse: 1.18275\n",
      "[950]\ttraining's rmse: 0.913788\tvalid_1's rmse: 1.18194\n",
      "[975]\ttraining's rmse: 0.910637\tvalid_1's rmse: 1.18145\n",
      "[1000]\ttraining's rmse: 0.906986\tvalid_1's rmse: 1.18097\n",
      "Did not meet early stopping. Best iteration is:\n",
      "[1000]\ttraining's rmse: 0.906986\tvalid_1's rmse: 1.18097\n"
     ]
    }
   ],
   "source": [
    "# カテゴリ変数リスト\n",
    "categorical_features = [\"site_id\", \"meter\", \"primary_use\", \"hour\", \"weekend\", \"year_built\"]\n",
    "\n",
    "# パラメーター設定\n",
    "params = {\n",
    "    \"objective\": \"regression\", # 目的関数：回帰\n",
    "    \"boosting\": \"gbdt\", # 勾配ブースティング\n",
    "    # \"seed\": 314, #シード値\n",
    "    \"num_leaves\": 62, # 決定木の端末ノードの数\n",
    "    #\"max_depth\": 7, #決定木の深さ\n",
    "    \"learning_rate\": 0.05, # 学習率\n",
    "    \"feature_fraction\": 0.85, # 特徴量の削減率 ※1未満の場合、特徴量を削減して学習される\n",
    "    \"reg_lambda\": 2, # L2正則化項の係数 ※過学習を防ぐために用いる関数のパラメータ\n",
    "    \"metric\": \"rmse\",# モデルの性能を測る指標 ※二乗平均平方根誤差\n",
    "    \"force_row_wise\": True, # 行ベースのヒストグラムを生成する\n",
    "    \"verbose\": -1\n",
    "}\n",
    "\n",
    "# シード値｀\n",
    "seeds = [314, 2801, 3532]\n",
    "\n",
    "earlyStoppingcallback = early_stopping(50)\n",
    "logEvaluationCallback = log_evaluation(25)\n",
    "\n",
    "# 学習実行\n",
    "cnt = 0\n",
    "kf = KFold(n_splits=3)\n",
    "models = []\n",
    "for train_index, test_index in kf.split(features):\n",
    "    train_features = features.loc[train_index]\n",
    "    train_target = target.loc[train_index]\n",
    "    \n",
    "    test_features = features.loc[test_index]\n",
    "    test_target = target.loc[test_index]\n",
    "\n",
    "    # データセット作成    \n",
    "    d_training = lgb.Dataset(train_features, label=train_target, free_raw_data=False)\n",
    "    d_test = lgb.Dataset(test_features, label=test_target, free_raw_data=False)\n",
    "    \n",
    "    params[\"seed\"] = seeds[cnt]\n",
    "\n",
    "    # 学習実行\n",
    "    model = lgb.train(\n",
    "        params,\n",
    "        train_set=d_training,\n",
    "        num_boost_round=1000,\n",
    "        valid_sets=[d_training, d_test],\n",
    "        categorical_feature=categorical_features,\n",
    "        callbacks=[\n",
    "            earlyStoppingcallback,\n",
    "            logEvaluationCallback\n",
    "        ]\n",
    "    )\n",
    "    \n",
    "    models.append(model)\n",
    "    cnt += 1\n",
    "    \n",
    "    del train_features, train_target, test_features, test_target, d_training, d_test\n",
    "    gc.collect()"
   ]
  },
  {
   "cell_type": "code",
   "execution_count": 11,
   "metadata": {},
   "outputs": [
    {
     "data": {
      "text/plain": [
       "0"
      ]
     },
     "execution_count": 11,
     "metadata": {},
     "output_type": "execute_result"
    }
   ],
   "source": [
    "# メモリ解放\n",
    "del features, target\n",
    "gc.collect()"
   ]
  },
  {
   "cell_type": "code",
   "execution_count": 12,
   "metadata": {},
   "outputs": [
    {
     "data": {
      "image/png": "[encoded data removed]",
      "text/plain": [
       "<Figure size 432x288 with 1 Axes>"
      ]
     },
     "metadata": {
      "needs_background": "light"
     },
     "output_type": "display_data"
    },
    {
     "data": {
      "image/png": "[encoded data removed]",
      "text/plain": [
       "<Figure size 432x288 with 1 Axes>"
      ]
     },
     "metadata": {
      "needs_background": "light"
     },
     "output_type": "display_data"
    },
    {
     "data": {
      "image/png": "[encoded data removed]",
      "text/plain": [
       "<Figure size 432x288 with 1 Axes>"
      ]
     },
     "metadata": {
      "needs_background": "light"
     },
     "output_type": "display_data"
    }
   ],
   "source": [
    "# 学習結果をプロット\n",
    "for model in models:\n",
    "    lgb.plot_importance(model)\n",
    "    plt.show()\n",
    "    # lgb.create_tree_digraph(model)"
   ]
  },
  {
   "cell_type": "code",
   "execution_count": 13,
   "metadata": {},
   "outputs": [
    {
     "name": "stdout",
     "output_type": "stream",
     "text": [
      "Memory usage of dataframe is 954.38 MB\n",
      "Memory usage after optimization is: 199.47 MB\n",
      "Decreased by 79.1%\n"
     ]
    }
   ],
   "source": [
    "# テストデータ読み込み\n",
    "test_df = pd.read_csv(os.path.join(DATA_PATH, 'test.csv'))\n",
    "row_ids = test_df[\"row_id\"]\n",
    "test_df.drop(\"row_id\", axis=1, inplace=True)\n",
    "test_df = reduce_mem_usage(test_df)"
   ]
  },
  {
   "cell_type": "code",
   "execution_count": null,
   "metadata": {},
   "outputs": [],
   "source": [
    "# コーディング用にロード、加工したデータを保存する\n",
    "# TODO:テストコードのため、要削除\n",
    "# test_df.to_pickle(os.path.join(DATA_PATH, \"test_df.pkl\"))"
   ]
  },
  {
   "cell_type": "code",
   "execution_count": 14,
   "metadata": {},
   "outputs": [],
   "source": [
    "# コーディング用に保存したデータをロードする\n",
    "# TODO:テストコードのため、要削除\n",
    "test_df = pd.read_pickle(os.path.join(DATA_PATH, \"test_df.pkl\"))"
   ]
  },
  {
   "cell_type": "code",
   "execution_count": 14,
   "metadata": {},
   "outputs": [
    {
     "data": {
      "text/plain": [
       "14849"
      ]
     },
     "execution_count": 14,
     "metadata": {},
     "output_type": "execute_result"
    }
   ],
   "source": [
    "# ビルデータを結合\n",
    "test_df = test_df.merge(building_df,left_on='building_id',right_on='building_id',how='left')\n",
    "del building_df\n",
    "gc.collect()"
   ]
  },
  {
   "cell_type": "code",
   "execution_count": 16,
   "metadata": {},
   "outputs": [
    {
     "name": "stderr",
     "output_type": "stream",
     "text": [
      "/var/folders/km/rlhv761j4rqcrksj6ch5bw_r0000gn/T/ipykernel_2170/703020239.py:36: FutureWarning: Series.dt.weekofyear and Series.dt.week have been deprecated. Please use Series.dt.isocalendar().week instead.\n",
      "  weather_df[\"week\"] = weather_df[\"datetime\"].dt.week\n"
     ]
    },
    {
     "name": "stdout",
     "output_type": "stream",
     "text": [
      "Memory usage of dataframe is 19.25 MB\n",
      "Memory usage after optimization is: 8.93 MB\n",
      "Decreased by 53.6%\n"
     ]
    }
   ],
   "source": [
    "# テスト気象データ読み込み、データを結合\n",
    "weather_df = pd.read_csv(os.path.join(DATA_PATH, 'weather_test.csv'))\n",
    "weather_df = fill_weather_dataset(weather_df)\n",
    "weather_df = reduce_mem_usage(weather_df)"
   ]
  },
  {
   "cell_type": "code",
   "execution_count": null,
   "metadata": {},
   "outputs": [],
   "source": [
    "# コーディング用にロード、加工したデータを保存する\n",
    "# TODO:テストコードのため、要削除\n",
    "# weather_df.to_pickle(os.path.join(DATA_PATH, \"weather_test_df.pkl\"))"
   ]
  },
  {
   "cell_type": "code",
   "execution_count": 15,
   "metadata": {},
   "outputs": [],
   "source": [
    "# コーディング用に保存したデータをロードする\n",
    "# TODO:テストコードのため、要削除\n",
    "weather_df = pd.read_pickle(os.path.join(DATA_PATH, \"weather_test_df.pkl\"))"
   ]
  },
  {
   "cell_type": "code",
   "execution_count": 16,
   "metadata": {},
   "outputs": [
    {
     "data": {
      "text/plain": [
       "0"
      ]
     },
     "execution_count": 16,
     "metadata": {},
     "output_type": "execute_result"
    }
   ],
   "source": [
    "# 気象データをテストデータへ結合\n",
    "test_df = test_df.merge(weather_df,how='left',on=['timestamp','site_id'])\n",
    "del weather_df\n",
    "gc.collect()"
   ]
  },
  {
   "cell_type": "code",
   "execution_count": 17,
   "metadata": {},
   "outputs": [],
   "source": [
    "# 特徴量を作成する\n",
    "test_df = features_engineering(test_df)"
   ]
  },
  {
   "cell_type": "code",
   "execution_count": 18,
   "metadata": {},
   "outputs": [
    {
     "name": "stderr",
     "output_type": "stream",
     "text": [
      "/var/folders/km/rlhv761j4rqcrksj6ch5bw_r0000gn/T/ipykernel_5037/3602265000.py:4: DeprecationWarning: elementwise comparison failed; this will raise an error in the future.\n",
      "  if  results == []:\n"
     ]
    }
   ],
   "source": [
    "# 推定する\n",
    "results = []\n",
    "for model in models:\n",
    "    if  results == []:\n",
    "        results = np.expm1(model.predict(test_df, num_iteration=model.best_iteration)) / len(models)\n",
    "    else:\n",
    "        results += np.expm1(model.predict(test_df, num_iteration=model.best_iteration)) / len(models)\n",
    "    # del model\n",
    "    gc.collect()"
   ]
  },
  {
   "cell_type": "code",
   "execution_count": 145,
   "metadata": {},
   "outputs": [
    {
     "data": {
      "text/plain": [
       "15"
      ]
     },
     "execution_count": 145,
     "metadata": {},
     "output_type": "execute_result"
    }
   ],
   "source": [
    "# データ、モデル削除\n",
    "del test_df, models\n",
    "gc.collect()"
   ]
  },
  {
   "cell_type": "code",
   "execution_count": 19,
   "metadata": {},
   "outputs": [],
   "source": [
    "# 提出データ作成\n",
    "results_df = pd.DataFrame({\"row_id\": row_ids, \"meter_reading\": np.clip(results, 0, a_max=None)})\n",
    "del row_ids,results\n",
    "gc.collect()\n",
    "results_df.to_csv(\"submission.csv\", index=False)"
   ]
  },
  {
   "cell_type": "code",
   "execution_count": 24,
   "metadata": {},
   "outputs": [
    {
     "data": {
      "text/html": [
       "<div>\n",
       "<style scoped>\n",
       "    .dataframe tbody tr th:only-of-type {\n",
       "        vertical-align: middle;\n",
       "    }\n",
       "\n",
       "    .dataframe tbody tr th {\n",
       "        vertical-align: top;\n",
       "    }\n",
       "\n",
       "    .dataframe thead th {\n",
       "        text-align: right;\n",
       "    }\n",
       "</style>\n",
       "<table border=\"1\" class=\"dataframe\">\n",
       "  <thead>\n",
       "    <tr style=\"text-align: right;\">\n",
       "      <th></th>\n",
       "      <th>row_id</th>\n",
       "      <th>meter_reading</th>\n",
       "    </tr>\n",
       "  </thead>\n",
       "  <tbody>\n",
       "    <tr>\n",
       "      <th>0</th>\n",
       "      <td>0</td>\n",
       "      <td>123.849259</td>\n",
       "    </tr>\n",
       "    <tr>\n",
       "      <th>1</th>\n",
       "      <td>1</td>\n",
       "      <td>62.940305</td>\n",
       "    </tr>\n",
       "    <tr>\n",
       "      <th>2</th>\n",
       "      <td>2</td>\n",
       "      <td>9.525832</td>\n",
       "    </tr>\n",
       "    <tr>\n",
       "      <th>3</th>\n",
       "      <td>3</td>\n",
       "      <td>237.300438</td>\n",
       "    </tr>\n",
       "    <tr>\n",
       "      <th>4</th>\n",
       "      <td>4</td>\n",
       "      <td>1260.965857</td>\n",
       "    </tr>\n",
       "    <tr>\n",
       "      <th>5</th>\n",
       "      <td>5</td>\n",
       "      <td>62.410361</td>\n",
       "    </tr>\n",
       "    <tr>\n",
       "      <th>6</th>\n",
       "      <td>6</td>\n",
       "      <td>116.221314</td>\n",
       "    </tr>\n",
       "    <tr>\n",
       "      <th>7</th>\n",
       "      <td>7</td>\n",
       "      <td>592.043077</td>\n",
       "    </tr>\n",
       "    <tr>\n",
       "      <th>8</th>\n",
       "      <td>8</td>\n",
       "      <td>397.530478</td>\n",
       "    </tr>\n",
       "    <tr>\n",
       "      <th>9</th>\n",
       "      <td>9</td>\n",
       "      <td>307.365620</td>\n",
       "    </tr>\n",
       "    <tr>\n",
       "      <th>10</th>\n",
       "      <td>10</td>\n",
       "      <td>78.850009</td>\n",
       "    </tr>\n",
       "    <tr>\n",
       "      <th>11</th>\n",
       "      <td>11</td>\n",
       "      <td>21.989914</td>\n",
       "    </tr>\n",
       "    <tr>\n",
       "      <th>12</th>\n",
       "      <td>12</td>\n",
       "      <td>1375.901619</td>\n",
       "    </tr>\n",
       "    <tr>\n",
       "      <th>13</th>\n",
       "      <td>13</td>\n",
       "      <td>301.028441</td>\n",
       "    </tr>\n",
       "    <tr>\n",
       "      <th>14</th>\n",
       "      <td>14</td>\n",
       "      <td>184.301326</td>\n",
       "    </tr>\n",
       "    <tr>\n",
       "      <th>15</th>\n",
       "      <td>15</td>\n",
       "      <td>215.713726</td>\n",
       "    </tr>\n",
       "    <tr>\n",
       "      <th>16</th>\n",
       "      <td>16</td>\n",
       "      <td>53.561271</td>\n",
       "    </tr>\n",
       "    <tr>\n",
       "      <th>17</th>\n",
       "      <td>17</td>\n",
       "      <td>313.678808</td>\n",
       "    </tr>\n",
       "    <tr>\n",
       "      <th>18</th>\n",
       "      <td>18</td>\n",
       "      <td>199.472239</td>\n",
       "    </tr>\n",
       "    <tr>\n",
       "      <th>19</th>\n",
       "      <td>19</td>\n",
       "      <td>224.539304</td>\n",
       "    </tr>\n",
       "  </tbody>\n",
       "</table>\n",
       "</div>"
      ],
      "text/plain": [
       "    row_id  meter_reading\n",
       "0        0     123.849259\n",
       "1        1      62.940305\n",
       "2        2       9.525832\n",
       "3        3     237.300438\n",
       "4        4    1260.965857\n",
       "5        5      62.410361\n",
       "6        6     116.221314\n",
       "7        7     592.043077\n",
       "8        8     397.530478\n",
       "9        9     307.365620\n",
       "10      10      78.850009\n",
       "11      11      21.989914\n",
       "12      12    1375.901619\n",
       "13      13     301.028441\n",
       "14      14     184.301326\n",
       "15      15     215.713726\n",
       "16      16      53.561271\n",
       "17      17     313.678808\n",
       "18      18     199.472239\n",
       "19      19     224.539304"
      ]
     },
     "execution_count": 24,
     "metadata": {},
     "output_type": "execute_result"
    }
   ],
   "source": [
    "results_df.head(20)"
   ]
  },
  {
   "cell_type": "code",
   "execution_count": 20,
   "metadata": {},
   "outputs": [
    {
     "name": "stdout",
     "output_type": "stream",
     "text": [
      "100%|██████████████████████████████████████| 1.05G/1.05G [02:52<00:00, 6.56MB/s]\n",
      "Successfully submitted to ASHRAE - Great Energy Predictor III"
     ]
    }
   ],
   "source": [
    "# 推定結果を提出\n",
    "!kaggle competitions submit  -f submission.csv -m \"lightGBMを用いて推定 4回目提出 パラメーターを調整し、学習・推定の処理時間を短縮\" ashrae-energy-prediction"
   ]
  },
  {
   "cell_type": "markdown",
   "metadata": {},
   "source": [
    "---\n",
    "\n",
    "以下、テストコード"
   ]
  },
  {
   "cell_type": "code",
   "execution_count": null,
   "metadata": {},
   "outputs": [
    {
     "name": "stderr",
     "output_type": "stream",
     "text": [
      "/var/folders/km/rlhv761j4rqcrksj6ch5bw_r0000gn/T/ipykernel_19513/2116604713.py:3: FutureWarning: In a future version of pandas all arguments of DataFrame.drop except for the argument 'labels' will be keyword-only.\n",
      "  tmp_weather_df.merge(weather_df, indicator=True, how='outer').query('_merge==\"left_only\"').drop('_merge', 1)\n"
     ]
    },
    {
     "data": {
      "text/html": [
       "<div>\n",
       "<style scoped>\n",
       "    .dataframe tbody tr th:only-of-type {\n",
       "        vertical-align: middle;\n",
       "    }\n",
       "\n",
       "    .dataframe tbody tr th {\n",
       "        vertical-align: top;\n",
       "    }\n",
       "\n",
       "    .dataframe thead th {\n",
       "        text-align: right;\n",
       "    }\n",
       "</style>\n",
       "<table border=\"1\" class=\"dataframe\">\n",
       "  <thead>\n",
       "    <tr style=\"text-align: right;\">\n",
       "      <th></th>\n",
       "      <th>site_id</th>\n",
       "      <th>timestamp</th>\n",
       "      <th>air_temperature</th>\n",
       "      <th>cloud_coverage</th>\n",
       "      <th>dew_temperature</th>\n",
       "      <th>precip_depth_1_hr</th>\n",
       "      <th>sea_level_pressure</th>\n",
       "      <th>wind_direction</th>\n",
       "      <th>wind_speed</th>\n",
       "    </tr>\n",
       "  </thead>\n",
       "  <tbody>\n",
       "    <tr>\n",
       "      <th>139773</th>\n",
       "      <td>1</td>\n",
       "      <td>2016-02-15 14:00:00</td>\n",
       "      <td>NaN</td>\n",
       "      <td>NaN</td>\n",
       "      <td>NaN</td>\n",
       "      <td>NaN</td>\n",
       "      <td>NaN</td>\n",
       "      <td>NaN</td>\n",
       "      <td>NaN</td>\n",
       "    </tr>\n",
       "    <tr>\n",
       "      <th>139774</th>\n",
       "      <td>1</td>\n",
       "      <td>2016-02-15 15:00:00</td>\n",
       "      <td>NaN</td>\n",
       "      <td>NaN</td>\n",
       "      <td>NaN</td>\n",
       "      <td>NaN</td>\n",
       "      <td>NaN</td>\n",
       "      <td>NaN</td>\n",
       "      <td>NaN</td>\n",
       "    </tr>\n",
       "    <tr>\n",
       "      <th>139775</th>\n",
       "      <td>1</td>\n",
       "      <td>2016-02-15 16:00:00</td>\n",
       "      <td>NaN</td>\n",
       "      <td>NaN</td>\n",
       "      <td>NaN</td>\n",
       "      <td>NaN</td>\n",
       "      <td>NaN</td>\n",
       "      <td>NaN</td>\n",
       "      <td>NaN</td>\n",
       "    </tr>\n",
       "    <tr>\n",
       "      <th>139776</th>\n",
       "      <td>1</td>\n",
       "      <td>2016-02-15 17:00:00</td>\n",
       "      <td>NaN</td>\n",
       "      <td>NaN</td>\n",
       "      <td>NaN</td>\n",
       "      <td>NaN</td>\n",
       "      <td>NaN</td>\n",
       "      <td>NaN</td>\n",
       "      <td>NaN</td>\n",
       "    </tr>\n",
       "    <tr>\n",
       "      <th>139777</th>\n",
       "      <td>1</td>\n",
       "      <td>2016-02-15 20:00:00</td>\n",
       "      <td>NaN</td>\n",
       "      <td>NaN</td>\n",
       "      <td>NaN</td>\n",
       "      <td>NaN</td>\n",
       "      <td>NaN</td>\n",
       "      <td>NaN</td>\n",
       "      <td>NaN</td>\n",
       "    </tr>\n",
       "    <tr>\n",
       "      <th>...</th>\n",
       "      <td>...</td>\n",
       "      <td>...</td>\n",
       "      <td>...</td>\n",
       "      <td>...</td>\n",
       "      <td>...</td>\n",
       "      <td>...</td>\n",
       "      <td>...</td>\n",
       "      <td>...</td>\n",
       "      <td>...</td>\n",
       "    </tr>\n",
       "    <tr>\n",
       "      <th>140539</th>\n",
       "      <td>15</td>\n",
       "      <td>2016-12-09 10:00:00</td>\n",
       "      <td>NaN</td>\n",
       "      <td>NaN</td>\n",
       "      <td>NaN</td>\n",
       "      <td>NaN</td>\n",
       "      <td>NaN</td>\n",
       "      <td>NaN</td>\n",
       "      <td>NaN</td>\n",
       "    </tr>\n",
       "    <tr>\n",
       "      <th>140540</th>\n",
       "      <td>15</td>\n",
       "      <td>2016-12-17 07:00:00</td>\n",
       "      <td>NaN</td>\n",
       "      <td>NaN</td>\n",
       "      <td>NaN</td>\n",
       "      <td>NaN</td>\n",
       "      <td>NaN</td>\n",
       "      <td>NaN</td>\n",
       "      <td>NaN</td>\n",
       "    </tr>\n",
       "    <tr>\n",
       "      <th>140541</th>\n",
       "      <td>15</td>\n",
       "      <td>2016-12-20 06:00:00</td>\n",
       "      <td>NaN</td>\n",
       "      <td>NaN</td>\n",
       "      <td>NaN</td>\n",
       "      <td>NaN</td>\n",
       "      <td>NaN</td>\n",
       "      <td>NaN</td>\n",
       "      <td>NaN</td>\n",
       "    </tr>\n",
       "    <tr>\n",
       "      <th>140542</th>\n",
       "      <td>15</td>\n",
       "      <td>2016-12-24 05:00:00</td>\n",
       "      <td>NaN</td>\n",
       "      <td>NaN</td>\n",
       "      <td>NaN</td>\n",
       "      <td>NaN</td>\n",
       "      <td>NaN</td>\n",
       "      <td>NaN</td>\n",
       "      <td>NaN</td>\n",
       "    </tr>\n",
       "    <tr>\n",
       "      <th>140543</th>\n",
       "      <td>15</td>\n",
       "      <td>2016-12-28 10:00:00</td>\n",
       "      <td>NaN</td>\n",
       "      <td>NaN</td>\n",
       "      <td>NaN</td>\n",
       "      <td>NaN</td>\n",
       "      <td>NaN</td>\n",
       "      <td>NaN</td>\n",
       "      <td>NaN</td>\n",
       "    </tr>\n",
       "  </tbody>\n",
       "</table>\n",
       "<p>771 rows × 9 columns</p>\n",
       "</div>"
      ],
      "text/plain": [
       "        site_id            timestamp  air_temperature  cloud_coverage  \\\n",
       "139773        1  2016-02-15 14:00:00              NaN             NaN   \n",
       "139774        1  2016-02-15 15:00:00              NaN             NaN   \n",
       "139775        1  2016-02-15 16:00:00              NaN             NaN   \n",
       "139776        1  2016-02-15 17:00:00              NaN             NaN   \n",
       "139777        1  2016-02-15 20:00:00              NaN             NaN   \n",
       "...         ...                  ...              ...             ...   \n",
       "140539       15  2016-12-09 10:00:00              NaN             NaN   \n",
       "140540       15  2016-12-17 07:00:00              NaN             NaN   \n",
       "140541       15  2016-12-20 06:00:00              NaN             NaN   \n",
       "140542       15  2016-12-24 05:00:00              NaN             NaN   \n",
       "140543       15  2016-12-28 10:00:00              NaN             NaN   \n",
       "\n",
       "        dew_temperature  precip_depth_1_hr  sea_level_pressure  \\\n",
       "139773              NaN                NaN                 NaN   \n",
       "139774              NaN                NaN                 NaN   \n",
       "139775              NaN                NaN                 NaN   \n",
       "139776              NaN                NaN                 NaN   \n",
       "139777              NaN                NaN                 NaN   \n",
       "...                 ...                ...                 ...   \n",
       "140539              NaN                NaN                 NaN   \n",
       "140540              NaN                NaN                 NaN   \n",
       "140541              NaN                NaN                 NaN   \n",
       "140542              NaN                NaN                 NaN   \n",
       "140543              NaN                NaN                 NaN   \n",
       "\n",
       "        wind_direction  wind_speed  \n",
       "139773             NaN         NaN  \n",
       "139774             NaN         NaN  \n",
       "139775             NaN         NaN  \n",
       "139776             NaN         NaN  \n",
       "139777             NaN         NaN  \n",
       "...                ...         ...  \n",
       "140539             NaN         NaN  \n",
       "140540             NaN         NaN  \n",
       "140541             NaN         NaN  \n",
       "140542             NaN         NaN  \n",
       "140543             NaN         NaN  \n",
       "\n",
       "[771 rows x 9 columns]"
      ]
     },
     "execution_count": 14,
     "metadata": {},
     "output_type": "execute_result"
    }
   ],
   "source": [
    "# データ差異を確認\n",
    "tmp_weather_df.merge(weather_df, indicator=True, how='outer').query('_merge==\"left_only\"').drop('_merge', 1)"
   ]
  },
  {
   "cell_type": "code",
   "execution_count": null,
   "metadata": {},
   "outputs": [
    {
     "data": {
      "text/plain": [
       "0.0"
      ]
     },
     "execution_count": 24,
     "metadata": {},
     "output_type": "execute_result"
    }
   ],
   "source": [
    "\n",
    "np.log1p(0)"
   ]
  },
  {
   "cell_type": "code",
   "execution_count": null,
   "metadata": {},
   "outputs": [
    {
     "data": {
      "text/html": [
       "<div>\n",
       "<style scoped>\n",
       "    .dataframe tbody tr th:only-of-type {\n",
       "        vertical-align: middle;\n",
       "    }\n",
       "\n",
       "    .dataframe tbody tr th {\n",
       "        vertical-align: top;\n",
       "    }\n",
       "\n",
       "    .dataframe thead th {\n",
       "        text-align: right;\n",
       "    }\n",
       "</style>\n",
       "<table border=\"1\" class=\"dataframe\">\n",
       "  <thead>\n",
       "    <tr style=\"text-align: right;\">\n",
       "      <th></th>\n",
       "      <th>site_id</th>\n",
       "      <th>timestamp</th>\n",
       "      <th>air_temperature</th>\n",
       "      <th>cloud_coverage</th>\n",
       "      <th>dew_temperature</th>\n",
       "      <th>precip_depth_1_hr</th>\n",
       "      <th>sea_level_pressure</th>\n",
       "      <th>wind_direction</th>\n",
       "      <th>wind_speed</th>\n",
       "    </tr>\n",
       "  </thead>\n",
       "  <tbody>\n",
       "  </tbody>\n",
       "</table>\n",
       "</div>"
      ],
      "text/plain": [
       "Empty DataFrame\n",
       "Columns: [site_id, timestamp, air_temperature, cloud_coverage, dew_temperature, precip_depth_1_hr, sea_level_pressure, wind_direction, wind_speed]\n",
       "Index: []"
      ]
     },
     "execution_count": 12,
     "metadata": {},
     "output_type": "execute_result"
    }
   ],
   "source": [
    "# 風向きが0のデータは風速が0のデータであることを確認\n",
    "weather_df.query(\"wind_direction == 0 and wind_speed != 0\")"
   ]
  },
  {
   "cell_type": "code",
   "execution_count": 65,
   "metadata": {},
   "outputs": [],
   "source": [
    "from matplotlib import pyplot\n",
    "\n",
    "def plotMeterByYearBuilt(df: pd.DataFrame) -> None :\n",
    "    \"\"\"建築年とメーター値の散布図を作成する\n",
    "\n",
    "    Args:\n",
    "        df (pd.DataFrame): データ\n",
    "    \"\"\"\n",
    "    \n",
    "    fig, axes = pyplot.subplots(nrows=4, ncols=1, sharex=False)\n",
    "\n",
    "    cnt = 0\n",
    "    for ctg in [0, 1, 2 ,3]:\n",
    "      plotDf = df.query(f\"meter == {ctg}\")\n",
    "      axes[cnt].scatter(plotDf[\"year_built\"], plotDf[\"meter_reading\"])\n",
    "      \n",
    "      cnt += 1\n",
    "      del plotDf\n",
    "    \n",
    "    fig.tight_layout()\n",
    "    plt.show()\n"
   ]
  },
  {
   "cell_type": "code",
   "execution_count": null,
   "metadata": {},
   "outputs": [
    {
     "data": {
      "image/png": "[encoded data removed]",
      "text/plain": [
       "<Figure size 432x288 with 4 Axes>"
      ]
     },
     "metadata": {
      "needs_background": "light"
     },
     "output_type": "display_data"
    }
   ],
   "source": [
    "# 建築年数は直接関係しない模様\n",
    "plotMeterByYearBuilt(train_df)"
   ]
  },
  {
   "cell_type": "code",
   "execution_count": 69,
   "metadata": {},
   "outputs": [],
   "source": [
    "from matplotlib import pyplot\n",
    "\n",
    "def meterMeanByYearBuilt(df: pd.DataFrame) -> None :\n",
    "    \"\"\"メーター値の平均値を築年の設定有無毎に算出する\n",
    "\n",
    "    Args:\n",
    "        df (pd.DataFrame): データ\n",
    "    \"\"\"\n",
    "\n",
    "    for ctg in [0, 1, 2 ,3]:\n",
    "      yearBuiltSetDf = df.query(f\"meter == {ctg} and year_built == year_built\")\n",
    "      yearBuiltNotSetDf = df.query(f\"meter == {ctg} and year_built != year_built\")\n",
    "\n",
    "      yearBuiltSetMean =yearBuiltSetDf[\"meter_reading\"].mean()\n",
    "      yearBuiltNotSetMean =yearBuiltNotSetDf[\"meter_reading\"].mean()\n",
    "\n",
    "      print(f\"Category: {ctg}\")  \n",
    "      print(f\"YearBuiltSetMean: {yearBuiltSetMean}\")  \n",
    "      print(f\"YearBuiltNotSetMean: {yearBuiltNotSetMean}\")  \n",
    "      \n",
    "      del yearBuiltSetDf, yearBuiltNotSetDf, yearBuiltSetMean, yearBuiltNotSetMean\n",
    "    "
   ]
  },
  {
   "cell_type": "code",
   "execution_count": 74,
   "metadata": {},
   "outputs": [
    {
     "name": "stdout",
     "output_type": "stream",
     "text": [
      "Category: 0\n",
      "YearBuiltSetMean: 209.427490234375\n",
      "YearBuiltNotSetMean: 148.044677734375\n",
      "Category: 1\n",
      "YearBuiltSetMean: 534.3399658203125\n",
      "YearBuiltNotSetMean: 681.2288818359375\n",
      "Category: 2\n",
      "YearBuiltSetMean: 782.62548828125\n",
      "YearBuiltNotSetMean: 1715.304931640625\n",
      "Category: 3\n",
      "YearBuiltSetMean: 186.57418823242188\n",
      "YearBuiltNotSetMean: 547.9810180664062\n"
     ]
    }
   ],
   "source": [
    "meterMeanByYearBuilt(train_df)"
   ]
  },
  {
   "cell_type": "code",
   "execution_count": 75,
   "metadata": {},
   "outputs": [],
   "source": [
    "from matplotlib import pyplot\n",
    "\n",
    "def plotMeterByYearBuiltSet(df: pd.DataFrame) -> None :\n",
    "    \"\"\"建築年とメーター値の散布図を作成する\n",
    "\n",
    "    Args:\n",
    "        df (pd.DataFrame): データ\n",
    "    \"\"\"\n",
    "    \n",
    "    fig, axes = pyplot.subplots(nrows=4, ncols=2, sharex=False)\n",
    "\n",
    "    cnt = 0\n",
    "    for ctg in [0, 1, 2 ,3]:\n",
    "      yearBuiltSetDf = df.query(f\"meter == {ctg} and year_built == year_built\")\n",
    "      yearBuiltNotSetDf = df.query(f\"meter == {ctg} and year_built != year_built\")\n",
    "\n",
    "      axes[cnt, 0].hist(yearBuiltSetDf[\"meter_reading\"])\n",
    "      axes[cnt, 1].hist(yearBuiltNotSetDf[\"meter_reading\"])\n",
    "      \n",
    "      cnt += 1\n",
    "      del yearBuiltSetDf, yearBuiltNotSetDf\n",
    "    \n",
    "    fig.tight_layout()\n",
    "    plt.show()\n"
   ]
  },
  {
   "cell_type": "code",
   "execution_count": 76,
   "metadata": {},
   "outputs": [
    {
     "data": {
      "image/png": "[encoded data removed]",
      "text/plain": [
       "<Figure size 432x288 with 8 Axes>"
      ]
     },
     "metadata": {
      "needs_background": "light"
     },
     "output_type": "display_data"
    }
   ],
   "source": [
    "plotMeterByYearBuiltSet(train_df)"
   ]
  },
  {
   "cell_type": "code",
   "execution_count": 79,
   "metadata": {},
   "outputs": [],
   "source": [
    "def meterStaticsByYearBuilt(df: pd.DataFrame) -> None :\n",
    "    for ctg in [0, 1, 2 ,3]:\n",
    "      yearBuiltSetDf = df.query(f\"meter == {ctg} and year_built == year_built\")\n",
    "      yearBuiltNotSetDf = df.query(f\"meter == {ctg} and year_built != year_built\")\n",
    "      print(f\"Category: {ctg}\")  \n",
    "      print(f\"YearBuiltSet\")\n",
    "      print(yearBuiltSetDf[\"meter_reading\"].describe())\n",
    "      print(f\"YearBuiltNotSet\")\n",
    "      print(yearBuiltNotSetDf[\"meter_reading\"].describe())\n",
    "      \n",
    "      del yearBuiltSetDf, yearBuiltNotSetDf\n",
    "    "
   ]
  },
  {
   "cell_type": "code",
   "execution_count": 81,
   "metadata": {},
   "outputs": [
    {
     "name": "stdout",
     "output_type": "stream",
     "text": [
      "Category: 0\n",
      "YearBuiltSet\n",
      "count    5.244763e+06\n",
      "mean     2.094275e+02\n",
      "std      4.735475e+02\n",
      "min      0.000000e+00\n",
      "25%      2.307000e+01\n",
      "50%      7.810000e+01\n",
      "75%      1.991750e+02\n",
      "max      1.750210e+04\n",
      "Name: meter_reading, dtype: float64\n",
      "YearBuiltNotSet\n",
      "count    6.461253e+06\n",
      "mean     1.480447e+02\n",
      "std      2.917258e+02\n",
      "min      0.000000e+00\n",
      "25%      2.131500e+01\n",
      "50%      5.891670e+01\n",
      "75%      1.553000e+02\n",
      "max      7.976900e+04\n",
      "Name: meter_reading, dtype: float64\n",
      "Category: 1\n",
      "YearBuiltSet\n",
      "count    1.362881e+06\n",
      "mean     5.343400e+02\n",
      "std      1.216988e+03\n",
      "min      0.000000e+00\n",
      "25%      1.654710e+01\n",
      "50%      1.074800e+02\n",
      "75%      4.221040e+02\n",
      "max      1.726110e+05\n",
      "Name: meter_reading, dtype: float64\n",
      "YearBuiltNotSet\n",
      "count    2.819559e+06\n",
      "mean     6.812289e+02\n",
      "std      9.691904e+03\n",
      "min      0.000000e+00\n",
      "25%      7.631600e+00\n",
      "50%      1.270000e+02\n",
      "75%      4.833910e+02\n",
      "max      8.803740e+05\n",
      "Name: meter_reading, dtype: float64\n",
      "Category: 2\n",
      "YearBuiltSet\n",
      "count    567697.000000\n",
      "mean        782.625488\n",
      "std        1019.243042\n",
      "min           0.000000\n",
      "25%          99.548203\n",
      "50%         410.061005\n",
      "75%        1061.130005\n",
      "max       10301.400391\n",
      "Name: meter_reading, dtype: float64\n",
      "YearBuiltNotSet\n",
      "count    2.132232e+06\n",
      "mean     1.715305e+03\n",
      "std      6.124272e+03\n",
      "min      0.000000e+00\n",
      "25%      3.820720e+01\n",
      "50%      2.196000e+02\n",
      "75%      1.002600e+03\n",
      "max      1.316250e+05\n",
      "Name: meter_reading, dtype: float64\n",
      "Category: 3\n",
      "YearBuiltSet\n",
      "count    567002.000000\n",
      "mean        186.574188\n",
      "std         959.656067\n",
      "min           0.000000\n",
      "25%           0.000000\n",
      "50%          14.653600\n",
      "75%          70.336998\n",
      "max       26860.599609\n",
      "Name: meter_reading, dtype: float64\n",
      "YearBuiltNotSet\n",
      "count    697035.000000\n",
      "mean        547.981018\n",
      "std        3255.849609\n",
      "min           0.000000\n",
      "25%           0.688800\n",
      "50%         116.559998\n",
      "75%         477.919006\n",
      "max      160187.000000\n",
      "Name: meter_reading, dtype: float64\n"
     ]
    }
   ],
   "source": [
    "meterStaticsByYearBuilt(train_df)"
   ]
  },
  {
   "cell_type": "code",
   "execution_count": null,
   "metadata": {},
   "outputs": [],
   "source": [
    "tmp = [1,3,5]\n",
    "tmp[0]"
   ]
  },
  {
   "cell_type": "code",
   "execution_count": null,
   "metadata": {},
   "outputs": [],
   "source": []
  }
 ],
 "metadata": {
  "interpreter": {
   "hash": "74c7c3687703664997f19149f5445e423068aa826b97a36d943ea9f2cd8004e5"
  },
  "kernelspec": {
   "display_name": "Python 3.10.4 ('python_3.10')",
   "language": "python",
   "name": "python3"
  },
  "language_info": {
   "codemirror_mode": {
    "name": "ipython",
    "version": 3
   },
   "file_extension": ".py",
   "mimetype": "text/x-python",
   "name": "python",
   "nbconvert_exporter": "python",
   "pygments_lexer": "ipython3",
   "version": "3.10.4"
  },
  "orig_nbformat": 4
 },
 "nbformat": 4,
 "nbformat_minor": 2
}
