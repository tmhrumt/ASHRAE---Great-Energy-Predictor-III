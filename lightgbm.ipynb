{
 "cells": [
  {
   "cell_type": "markdown",
   "metadata": {},
   "source": [
    "# ASHRAE - Great Energy Predictor III\n",
    "https://www.kaggle.com/competitions/ashrae-energy-prediction/overview\n",
    "\n",
    "LightGBMをやってみる  \n",
    "参考  \n",
    "https://www.kaggle.com/code/aitude/ashrae-kfold-lightgbm-without-leak-1-08  \n",
    "\n",
    "https://www.kaggle.com/code/patrick0302/locate-cities-according-weather-temperature/notebook\n",
    "\n",
    "LightGBM パラメーター内容  \n",
    "https://zenn.dev/mosamosa/articles/07d0076c9292136a3639"
   ]
  },
  {
   "cell_type": "code",
   "execution_count": 1,
   "metadata": {},
   "outputs": [
    {
     "data": {
      "text/plain": [
       "' データディレクトリ '"
      ]
     },
     "execution_count": 1,
     "metadata": {},
     "output_type": "execute_result"
    }
   ],
   "source": [
    "# 定数定義\n",
    "DATA_PATH = \"./data\"\n",
    "\"\"\" データディレクトリ \"\"\""
   ]
  },
  {
   "cell_type": "code",
   "execution_count": 9,
   "metadata": {},
   "outputs": [],
   "source": [
    "# インポート定義\n",
    "\n",
    "import pandas as pd\n",
    "import numpy as np\n",
    "import matplotlib.pyplot as plt\n",
    "import lightgbm as lgb\n",
    "from lightgbm import early_stopping, log_evaluation\n",
    "from sklearn.preprocessing import LabelEncoder\n",
    "from sklearn.model_selection import KFold\n",
    "import datetime\n",
    "from dateutil import tz\n",
    "import gc\n",
    "import os\n",
    "from pandas.api.types import is_datetime64_any_dtype as is_datetime\n",
    "from pandas.api.types import is_categorical_dtype"
   ]
  },
  {
   "cell_type": "code",
   "execution_count": 32,
   "metadata": {},
   "outputs": [],
   "source": [
    "# データ読み込み\n",
    "train_df = pd.read_csv(os.path.join(DATA_PATH, 'train.csv'))\n",
    "\n",
    "# Remove outliers\n",
    "# TODO:なぜこの条件で除外しているかの確認が必要\n",
    "train_df = train_df [ train_df['building_id'] != 1099 ]\n",
    "train_df = train_df.query('not (building_id <= 104 & meter == 0 & timestamp <= \"2016-05-20\")')\n",
    "\n",
    "building_df = pd.read_csv(os.path.join(DATA_PATH, 'building_metadata.csv'))\n",
    "weather_df = pd.read_csv(os.path.join(DATA_PATH, 'weather_train.csv'))"
   ]
  },
  {
   "cell_type": "code",
   "execution_count": 24,
   "metadata": {},
   "outputs": [],
   "source": [
    "def convert_timezone(weather_df: pd.DataFrame) -> pd.DataFrame:\n",
    "  \"\"\"気象データの観測日時をサイト毎の現地日時へ変換する\n",
    "\n",
    "  Args:\n",
    "      weather_df (pd.DataFrame): 気象データ\n",
    "\n",
    "  Returns:\n",
    "      pd.DataFrame: 観測日時のタイムゾーン変換後のデータを返す\n",
    "  \"\"\"\n",
    "  # タイムゾーン定義\n",
    "  UTC = tz.gettz(\"UTC\") # 標準時\n",
    "  EST = tz.gettz('EST') # 東部標準時\n",
    "  EDT = tz.gettz('EDT') # 東部夏時間\n",
    "  PST = tz.gettz('PST') # 太平洋標準時\n",
    "  PDT = tz.gettz('PDT') # 太平洋夏時間\n",
    "  CST = tz.gettz('CST') # 中部標準時\n",
    "  CDT = tz.gettz('CDT') # 中部夏時間\n",
    "\n",
    "  # タイムゾーン設定\n",
    "  local_timezone_dict = {\n",
    "    0: EST, # アメリカ フロリダ州 ジャクソンビル\n",
    "    1: UTC, # イングランド ロンドン\n",
    "    2: EST, # アメリカ フロリダ州 フェニックス\n",
    "    3: EST, # アメリカ ペンシルベニア州 フィラデルフィア\n",
    "    4: PST, # アメリカ カリフォルニア州 サンフランシスコ\n",
    "    5: UTC, # イングランド ラフバラー\n",
    "    6: EST, # アメリカ ペンシルベニア州 フィラデルフィア\n",
    "    7: EST, # カナダ ケベック州 モントリオール\n",
    "    8: EST, # アメリカ フロリダ州 ジャクソンビル\n",
    "    9: CST, # アメリカ テキサス州 サンアントニオ\n",
    "    10: PST, # アメリカ ネバダ州 ラスベガス\n",
    "    11: EST, # カナダ ケベック州 モントリオール\n",
    "    12: UTC, # アイルランド ダブリン\n",
    "    13: CST, # アメリカ ミネソタ州 ミネアポリス\n",
    "    14: EST, # アメリカ ペンシルベニア州 フィラデルフィア\n",
    "    15: EST, # アメリカ ペンシルベニア州 ピッツバーグ\n",
    "  }\n",
    "\n",
    "  # サマータイムゾーン設定\n",
    "  summer_timezone_dict = {\n",
    "    0: EDT, # アメリカ フロリダ州 ジャクソンビル\n",
    "    3: EDT, # アメリカ ペンシルベニア州 フィラデルフィア\n",
    "    4: PDT, # アメリカ カリフォルニア州 サンフランシスコ\n",
    "    6: EDT, # アメリカ ペンシルベニア州 フィラデルフィア\n",
    "    7: EDT, # カナダ ケベック州 モントリオール\n",
    "    8: EDT, # アメリカ フロリダ州 ジャクソンビル\n",
    "    9: CDT, # アメリカ テキサス州 サンアントニオ\n",
    "    10: PDT, # アメリカ ネバダ州 ラスベガス\n",
    "    11: EDT, # カナダ ケベック州 モントリオール\n",
    "    13: CDT, # アメリカ ミネソタ州 ミネアポリス\n",
    "    14: EDT, # アメリカ ペンシルベニア州 フィラデルフィア\n",
    "    15: EDT, # アメリカ ペンシルベニア州 ピッツバーグ\n",
    "  }\n",
    "\n",
    "  # サマータイム 適用日時\n",
    "  summer_time_start_timestamp = datetime.datetime(2016, 3, 12, 20, 0, 0, tzinfo=UTC)\n",
    "  summer_time_end_timestamp = datetime.datetime(2016, 11, 5, 20, 0, 0, tzinfo=UTC)\n",
    "\n",
    "  datetime_df = pd.DataFrame(data=weather_df, columns=[\"site_id\", \"timestamp\"]) \n",
    "  datetime_df[\"datetime\"] = pd.to_datetime(datetime_df[\"timestamp\"], utc=True)\n",
    "  datetime_df[\"original_datetime\"] = datetime_df[\"datetime\"]\n",
    "  datetime_df[\"conv_timestamp\"] = datetime_df[\"timestamp\"]\n",
    "\n",
    "  for siteId, timezone in local_timezone_dict.items():\n",
    "    # タイムゾーン変換\n",
    "    update_datetime_df = datetime_df[datetime_df[\"site_id\"] == siteId]\n",
    "    update_datetime_df[\"datetime\"] = update_datetime_df[\"original_datetime\"].dt.tz_convert(timezone)\n",
    "  \n",
    "    # 元の文字列フォーマットへ戻す\n",
    "    update_datetime_df[\"conv_timestamp\"] = update_datetime_df[\"datetime\"].dt.strftime(\"%Y-%m-%d %H:%M:%S\")\n",
    "\n",
    "    # サマータイム変換 ※TODO:うまくいってない？\n",
    "    if (siteId in summer_timezone_dict) :\n",
    "      # タイムゾーン変換\n",
    "      summer_timezone = summer_timezone_dict[siteId]\n",
    "      summer_time_datetime_df = update_datetime_df[(update_datetime_df[\"original_datetime\"] >= summer_time_start_timestamp) & (update_datetime_df[\"original_datetime\"]  <= summer_time_end_timestamp)]\n",
    "      summer_time_datetime_df[\"datetime\"] = summer_time_datetime_df[\"original_datetime\"].dt.tz_convert(summer_timezone)\n",
    "      \n",
    "      # 元の文字列フォーマットへ戻す\n",
    "      summer_time_datetime_df[\"conv_timestamp\"] = summer_time_datetime_df[\"datetime\"].dt.strftime(\"%Y-%m-%d %H:%M:%S\")\n",
    "      \n",
    "      update_datetime_df.update(summer_time_datetime_df, overwrite=True)\n",
    "    \n",
    "    datetime_df.update(update_datetime_df, overwrite=True)\n",
    "\n",
    "  datetime_df[\"timestamp\"] = datetime_df[\"conv_timestamp\"]\n",
    "  datetime_df.drop([\"datetime\", \"original_datetime\", \"conv_timestamp\"], axis=1)\n",
    "\n",
    "  weather_df.update(datetime_df, overwrite=True)\n",
    "  return weather_df\n",
    "  "
   ]
  },
  {
   "cell_type": "code",
   "execution_count": 29,
   "metadata": {},
   "outputs": [],
   "source": [
    "# Original code from https://www.kaggle.com/aitude/ashrae-missing-weather-data-handling by @aitude\n",
    "\n",
    "def fill_weather_dataset(weather_df: pd.DataFrame) -> pd.DataFrame:\n",
    "    \"\"\"気象データの欠損値を補完する\n",
    "\n",
    "    Args:\n",
    "        weather_df (pd.DataFrame): 気象データ\n",
    "\n",
    "    Returns:\n",
    "        pd.DataFrame: データ補完後の気象データを返す\n",
    "    \"\"\"\n",
    "    # サイトIDの数\n",
    "    SITE_ID_COUNT = 16\n",
    "\n",
    "    # 気象データの観測時間リストを作成\n",
    "    time_format = \"%Y-%m-%d %H:%M:%S\"\n",
    "    start_date = datetime.datetime.strptime(weather_df['timestamp'].min(),time_format)\n",
    "    end_date = datetime.datetime.strptime(weather_df['timestamp'].max(),time_format)\n",
    "    total_hours = int(((end_date - start_date).total_seconds() + 3600) / 3600)\n",
    "    hours_list = [(end_date - datetime.timedelta(hours=x)).strftime(time_format) for x in range(total_hours)]\n",
    "\n",
    "    # サイト毎に欠損データを追加\n",
    "    # ※追加するデータの値はnanを設定\n",
    "    for site_id in range(SITE_ID_COUNT):\n",
    "        site_hours = np.array(weather_df[weather_df['site_id'] == site_id]['timestamp'])\n",
    "        new_rows = pd.DataFrame(np.setdiff1d(hours_list,site_hours),columns=['timestamp'])\n",
    "        new_rows['site_id'] = site_id\n",
    "        weather_df = pd.concat([weather_df,new_rows])\n",
    "\n",
    "        weather_df = weather_df.reset_index(drop=True)\n",
    "\n",
    "    # 観測日時より、日、週、月のカラムを作成\n",
    "    # ※後述の追加カラムのため\n",
    "    weather_df[\"datetime\"] = pd.to_datetime(weather_df[\"timestamp\"])\n",
    "    weather_df[\"day\"] = weather_df[\"datetime\"].dt.day\n",
    "    weather_df[\"week\"] = weather_df[\"datetime\"].dt.week\n",
    "    weather_df[\"month\"] = weather_df[\"datetime\"].dt.month\n",
    "\n",
    "    # 欠損値を補完    \n",
    "    # データ集計の高速化のため、集計単位でインデックスを作成\n",
    "    weather_df = weather_df.set_index(['site_id','day','month'])\n",
    "\n",
    "    # 気温\n",
    "    air_temperature_filler = pd.DataFrame(weather_df.groupby(['site_id','day','month'])['air_temperature'].mean(),columns=[\"air_temperature\"])\n",
    "    weather_df.update(air_temperature_filler,overwrite=False)\n",
    "\n",
    "    # 雲量\n",
    "    # Step 1 グループ毎の平均値を取得\n",
    "    cloud_coverage_filler = weather_df.groupby(['site_id','day','month'])['cloud_coverage'].mean()\n",
    "    # Step 2 直前に値が設定されている場合、その値を使用する\n",
    "    cloud_coverage_filler = pd.DataFrame(cloud_coverage_filler.fillna(method='ffill'),columns=[\"cloud_coverage\"])\n",
    "\n",
    "    weather_df.update(cloud_coverage_filler,overwrite=False)\n",
    "\n",
    "    # 露点温度(≒湿度)\n",
    "    dew_temperature_filler = pd.DataFrame(weather_df.groupby(['site_id','day','month'])['dew_temperature'].mean(),columns=[\"dew_temperature\"])\n",
    "    weather_df.update(dew_temperature_filler, overwrite=False)\n",
    "\n",
    "    # 海面気圧\n",
    "    # Step 1 グループ毎の平均値を取得\n",
    "    sea_level_filler = weather_df.groupby(['site_id','day','month'])['sea_level_pressure'].mean()\n",
    "    # Step 2 直前に値が設定されている場合、その値を使用する\n",
    "    sea_level_filler = pd.DataFrame(sea_level_filler.fillna(method='ffill'),columns=['sea_level_pressure'])\n",
    "\n",
    "    weather_df.update(sea_level_filler,overwrite=False)\n",
    "\n",
    "    # 風向き\n",
    "    wind_direction_filler =  pd.DataFrame(weather_df.groupby(['site_id','day','month'])['wind_direction'].mean(),columns=['wind_direction'])\n",
    "    weather_df.update(wind_direction_filler,overwrite=False)\n",
    "\n",
    "    # 風速\n",
    "    wind_speed_filler =  pd.DataFrame(weather_df.groupby(['site_id','day','month'])['wind_speed'].mean(),columns=['wind_speed'])\n",
    "    weather_df.update(wind_speed_filler,overwrite=False)\n",
    "\n",
    "    # 降水量\n",
    "    # Step 1 グループ毎の平均値を取得\n",
    "    precip_depth_filler = weather_df.groupby(['site_id','day','month'])['precip_depth_1_hr'].mean()\n",
    "    # Step 2 直前に値が設定されている場合、その値を資料する\n",
    "    precip_depth_filler = pd.DataFrame(precip_depth_filler.fillna(method='ffill'),columns=['precip_depth_1_hr'])\n",
    "\n",
    "    weather_df.update(precip_depth_filler,overwrite=False)\n",
    "\n",
    "    # 観測日時を現地時間へ変換する\n",
    "    # weather_df = convert_timezone(weather_df)\n",
    "\n",
    "    # インデックスを再作成し、欠損値補完用に追加したカラムを削除\n",
    "    weather_df = weather_df.reset_index()\n",
    "    weather_df = weather_df.drop(['datetime','day','week','month'],axis=1)\n",
    "\n",
    "    return weather_df"
   ]
  },
  {
   "cell_type": "code",
   "execution_count": 26,
   "metadata": {},
   "outputs": [],
   "source": [
    "# Original code from https://www.kaggle.com/gemartin/load-data-reduce-memory-usage by @gemartin\n",
    "\n",
    "def reduce_mem_usage(df: pd.DataFrame, use_float16: bool = False) -> pd.DataFrame:\n",
    "    \"\"\"ロードしたデータを型変換し、容量を削減する\n",
    "\n",
    "    Args:\n",
    "        df (pd.DataFrame): ロードデータ\n",
    "        use_float16 (bool, optional): float16使用フラグ デフォルト値：False\n",
    "\n",
    "    Returns:\n",
    "        pd.DataFrame: 容量削減後のデータを返す\n",
    "    \"\"\"\n",
    "    \n",
    "    start_mem = df.memory_usage().sum() / 1024**2\n",
    "    print(\"Memory usage of dataframe is {:.2f} MB\".format(start_mem))\n",
    "    \n",
    "    for col in df.columns:\n",
    "        if is_datetime(df[col]) or is_categorical_dtype(df[col]):\n",
    "            continue\n",
    "        col_type = df[col].dtype\n",
    "        \n",
    "        if col_type != object:\n",
    "            c_min = df[col].min()\n",
    "            c_max = df[col].max()\n",
    "            if str(col_type)[:3] == \"int\":\n",
    "                if c_min > np.iinfo(np.int8).min and c_max < np.iinfo(np.int8).max:\n",
    "                    df[col] = df[col].astype(np.int8)\n",
    "                elif c_min > np.iinfo(np.int16).min and c_max < np.iinfo(np.int16).max:\n",
    "                    df[col] = df[col].astype(np.int16)\n",
    "                elif c_min > np.iinfo(np.int32).min and c_max < np.iinfo(np.int32).max:\n",
    "                    df[col] = df[col].astype(np.int32)\n",
    "                elif c_min > np.iinfo(np.int64).min and c_max < np.iinfo(np.int64).max:\n",
    "                    df[col] = df[col].astype(np.int64)  \n",
    "            else:\n",
    "                if use_float16 and c_min > np.finfo(np.float16).min and c_max < np.finfo(np.float16).max:\n",
    "                    df[col] = df[col].astype(np.float16)\n",
    "                elif c_min > np.finfo(np.float32).min and c_max < np.finfo(np.float32).max:\n",
    "                    df[col] = df[col].astype(np.float32)\n",
    "                else:\n",
    "                    df[col] = df[col].astype(np.float64)\n",
    "        else:\n",
    "            df[col] = df[col].astype(\"category\")\n",
    "\n",
    "    end_mem = df.memory_usage().sum() / 1024**2\n",
    "    print(\"Memory usage after optimization is: {:.2f} MB\".format(end_mem))\n",
    "    print(\"Decreased by {:.1f}%\".format(100 * (start_mem - end_mem) / start_mem))\n",
    "    \n",
    "    return df"
   ]
  },
  {
   "cell_type": "code",
   "execution_count": 27,
   "metadata": {},
   "outputs": [],
   "source": [
    "def features_engineering(df: pd.DataFrame) -> pd.DataFrame:\n",
    "    \"\"\"特徴量を作成する\n",
    "\n",
    "    Args:\n",
    "        df (pd.DataFrame): ロードしたデータ\n",
    "\n",
    "    Returns:\n",
    "        pd.DataFrame: 特徴量を追加したデータ\n",
    "    \"\"\"\n",
    "    \n",
    "    # 時系列順にソートする\n",
    "    df.sort_values(\"timestamp\")\n",
    "    df.reset_index(drop=True)\n",
    "    \n",
    "    # Add more features\n",
    "    # 日時\n",
    "    df[\"timestamp\"] = pd.to_datetime(df[\"timestamp\"],format=\"%Y-%m-%d %H:%M:%S\")\n",
    "    \n",
    "    # 時間\n",
    "    df[\"hour\"] = df[\"timestamp\"].dt.hour\n",
    "    \n",
    "    # 曜日\n",
    "    df[\"weekend\"] = df[\"timestamp\"].dt.weekday\n",
    "    \n",
    "    # 総床面積 ※logでは0が設定された場合に-∞になるため、log(1+a)にする\n",
    "    df[\"square_feet\"] = np.log1p(df[\"square_feet\"])\n",
    "\n",
    "    # 築年数 ※値が設定されている場合は\"1\"、その他の場合は\"0\"を設定\n",
    "    df[\"year_built\"] = np.where(df[\"year_built\"].notna(), 1, 0)\n",
    "\n",
    "    # 体感温度 ※風による温度影響を測るため、北風をマイナス値(冷たい風)、南風をプラス値(暖かい風)とし、風速を掛けた値を設定する\n",
    "    df[\"wind_direction\"] = -np.sin(np.radians(df[\"wind_direction\"] % 360))\n",
    "    df[\"wind_warn\"] = df[\"wind_direction\"] * df[\"wind_speed\"]\n",
    "    \n",
    "    # 使用しないカラムを削除する\n",
    "    drop = [\"timestamp\",\"sea_level_pressure\", \"wind_direction\", \"wind_speed\", \"floor_count\", \"building_id\"]\n",
    "    df = df.drop(drop, axis=1)\n",
    "    gc.collect()\n",
    "    \n",
    "    # Encode Categorical Data\n",
    "    le = LabelEncoder()\n",
    "    df[\"primary_use\"] = le.fit_transform(df[\"primary_use\"])\n",
    "    \n",
    "    return df"
   ]
  },
  {
   "cell_type": "code",
   "execution_count": 33,
   "metadata": {},
   "outputs": [
    {
     "name": "stderr",
     "output_type": "stream",
     "text": [
      "/var/folders/km/rlhv761j4rqcrksj6ch5bw_r0000gn/T/ipykernel_8230/4205743041.py:36: FutureWarning: Series.dt.weekofyear and Series.dt.week have been deprecated. Please use Series.dt.isocalendar().week instead.\n",
      "  weather_df[\"week\"] = weather_df[\"datetime\"].dt.week\n",
      "/var/folders/km/rlhv761j4rqcrksj6ch5bw_r0000gn/T/ipykernel_8230/890867776.py:67: SettingWithCopyWarning: \n",
      "A value is trying to be set on a copy of a slice from a DataFrame.\n",
      "Try using .loc[row_indexer,col_indexer] = value instead\n",
      "\n",
      "See the caveats in the documentation: https://pandas.pydata.org/pandas-docs/stable/user_guide/indexing.html#returning-a-view-versus-a-copy\n",
      "  update_datetime_df[\"datetime\"] = update_datetime_df[\"original_datetime\"].dt.tz_convert(timezone)\n",
      "/var/folders/km/rlhv761j4rqcrksj6ch5bw_r0000gn/T/ipykernel_8230/890867776.py:70: SettingWithCopyWarning: \n",
      "A value is trying to be set on a copy of a slice from a DataFrame.\n",
      "Try using .loc[row_indexer,col_indexer] = value instead\n",
      "\n",
      "See the caveats in the documentation: https://pandas.pydata.org/pandas-docs/stable/user_guide/indexing.html#returning-a-view-versus-a-copy\n",
      "  update_datetime_df[\"conv_timestamp\"] = update_datetime_df[\"datetime\"].dt.strftime(\"%Y-%m-%d %H:%M:%S\")\n",
      "/var/folders/km/rlhv761j4rqcrksj6ch5bw_r0000gn/T/ipykernel_8230/890867776.py:77: SettingWithCopyWarning: \n",
      "A value is trying to be set on a copy of a slice from a DataFrame.\n",
      "Try using .loc[row_indexer,col_indexer] = value instead\n",
      "\n",
      "See the caveats in the documentation: https://pandas.pydata.org/pandas-docs/stable/user_guide/indexing.html#returning-a-view-versus-a-copy\n",
      "  summer_time_datetime_df[\"datetime\"] = summer_time_datetime_df[\"original_datetime\"].dt.tz_convert(summer_timezone)\n",
      "/var/folders/km/rlhv761j4rqcrksj6ch5bw_r0000gn/T/ipykernel_8230/890867776.py:80: SettingWithCopyWarning: \n",
      "A value is trying to be set on a copy of a slice from a DataFrame.\n",
      "Try using .loc[row_indexer,col_indexer] = value instead\n",
      "\n",
      "See the caveats in the documentation: https://pandas.pydata.org/pandas-docs/stable/user_guide/indexing.html#returning-a-view-versus-a-copy\n",
      "  summer_time_datetime_df[\"conv_timestamp\"] = summer_time_datetime_df[\"datetime\"].dt.strftime(\"%Y-%m-%d %H:%M:%S\")\n",
      "/var/folders/km/rlhv761j4rqcrksj6ch5bw_r0000gn/T/ipykernel_8230/890867776.py:82: SettingWithCopyWarning: \n",
      "A value is trying to be set on a copy of a slice from a DataFrame.\n",
      "Try using .loc[row_indexer,col_indexer] = value instead\n",
      "\n",
      "See the caveats in the documentation: https://pandas.pydata.org/pandas-docs/stable/user_guide/indexing.html#returning-a-view-versus-a-copy\n",
      "  update_datetime_df.update(summer_time_datetime_df, overwrite=True)\n"
     ]
    }
   ],
   "source": [
    "# 気象データの欠損値を補完する\n",
    "weather_df = fill_weather_dataset(weather_df)\n",
    "weather_df = convert_timezone(weather_df)"
   ]
  },
  {
   "cell_type": "code",
   "execution_count": 34,
   "metadata": {},
   "outputs": [
    {
     "name": "stdout",
     "output_type": "stream",
     "text": [
      "Memory usage of dataframe is 757.31 MB\n",
      "Memory usage after optimization is: 322.18 MB\n",
      "Decreased by 57.5%\n",
      "Memory usage of dataframe is 0.07 MB\n",
      "Memory usage after optimization is: 0.02 MB\n",
      "Decreased by 73.9%\n",
      "Memory usage of dataframe is 9.65 MB\n",
      "Memory usage after optimization is: 2.73 MB\n",
      "Decreased by 71.7%\n"
     ]
    }
   ],
   "source": [
    "# データ容量を削減する\n",
    "train_df = reduce_mem_usage(train_df,use_float16=True)\n",
    "building_df = reduce_mem_usage(building_df,use_float16=True)\n",
    "weather_df = reduce_mem_usage(weather_df,use_float16=True)"
   ]
  },
  {
   "cell_type": "code",
   "execution_count": 35,
   "metadata": {},
   "outputs": [],
   "source": [
    "# コーディング用にロード、加工したデータを保存する\n",
    "# TODO:テストコードのため、要削除\n",
    "# train_df.to_pickle(os.path.join(DATA_PATH, \"train_df.pkl\"))\n",
    "# building_df.to_pickle(os.path.join(DATA_PATH, \"building_df.pkl\"))\n",
    "# weather_df.to_pickle(os.path.join(DATA_PATH, \"weather_df.pkl\"))\n",
    "weather_df.to_pickle(os.path.join(DATA_PATH, \"weather_df2.pkl\"))"
   ]
  },
  {
   "cell_type": "code",
   "execution_count": 28,
   "metadata": {},
   "outputs": [],
   "source": [
    "# コーディング用に保存したデータをロードする\n",
    "# TODO:テストコードのため、要削除\n",
    "train_df = pd.read_pickle(os.path.join(DATA_PATH, \"train_df.pkl\"))\n",
    "building_df = pd.read_pickle(os.path.join(DATA_PATH, \"building_df.pkl\"))\n",
    "weather_df = pd.read_pickle(os.path.join(DATA_PATH, \"weather_df.pkl\"))\n",
    "# weather_df = pd.read_pickle(os.path.join(DATA_PATH, \"weather_df.pk2\"))"
   ]
  },
  {
   "cell_type": "code",
   "execution_count": 36,
   "metadata": {},
   "outputs": [
    {
     "data": {
      "text/plain": [
       "0"
      ]
     },
     "execution_count": 36,
     "metadata": {},
     "output_type": "execute_result"
    }
   ],
   "source": [
    "# 各データを結合する\n",
    "train_df = train_df.merge(building_df, left_on='building_id',right_on='building_id',how='left')\n",
    "# train_df = train_df.merge(weather_df,how='left',left_on=['site_id','timestamp'],right_on=['site_id', 'timestamp'])\n",
    "train_df = train_df.merge(weather_df,how='inner',left_on=['site_id','timestamp'],right_on=['site_id', 'timestamp'])\n",
    "del weather_df\n",
    "gc.collect()"
   ]
  },
  {
   "cell_type": "code",
   "execution_count": 37,
   "metadata": {},
   "outputs": [],
   "source": [
    "# 特徴量を作成する\n",
    "train_df = features_engineering(train_df)"
   ]
  },
  {
   "cell_type": "code",
   "execution_count": 38,
   "metadata": {},
   "outputs": [
    {
     "data": {
      "text/plain": [
       "15"
      ]
     },
     "execution_count": 38,
     "metadata": {},
     "output_type": "execute_result"
    }
   ],
   "source": [
    "# データを目的変数と特徴量変数に分割する\n",
    "target = np.log1p(train_df[\"meter_reading\"])\n",
    "features = train_df.drop(\"meter_reading\", axis = 1)\n",
    "del train_df\n",
    "gc.collect()"
   ]
  },
  {
   "cell_type": "code",
   "execution_count": 39,
   "metadata": {},
   "outputs": [
    {
     "name": "stderr",
     "output_type": "stream",
     "text": [
      "/opt/homebrew/Caskroom/miniforge/base/envs/python_3.10/lib/python3.10/site-packages/lightgbm/basic.py:2068: UserWarning: categorical_feature in Dataset is overridden.\n",
      "New categorical_feature is ['hour', 'meter', 'primary_use', 'site_id', 'weekend', 'year_built']\n",
      "  _log_warning('categorical_feature in Dataset is overridden.\\n'\n",
      "/opt/homebrew/Caskroom/miniforge/base/envs/python_3.10/lib/python3.10/site-packages/lightgbm/basic.py:1780: UserWarning: Overriding the parameters from Reference Dataset.\n",
      "  _log_warning('Overriding the parameters from Reference Dataset.')\n",
      "/opt/homebrew/Caskroom/miniforge/base/envs/python_3.10/lib/python3.10/site-packages/lightgbm/basic.py:1513: UserWarning: categorical_column in param dict is overridden.\n",
      "  _log_warning(f'{cat_alias} in param dict is overridden.')\n"
     ]
    },
    {
     "name": "stdout",
     "output_type": "stream",
     "text": [
      "Training until validation scores don't improve for 50 rounds\n",
      "[25]\ttraining's rmse: 1.5656\tvalid_1's rmse: 1.61327\n",
      "[50]\ttraining's rmse: 1.40557\tvalid_1's rmse: 1.45883\n",
      "[75]\ttraining's rmse: 1.33249\tvalid_1's rmse: 1.39739\n",
      "[100]\ttraining's rmse: 1.28784\tvalid_1's rmse: 1.3575\n",
      "[125]\ttraining's rmse: 1.25717\tvalid_1's rmse: 1.33323\n",
      "[150]\ttraining's rmse: 1.22977\tvalid_1's rmse: 1.31174\n",
      "[175]\ttraining's rmse: 1.20841\tvalid_1's rmse: 1.296\n",
      "[200]\ttraining's rmse: 1.19012\tvalid_1's rmse: 1.28212\n",
      "[225]\ttraining's rmse: 1.17389\tvalid_1's rmse: 1.2706\n",
      "[250]\ttraining's rmse: 1.15474\tvalid_1's rmse: 1.25805\n",
      "[275]\ttraining's rmse: 1.14247\tvalid_1's rmse: 1.25152\n",
      "[300]\ttraining's rmse: 1.12945\tvalid_1's rmse: 1.24361\n",
      "[325]\ttraining's rmse: 1.11565\tvalid_1's rmse: 1.23572\n",
      "[350]\ttraining's rmse: 1.10583\tvalid_1's rmse: 1.23038\n",
      "[375]\ttraining's rmse: 1.09439\tvalid_1's rmse: 1.22466\n",
      "[400]\ttraining's rmse: 1.08421\tvalid_1's rmse: 1.22038\n",
      "[425]\ttraining's rmse: 1.07335\tvalid_1's rmse: 1.21437\n",
      "[450]\ttraining's rmse: 1.06306\tvalid_1's rmse: 1.21\n",
      "[475]\ttraining's rmse: 1.05551\tvalid_1's rmse: 1.20782\n",
      "[500]\ttraining's rmse: 1.04856\tvalid_1's rmse: 1.20524\n",
      "[525]\ttraining's rmse: 1.04174\tvalid_1's rmse: 1.20156\n",
      "[550]\ttraining's rmse: 1.03412\tvalid_1's rmse: 1.19775\n",
      "[575]\ttraining's rmse: 1.02724\tvalid_1's rmse: 1.19211\n",
      "[600]\ttraining's rmse: 1.02238\tvalid_1's rmse: 1.18974\n",
      "[625]\ttraining's rmse: 1.01709\tvalid_1's rmse: 1.18799\n",
      "[650]\ttraining's rmse: 1.01198\tvalid_1's rmse: 1.18562\n",
      "[675]\ttraining's rmse: 1.0059\tvalid_1's rmse: 1.1832\n",
      "[700]\ttraining's rmse: 0.99984\tvalid_1's rmse: 1.18\n",
      "[725]\ttraining's rmse: 0.994595\tvalid_1's rmse: 1.17762\n",
      "[750]\ttraining's rmse: 0.990617\tvalid_1's rmse: 1.1759\n",
      "[775]\ttraining's rmse: 0.985453\tvalid_1's rmse: 1.17343\n",
      "[800]\ttraining's rmse: 0.982273\tvalid_1's rmse: 1.17255\n",
      "[825]\ttraining's rmse: 0.978614\tvalid_1's rmse: 1.17148\n",
      "[850]\ttraining's rmse: 0.973381\tvalid_1's rmse: 1.16982\n",
      "[875]\ttraining's rmse: 0.969052\tvalid_1's rmse: 1.16886\n",
      "[900]\ttraining's rmse: 0.964133\tvalid_1's rmse: 1.16744\n",
      "[925]\ttraining's rmse: 0.960242\tvalid_1's rmse: 1.16699\n",
      "[950]\ttraining's rmse: 0.956399\tvalid_1's rmse: 1.16656\n",
      "[975]\ttraining's rmse: 0.952947\tvalid_1's rmse: 1.16608\n",
      "[1000]\ttraining's rmse: 0.949458\tvalid_1's rmse: 1.16539\n",
      "Did not meet early stopping. Best iteration is:\n",
      "[1000]\ttraining's rmse: 0.949458\tvalid_1's rmse: 1.16539\n"
     ]
    },
    {
     "name": "stderr",
     "output_type": "stream",
     "text": [
      "/opt/homebrew/Caskroom/miniforge/base/envs/python_3.10/lib/python3.10/site-packages/lightgbm/basic.py:2068: UserWarning: categorical_feature in Dataset is overridden.\n",
      "New categorical_feature is ['hour', 'meter', 'primary_use', 'site_id', 'weekend', 'year_built']\n",
      "  _log_warning('categorical_feature in Dataset is overridden.\\n'\n",
      "/opt/homebrew/Caskroom/miniforge/base/envs/python_3.10/lib/python3.10/site-packages/lightgbm/basic.py:1780: UserWarning: Overriding the parameters from Reference Dataset.\n",
      "  _log_warning('Overriding the parameters from Reference Dataset.')\n",
      "/opt/homebrew/Caskroom/miniforge/base/envs/python_3.10/lib/python3.10/site-packages/lightgbm/basic.py:1513: UserWarning: categorical_column in param dict is overridden.\n",
      "  _log_warning(f'{cat_alias} in param dict is overridden.')\n"
     ]
    },
    {
     "name": "stdout",
     "output_type": "stream",
     "text": [
      "[25]\ttraining's rmse: 1.52705\tvalid_1's rmse: 1.61669\n",
      "[50]\ttraining's rmse: 1.36953\tvalid_1's rmse: 1.48957\n",
      "[75]\ttraining's rmse: 1.29949\tvalid_1's rmse: 1.42715\n",
      "[100]\ttraining's rmse: 1.26245\tvalid_1's rmse: 1.39036\n",
      "[125]\ttraining's rmse: 1.23276\tvalid_1's rmse: 1.36709\n",
      "[150]\ttraining's rmse: 1.21145\tvalid_1's rmse: 1.34562\n",
      "[175]\ttraining's rmse: 1.19169\tvalid_1's rmse: 1.32829\n",
      "[200]\ttraining's rmse: 1.17444\tvalid_1's rmse: 1.31298\n",
      "[225]\ttraining's rmse: 1.15858\tvalid_1's rmse: 1.29924\n",
      "[250]\ttraining's rmse: 1.144\tvalid_1's rmse: 1.28717\n",
      "[275]\ttraining's rmse: 1.12942\tvalid_1's rmse: 1.27324\n",
      "[300]\ttraining's rmse: 1.12042\tvalid_1's rmse: 1.2648\n",
      "[325]\ttraining's rmse: 1.10947\tvalid_1's rmse: 1.25563\n",
      "[350]\ttraining's rmse: 1.099\tvalid_1's rmse: 1.24795\n",
      "[375]\ttraining's rmse: 1.09153\tvalid_1's rmse: 1.2414\n",
      "[400]\ttraining's rmse: 1.08471\tvalid_1's rmse: 1.23463\n",
      "[425]\ttraining's rmse: 1.07633\tvalid_1's rmse: 1.22441\n",
      "[450]\ttraining's rmse: 1.06749\tvalid_1's rmse: 1.2153\n",
      "[475]\ttraining's rmse: 1.05995\tvalid_1's rmse: 1.20835\n",
      "[500]\ttraining's rmse: 1.05401\tvalid_1's rmse: 1.201\n",
      "[525]\ttraining's rmse: 1.0469\tvalid_1's rmse: 1.19657\n",
      "[550]\ttraining's rmse: 1.04115\tvalid_1's rmse: 1.19279\n",
      "[575]\ttraining's rmse: 1.03434\tvalid_1's rmse: 1.18723\n",
      "[600]\ttraining's rmse: 1.02743\tvalid_1's rmse: 1.18213\n",
      "[625]\ttraining's rmse: 1.02192\tvalid_1's rmse: 1.17751\n",
      "[650]\ttraining's rmse: 1.01791\tvalid_1's rmse: 1.17467\n",
      "[675]\ttraining's rmse: 1.01324\tvalid_1's rmse: 1.1717\n",
      "[700]\ttraining's rmse: 1.00923\tvalid_1's rmse: 1.17004\n",
      "[725]\ttraining's rmse: 1.00507\tvalid_1's rmse: 1.16804\n",
      "[750]\ttraining's rmse: 1.0012\tvalid_1's rmse: 1.16575\n",
      "[775]\ttraining's rmse: 0.997872\tvalid_1's rmse: 1.16424\n",
      "[800]\ttraining's rmse: 0.993602\tvalid_1's rmse: 1.16203\n",
      "[825]\ttraining's rmse: 0.988786\tvalid_1's rmse: 1.15876\n",
      "[850]\ttraining's rmse: 0.985802\tvalid_1's rmse: 1.15683\n",
      "[875]\ttraining's rmse: 0.98193\tvalid_1's rmse: 1.15432\n",
      "[900]\ttraining's rmse: 0.979222\tvalid_1's rmse: 1.15338\n",
      "[925]\ttraining's rmse: 0.97628\tvalid_1's rmse: 1.15064\n",
      "[950]\ttraining's rmse: 0.973736\tvalid_1's rmse: 1.14888\n",
      "[975]\ttraining's rmse: 0.970926\tvalid_1's rmse: 1.14706\n",
      "[1000]\ttraining's rmse: 0.967685\tvalid_1's rmse: 1.14438\n",
      "Did not meet early stopping. Best iteration is:\n",
      "[1000]\ttraining's rmse: 0.949458\tvalid_1's rmse: 1.16539\n"
     ]
    },
    {
     "name": "stderr",
     "output_type": "stream",
     "text": [
      "/opt/homebrew/Caskroom/miniforge/base/envs/python_3.10/lib/python3.10/site-packages/lightgbm/basic.py:2068: UserWarning: categorical_feature in Dataset is overridden.\n",
      "New categorical_feature is ['hour', 'meter', 'primary_use', 'site_id', 'weekend', 'year_built']\n",
      "  _log_warning('categorical_feature in Dataset is overridden.\\n'\n",
      "/opt/homebrew/Caskroom/miniforge/base/envs/python_3.10/lib/python3.10/site-packages/lightgbm/basic.py:1780: UserWarning: Overriding the parameters from Reference Dataset.\n",
      "  _log_warning('Overriding the parameters from Reference Dataset.')\n",
      "/opt/homebrew/Caskroom/miniforge/base/envs/python_3.10/lib/python3.10/site-packages/lightgbm/basic.py:1513: UserWarning: categorical_column in param dict is overridden.\n",
      "  _log_warning(f'{cat_alias} in param dict is overridden.')\n"
     ]
    },
    {
     "name": "stdout",
     "output_type": "stream",
     "text": [
      "[25]\ttraining's rmse: 1.54868\tvalid_1's rmse: 1.56872\n",
      "[50]\ttraining's rmse: 1.40133\tvalid_1's rmse: 1.44077\n",
      "[75]\ttraining's rmse: 1.32613\tvalid_1's rmse: 1.38467\n",
      "[100]\ttraining's rmse: 1.27643\tvalid_1's rmse: 1.35037\n",
      "[125]\ttraining's rmse: 1.24161\tvalid_1's rmse: 1.33029\n",
      "[150]\ttraining's rmse: 1.2157\tvalid_1's rmse: 1.31307\n",
      "[175]\ttraining's rmse: 1.18865\tvalid_1's rmse: 1.29877\n",
      "[200]\ttraining's rmse: 1.16681\tvalid_1's rmse: 1.28568\n",
      "[225]\ttraining's rmse: 1.14879\tvalid_1's rmse: 1.27673\n",
      "[250]\ttraining's rmse: 1.13386\tvalid_1's rmse: 1.26929\n",
      "[275]\ttraining's rmse: 1.11891\tvalid_1's rmse: 1.26264\n",
      "[300]\ttraining's rmse: 1.10549\tvalid_1's rmse: 1.2573\n",
      "[325]\ttraining's rmse: 1.09351\tvalid_1's rmse: 1.25185\n",
      "[350]\ttraining's rmse: 1.08266\tvalid_1's rmse: 1.24847\n",
      "[375]\ttraining's rmse: 1.06916\tvalid_1's rmse: 1.2409\n",
      "[400]\ttraining's rmse: 1.05817\tvalid_1's rmse: 1.2363\n",
      "[425]\ttraining's rmse: 1.04929\tvalid_1's rmse: 1.23229\n",
      "[450]\ttraining's rmse: 1.03984\tvalid_1's rmse: 1.22961\n",
      "[475]\ttraining's rmse: 1.03069\tvalid_1's rmse: 1.22497\n",
      "[500]\ttraining's rmse: 1.02362\tvalid_1's rmse: 1.22135\n",
      "[525]\ttraining's rmse: 1.01598\tvalid_1's rmse: 1.21725\n",
      "[550]\ttraining's rmse: 1.00681\tvalid_1's rmse: 1.21337\n",
      "[575]\ttraining's rmse: 1.00012\tvalid_1's rmse: 1.21129\n",
      "[600]\ttraining's rmse: 0.995165\tvalid_1's rmse: 1.20968\n",
      "[625]\ttraining's rmse: 0.990172\tvalid_1's rmse: 1.2079\n",
      "[650]\ttraining's rmse: 0.983873\tvalid_1's rmse: 1.20588\n",
      "[675]\ttraining's rmse: 0.976812\tvalid_1's rmse: 1.20375\n",
      "[700]\ttraining's rmse: 0.970554\tvalid_1's rmse: 1.2009\n",
      "[725]\ttraining's rmse: 0.962665\tvalid_1's rmse: 1.19815\n",
      "[750]\ttraining's rmse: 0.957614\tvalid_1's rmse: 1.19627\n",
      "[775]\ttraining's rmse: 0.951884\tvalid_1's rmse: 1.19356\n",
      "[800]\ttraining's rmse: 0.94759\tvalid_1's rmse: 1.192\n",
      "[825]\ttraining's rmse: 0.943042\tvalid_1's rmse: 1.19059\n",
      "[850]\ttraining's rmse: 0.939331\tvalid_1's rmse: 1.18993\n",
      "[875]\ttraining's rmse: 0.934811\tvalid_1's rmse: 1.18911\n",
      "[900]\ttraining's rmse: 0.93095\tvalid_1's rmse: 1.1883\n",
      "[925]\ttraining's rmse: 0.927022\tvalid_1's rmse: 1.18709\n",
      "[950]\ttraining's rmse: 0.92381\tvalid_1's rmse: 1.18664\n",
      "[975]\ttraining's rmse: 0.920559\tvalid_1's rmse: 1.18608\n",
      "[1000]\ttraining's rmse: 0.917765\tvalid_1's rmse: 1.18553\n",
      "Did not meet early stopping. Best iteration is:\n",
      "[1000]\ttraining's rmse: 0.917765\tvalid_1's rmse: 1.18553\n"
     ]
    }
   ],
   "source": [
    "# カテゴリ変数リスト\n",
    "categorical_features = [\"site_id\", \"meter\", \"primary_use\", \"hour\", \"weekend\", \"year_built\"]\n",
    "\n",
    "# パラメーター設定\n",
    "params = {\n",
    "    \"objective\": \"regression\", # 目的関数：回帰\n",
    "    \"boosting\": \"gbdt\", # 勾配ブースティング\n",
    "    # \"seed\": 314, #シード値\n",
    "    \"num_leaves\": 62, # 決定木の端末ノードの数\n",
    "    #\"max_depth\": 7, #決定木の深さ\n",
    "    \"learning_rate\": 0.05, # 学習率\n",
    "    \"feature_fraction\": 0.85, # 特徴量の削減率 ※1未満の場合、特徴量を削減して学習される\n",
    "    \"reg_lambda\": 2, # L2正則化項の係数 ※過学習を防ぐために用いる関数のパラメータ\n",
    "    \"metric\": \"rmse\",# モデルの性能を測る指標 ※二乗平均平方根誤差\n",
    "    \"force_row_wise\": True, # 行ベースのヒストグラムを生成する\n",
    "    \"verbose\": -1\n",
    "}\n",
    "\n",
    "# シード値｀\n",
    "seeds = [314, 2801, 3532]\n",
    "\n",
    "earlyStoppingcallback = early_stopping(50)\n",
    "logEvaluationCallback = log_evaluation(25)\n",
    "\n",
    "# 学習実行\n",
    "cnt = 0\n",
    "kf = KFold(n_splits=3)\n",
    "models = []\n",
    "for train_index, test_index in kf.split(features):\n",
    "    train_features = features.loc[train_index]\n",
    "    train_target = target.loc[train_index]\n",
    "    \n",
    "    test_features = features.loc[test_index]\n",
    "    test_target = target.loc[test_index]\n",
    "\n",
    "    # データセット作成    \n",
    "    d_training = lgb.Dataset(train_features, label=train_target, free_raw_data=False)\n",
    "    d_test = lgb.Dataset(test_features, label=test_target, free_raw_data=False)\n",
    "    \n",
    "    params[\"seed\"] = seeds[cnt]\n",
    "\n",
    "    # 学習実行\n",
    "    model = lgb.train(\n",
    "        params,\n",
    "        train_set=d_training,\n",
    "        num_boost_round=1000,\n",
    "        valid_sets=[d_training, d_test],\n",
    "        categorical_feature=categorical_features,\n",
    "        callbacks=[\n",
    "            earlyStoppingcallback,\n",
    "            logEvaluationCallback\n",
    "        ]\n",
    "    )\n",
    "    \n",
    "    models.append(model)\n",
    "    cnt += 1\n",
    "    \n",
    "    del train_features, train_target, test_features, test_target, d_training, d_test\n",
    "    gc.collect()"
   ]
  },
  {
   "cell_type": "code",
   "execution_count": 40,
   "metadata": {},
   "outputs": [
    {
     "data": {
      "text/plain": [
       "15"
      ]
     },
     "execution_count": 40,
     "metadata": {},
     "output_type": "execute_result"
    }
   ],
   "source": [
    "# メモリ解放\n",
    "del features, target\n",
    "gc.collect()"
   ]
  },
  {
   "cell_type": "code",
   "execution_count": 41,
   "metadata": {},
   "outputs": [
    {
     "data": {
      "image/png": "[encoded data removed]",
      "text/plain": [
       "<Figure size 432x288 with 1 Axes>"
      ]
     },
     "metadata": {
      "needs_background": "light"
     },
     "output_type": "display_data"
    },
    {
     "data": {
      "image/png": "[encoded data removed]",
      "text/plain": [
       "<Figure size 432x288 with 1 Axes>"
      ]
     },
     "metadata": {
      "needs_background": "light"
     },
     "output_type": "display_data"
    },
    {
     "data": {
      "image/png": "[encoded data removed]",
      "text/plain": [
       "<Figure size 432x288 with 1 Axes>"
      ]
     },
     "metadata": {
      "needs_background": "light"
     },
     "output_type": "display_data"
    }
   ],
   "source": [
    "# 学習結果をプロット\n",
    "for model in models:\n",
    "    lgb.plot_importance(model)\n",
    "    plt.show()\n",
    "    # lgb.create_tree_digraph(model)"
   ]
  },
  {
   "cell_type": "code",
   "execution_count": 42,
   "metadata": {},
   "outputs": [
    {
     "name": "stdout",
     "output_type": "stream",
     "text": [
      "Memory usage of dataframe is 954.38 MB\n",
      "Memory usage after optimization is: 199.47 MB\n",
      "Decreased by 79.1%\n"
     ]
    }
   ],
   "source": [
    "# テストデータ読み込み\n",
    "test_df = pd.read_csv(os.path.join(DATA_PATH, 'test.csv'))\n",
    "row_ids = test_df[\"row_id\"]\n",
    "test_df.drop(\"row_id\", axis=1, inplace=True)\n",
    "test_df = reduce_mem_usage(test_df)"
   ]
  },
  {
   "cell_type": "code",
   "execution_count": null,
   "metadata": {},
   "outputs": [],
   "source": [
    "# コーディング用にロード、加工したデータを保存する\n",
    "# TODO:テストコードのため、要削除\n",
    "# test_df.to_pickle(os.path.join(DATA_PATH, \"test_df.pkl\"))"
   ]
  },
  {
   "cell_type": "code",
   "execution_count": 14,
   "metadata": {},
   "outputs": [],
   "source": [
    "# コーディング用に保存したデータをロードする\n",
    "# TODO:テストコードのため、要削除\n",
    "test_df = pd.read_pickle(os.path.join(DATA_PATH, \"test_df.pkl\"))"
   ]
  },
  {
   "cell_type": "code",
   "execution_count": 45,
   "metadata": {},
   "outputs": [
    {
     "data": {
      "text/plain": [
       "969"
      ]
     },
     "execution_count": 45,
     "metadata": {},
     "output_type": "execute_result"
    }
   ],
   "source": [
    "# ビルデータを結合\n",
    "test_df = test_df.merge(building_df,left_on='building_id',right_on='building_id',how='left')\n",
    "del building_df\n",
    "gc.collect()"
   ]
  },
  {
   "cell_type": "code",
   "execution_count": 43,
   "metadata": {},
   "outputs": [
    {
     "name": "stderr",
     "output_type": "stream",
     "text": [
      "/var/folders/km/rlhv761j4rqcrksj6ch5bw_r0000gn/T/ipykernel_8230/4205743041.py:36: FutureWarning: Series.dt.weekofyear and Series.dt.week have been deprecated. Please use Series.dt.isocalendar().week instead.\n",
      "  weather_df[\"week\"] = weather_df[\"datetime\"].dt.week\n",
      "/var/folders/km/rlhv761j4rqcrksj6ch5bw_r0000gn/T/ipykernel_8230/890867776.py:67: SettingWithCopyWarning: \n",
      "A value is trying to be set on a copy of a slice from a DataFrame.\n",
      "Try using .loc[row_indexer,col_indexer] = value instead\n",
      "\n",
      "See the caveats in the documentation: https://pandas.pydata.org/pandas-docs/stable/user_guide/indexing.html#returning-a-view-versus-a-copy\n",
      "  update_datetime_df[\"datetime\"] = update_datetime_df[\"original_datetime\"].dt.tz_convert(timezone)\n",
      "/var/folders/km/rlhv761j4rqcrksj6ch5bw_r0000gn/T/ipykernel_8230/890867776.py:70: SettingWithCopyWarning: \n",
      "A value is trying to be set on a copy of a slice from a DataFrame.\n",
      "Try using .loc[row_indexer,col_indexer] = value instead\n",
      "\n",
      "See the caveats in the documentation: https://pandas.pydata.org/pandas-docs/stable/user_guide/indexing.html#returning-a-view-versus-a-copy\n",
      "  update_datetime_df[\"conv_timestamp\"] = update_datetime_df[\"datetime\"].dt.strftime(\"%Y-%m-%d %H:%M:%S\")\n",
      "/var/folders/km/rlhv761j4rqcrksj6ch5bw_r0000gn/T/ipykernel_8230/890867776.py:77: SettingWithCopyWarning: \n",
      "A value is trying to be set on a copy of a slice from a DataFrame.\n",
      "Try using .loc[row_indexer,col_indexer] = value instead\n",
      "\n",
      "See the caveats in the documentation: https://pandas.pydata.org/pandas-docs/stable/user_guide/indexing.html#returning-a-view-versus-a-copy\n",
      "  summer_time_datetime_df[\"datetime\"] = summer_time_datetime_df[\"original_datetime\"].dt.tz_convert(summer_timezone)\n",
      "/var/folders/km/rlhv761j4rqcrksj6ch5bw_r0000gn/T/ipykernel_8230/890867776.py:80: SettingWithCopyWarning: \n",
      "A value is trying to be set on a copy of a slice from a DataFrame.\n",
      "Try using .loc[row_indexer,col_indexer] = value instead\n",
      "\n",
      "See the caveats in the documentation: https://pandas.pydata.org/pandas-docs/stable/user_guide/indexing.html#returning-a-view-versus-a-copy\n",
      "  summer_time_datetime_df[\"conv_timestamp\"] = summer_time_datetime_df[\"datetime\"].dt.strftime(\"%Y-%m-%d %H:%M:%S\")\n",
      "/var/folders/km/rlhv761j4rqcrksj6ch5bw_r0000gn/T/ipykernel_8230/890867776.py:82: SettingWithCopyWarning: \n",
      "A value is trying to be set on a copy of a slice from a DataFrame.\n",
      "Try using .loc[row_indexer,col_indexer] = value instead\n",
      "\n",
      "See the caveats in the documentation: https://pandas.pydata.org/pandas-docs/stable/user_guide/indexing.html#returning-a-view-versus-a-copy\n",
      "  update_datetime_df.update(summer_time_datetime_df, overwrite=True)\n"
     ]
    },
    {
     "name": "stdout",
     "output_type": "stream",
     "text": [
      "Memory usage of dataframe is 28.90 MB\n",
      "Memory usage after optimization is: 14.86 MB\n",
      "Decreased by 48.6%\n"
     ]
    }
   ],
   "source": [
    "# テスト気象データ読み込み、データを結合\n",
    "weather_train_df = pd.read_csv(os.path.join(DATA_PATH, 'weather_train.csv'))\n",
    "weather_test_df = pd.read_csv(os.path.join(DATA_PATH, 'weather_test.csv'))\n",
    "weather_df = pd.concat([weather_train_df, weather_test_df])\n",
    "# weather_df = pd.read_csv(os.path.join(DATA_PATH, 'weather_test.csv'))\n",
    "weather_df = fill_weather_dataset(weather_df)\n",
    "weather_df = convert_timezone(weather_df)\n",
    "weather_df = reduce_mem_usage(weather_df)\n",
    "\n",
    "del weather_train_df, weather_test_df"
   ]
  },
  {
   "cell_type": "code",
   "execution_count": null,
   "metadata": {},
   "outputs": [],
   "source": [
    "# コーディング用にロード、加工したデータを保存する\n",
    "# TODO:テストコードのため、要削除\n",
    "# weather_df.to_pickle(os.path.join(DATA_PATH, \"weather_test_df.pkl\"))"
   ]
  },
  {
   "cell_type": "code",
   "execution_count": 15,
   "metadata": {},
   "outputs": [],
   "source": [
    "# コーディング用に保存したデータをロードする\n",
    "# TODO:テストコードのため、要削除\n",
    "weather_df = pd.read_pickle(os.path.join(DATA_PATH, \"weather_test_df.pkl\"))"
   ]
  },
  {
   "cell_type": "code",
   "execution_count": 46,
   "metadata": {},
   "outputs": [
    {
     "data": {
      "text/plain": [
       "15"
      ]
     },
     "execution_count": 46,
     "metadata": {},
     "output_type": "execute_result"
    }
   ],
   "source": [
    "# 気象データをテストデータへ結合\n",
    "test_df = test_df.merge(weather_df,how='left',on=['timestamp','site_id'])\n",
    "del weather_df\n",
    "gc.collect()"
   ]
  },
  {
   "cell_type": "code",
   "execution_count": 47,
   "metadata": {},
   "outputs": [
    {
     "name": "stderr",
     "output_type": "stream",
     "text": [
      "/opt/homebrew/Caskroom/miniforge/base/envs/python_3.10/lib/python3.10/site-packages/pandas/core/arraylike.py:397: RuntimeWarning: invalid value encountered in sin\n",
      "  result = getattr(ufunc, method)(*inputs, **kwargs)\n"
     ]
    }
   ],
   "source": [
    "# 特徴量を作成する\n",
    "test_df = features_engineering(test_df)"
   ]
  },
  {
   "cell_type": "code",
   "execution_count": 48,
   "metadata": {},
   "outputs": [
    {
     "name": "stderr",
     "output_type": "stream",
     "text": [
      "/var/folders/km/rlhv761j4rqcrksj6ch5bw_r0000gn/T/ipykernel_8230/3602265000.py:4: DeprecationWarning: elementwise comparison failed; this will raise an error in the future.\n",
      "  if  results == []:\n"
     ]
    }
   ],
   "source": [
    "# 推定する\n",
    "results = []\n",
    "for model in models:\n",
    "    if  results == []:\n",
    "        results = np.expm1(model.predict(test_df, num_iteration=model.best_iteration)) / len(models)\n",
    "    else:\n",
    "        results += np.expm1(model.predict(test_df, num_iteration=model.best_iteration)) / len(models)\n",
    "    # del model\n",
    "    gc.collect()"
   ]
  },
  {
   "cell_type": "code",
   "execution_count": 49,
   "metadata": {},
   "outputs": [
    {
     "data": {
      "text/plain": [
       "0"
      ]
     },
     "execution_count": 49,
     "metadata": {},
     "output_type": "execute_result"
    }
   ],
   "source": [
    "# データ、モデル削除\n",
    "del test_df, models\n",
    "gc.collect()"
   ]
  },
  {
   "cell_type": "code",
   "execution_count": 50,
   "metadata": {},
   "outputs": [],
   "source": [
    "# 提出データ作成\n",
    "results_df = pd.DataFrame({\"row_id\": row_ids, \"meter_reading\": np.clip(results, 0, a_max=None)})\n",
    "del row_ids,results\n",
    "gc.collect()\n",
    "results_df.to_csv(\"submission.csv\", index=False)"
   ]
  },
  {
   "cell_type": "code",
   "execution_count": 24,
   "metadata": {},
   "outputs": [
    {
     "data": {
      "text/html": [
       "<div>\n",
       "<style scoped>\n",
       "    .dataframe tbody tr th:only-of-type {\n",
       "        vertical-align: middle;\n",
       "    }\n",
       "\n",
       "    .dataframe tbody tr th {\n",
       "        vertical-align: top;\n",
       "    }\n",
       "\n",
       "    .dataframe thead th {\n",
       "        text-align: right;\n",
       "    }\n",
       "</style>\n",
       "<table border=\"1\" class=\"dataframe\">\n",
       "  <thead>\n",
       "    <tr style=\"text-align: right;\">\n",
       "      <th></th>\n",
       "      <th>row_id</th>\n",
       "      <th>meter_reading</th>\n",
       "    </tr>\n",
       "  </thead>\n",
       "  <tbody>\n",
       "    <tr>\n",
       "      <th>0</th>\n",
       "      <td>0</td>\n",
       "      <td>123.849259</td>\n",
       "    </tr>\n",
       "    <tr>\n",
       "      <th>1</th>\n",
       "      <td>1</td>\n",
       "      <td>62.940305</td>\n",
       "    </tr>\n",
       "    <tr>\n",
       "      <th>2</th>\n",
       "      <td>2</td>\n",
       "      <td>9.525832</td>\n",
       "    </tr>\n",
       "    <tr>\n",
       "      <th>3</th>\n",
       "      <td>3</td>\n",
       "      <td>237.300438</td>\n",
       "    </tr>\n",
       "    <tr>\n",
       "      <th>4</th>\n",
       "      <td>4</td>\n",
       "      <td>1260.965857</td>\n",
       "    </tr>\n",
       "    <tr>\n",
       "      <th>5</th>\n",
       "      <td>5</td>\n",
       "      <td>62.410361</td>\n",
       "    </tr>\n",
       "    <tr>\n",
       "      <th>6</th>\n",
       "      <td>6</td>\n",
       "      <td>116.221314</td>\n",
       "    </tr>\n",
       "    <tr>\n",
       "      <th>7</th>\n",
       "      <td>7</td>\n",
       "      <td>592.043077</td>\n",
       "    </tr>\n",
       "    <tr>\n",
       "      <th>8</th>\n",
       "      <td>8</td>\n",
       "      <td>397.530478</td>\n",
       "    </tr>\n",
       "    <tr>\n",
       "      <th>9</th>\n",
       "      <td>9</td>\n",
       "      <td>307.365620</td>\n",
       "    </tr>\n",
       "    <tr>\n",
       "      <th>10</th>\n",
       "      <td>10</td>\n",
       "      <td>78.850009</td>\n",
       "    </tr>\n",
       "    <tr>\n",
       "      <th>11</th>\n",
       "      <td>11</td>\n",
       "      <td>21.989914</td>\n",
       "    </tr>\n",
       "    <tr>\n",
       "      <th>12</th>\n",
       "      <td>12</td>\n",
       "      <td>1375.901619</td>\n",
       "    </tr>\n",
       "    <tr>\n",
       "      <th>13</th>\n",
       "      <td>13</td>\n",
       "      <td>301.028441</td>\n",
       "    </tr>\n",
       "    <tr>\n",
       "      <th>14</th>\n",
       "      <td>14</td>\n",
       "      <td>184.301326</td>\n",
       "    </tr>\n",
       "    <tr>\n",
       "      <th>15</th>\n",
       "      <td>15</td>\n",
       "      <td>215.713726</td>\n",
       "    </tr>\n",
       "    <tr>\n",
       "      <th>16</th>\n",
       "      <td>16</td>\n",
       "      <td>53.561271</td>\n",
       "    </tr>\n",
       "    <tr>\n",
       "      <th>17</th>\n",
       "      <td>17</td>\n",
       "      <td>313.678808</td>\n",
       "    </tr>\n",
       "    <tr>\n",
       "      <th>18</th>\n",
       "      <td>18</td>\n",
       "      <td>199.472239</td>\n",
       "    </tr>\n",
       "    <tr>\n",
       "      <th>19</th>\n",
       "      <td>19</td>\n",
       "      <td>224.539304</td>\n",
       "    </tr>\n",
       "  </tbody>\n",
       "</table>\n",
       "</div>"
      ],
      "text/plain": [
       "    row_id  meter_reading\n",
       "0        0     123.849259\n",
       "1        1      62.940305\n",
       "2        2       9.525832\n",
       "3        3     237.300438\n",
       "4        4    1260.965857\n",
       "5        5      62.410361\n",
       "6        6     116.221314\n",
       "7        7     592.043077\n",
       "8        8     397.530478\n",
       "9        9     307.365620\n",
       "10      10      78.850009\n",
       "11      11      21.989914\n",
       "12      12    1375.901619\n",
       "13      13     301.028441\n",
       "14      14     184.301326\n",
       "15      15     215.713726\n",
       "16      16      53.561271\n",
       "17      17     313.678808\n",
       "18      18     199.472239\n",
       "19      19     224.539304"
      ]
     },
     "execution_count": 24,
     "metadata": {},
     "output_type": "execute_result"
    }
   ],
   "source": [
    "results_df.head(20)"
   ]
  },
  {
   "cell_type": "code",
   "execution_count": 51,
   "metadata": {},
   "outputs": [
    {
     "name": "stdout",
     "output_type": "stream",
     "text": [
      "100%|██████████████████████████████████████| 1.05G/1.05G [06:18<00:00, 2.99MB/s]\n",
      "Successfully submitted to ASHRAE - Great Energy Predictor III"
     ]
    }
   ],
   "source": [
    "# 推定結果を提出\n",
    "!kaggle competitions submit  -f submission.csv -m \"lightGBMを用いて推定 5回目提出 気象データの観測日時を各サイトの現地時間に変換して紐づけるように修正\" ashrae-energy-prediction"
   ]
  },
  {
   "cell_type": "markdown",
   "metadata": {},
   "source": [
    "---\n",
    "\n",
    "以下、テストコード"
   ]
  },
  {
   "cell_type": "code",
   "execution_count": null,
   "metadata": {},
   "outputs": [
    {
     "name": "stderr",
     "output_type": "stream",
     "text": [
      "/var/folders/km/rlhv761j4rqcrksj6ch5bw_r0000gn/T/ipykernel_19513/2116604713.py:3: FutureWarning: In a future version of pandas all arguments of DataFrame.drop except for the argument 'labels' will be keyword-only.\n",
      "  tmp_weather_df.merge(weather_df, indicator=True, how='outer').query('_merge==\"left_only\"').drop('_merge', 1)\n"
     ]
    },
    {
     "data": {
      "text/html": [
       "<div>\n",
       "<style scoped>\n",
       "    .dataframe tbody tr th:only-of-type {\n",
       "        vertical-align: middle;\n",
       "    }\n",
       "\n",
       "    .dataframe tbody tr th {\n",
       "        vertical-align: top;\n",
       "    }\n",
       "\n",
       "    .dataframe thead th {\n",
       "        text-align: right;\n",
       "    }\n",
       "</style>\n",
       "<table border=\"1\" class=\"dataframe\">\n",
       "  <thead>\n",
       "    <tr style=\"text-align: right;\">\n",
       "      <th></th>\n",
       "      <th>site_id</th>\n",
       "      <th>timestamp</th>\n",
       "      <th>air_temperature</th>\n",
       "      <th>cloud_coverage</th>\n",
       "      <th>dew_temperature</th>\n",
       "      <th>precip_depth_1_hr</th>\n",
       "      <th>sea_level_pressure</th>\n",
       "      <th>wind_direction</th>\n",
       "      <th>wind_speed</th>\n",
       "    </tr>\n",
       "  </thead>\n",
       "  <tbody>\n",
       "    <tr>\n",
       "      <th>139773</th>\n",
       "      <td>1</td>\n",
       "      <td>2016-02-15 14:00:00</td>\n",
       "      <td>NaN</td>\n",
       "      <td>NaN</td>\n",
       "      <td>NaN</td>\n",
       "      <td>NaN</td>\n",
       "      <td>NaN</td>\n",
       "      <td>NaN</td>\n",
       "      <td>NaN</td>\n",
       "    </tr>\n",
       "    <tr>\n",
       "      <th>139774</th>\n",
       "      <td>1</td>\n",
       "      <td>2016-02-15 15:00:00</td>\n",
       "      <td>NaN</td>\n",
       "      <td>NaN</td>\n",
       "      <td>NaN</td>\n",
       "      <td>NaN</td>\n",
       "      <td>NaN</td>\n",
       "      <td>NaN</td>\n",
       "      <td>NaN</td>\n",
       "    </tr>\n",
       "    <tr>\n",
       "      <th>139775</th>\n",
       "      <td>1</td>\n",
       "      <td>2016-02-15 16:00:00</td>\n",
       "      <td>NaN</td>\n",
       "      <td>NaN</td>\n",
       "      <td>NaN</td>\n",
       "      <td>NaN</td>\n",
       "      <td>NaN</td>\n",
       "      <td>NaN</td>\n",
       "      <td>NaN</td>\n",
       "    </tr>\n",
       "    <tr>\n",
       "      <th>139776</th>\n",
       "      <td>1</td>\n",
       "      <td>2016-02-15 17:00:00</td>\n",
       "      <td>NaN</td>\n",
       "      <td>NaN</td>\n",
       "      <td>NaN</td>\n",
       "      <td>NaN</td>\n",
       "      <td>NaN</td>\n",
       "      <td>NaN</td>\n",
       "      <td>NaN</td>\n",
       "    </tr>\n",
       "    <tr>\n",
       "      <th>139777</th>\n",
       "      <td>1</td>\n",
       "      <td>2016-02-15 20:00:00</td>\n",
       "      <td>NaN</td>\n",
       "      <td>NaN</td>\n",
       "      <td>NaN</td>\n",
       "      <td>NaN</td>\n",
       "      <td>NaN</td>\n",
       "      <td>NaN</td>\n",
       "      <td>NaN</td>\n",
       "    </tr>\n",
       "    <tr>\n",
       "      <th>...</th>\n",
       "      <td>...</td>\n",
       "      <td>...</td>\n",
       "      <td>...</td>\n",
       "      <td>...</td>\n",
       "      <td>...</td>\n",
       "      <td>...</td>\n",
       "      <td>...</td>\n",
       "      <td>...</td>\n",
       "      <td>...</td>\n",
       "    </tr>\n",
       "    <tr>\n",
       "      <th>140539</th>\n",
       "      <td>15</td>\n",
       "      <td>2016-12-09 10:00:00</td>\n",
       "      <td>NaN</td>\n",
       "      <td>NaN</td>\n",
       "      <td>NaN</td>\n",
       "      <td>NaN</td>\n",
       "      <td>NaN</td>\n",
       "      <td>NaN</td>\n",
       "      <td>NaN</td>\n",
       "    </tr>\n",
       "    <tr>\n",
       "      <th>140540</th>\n",
       "      <td>15</td>\n",
       "      <td>2016-12-17 07:00:00</td>\n",
       "      <td>NaN</td>\n",
       "      <td>NaN</td>\n",
       "      <td>NaN</td>\n",
       "      <td>NaN</td>\n",
       "      <td>NaN</td>\n",
       "      <td>NaN</td>\n",
       "      <td>NaN</td>\n",
       "    </tr>\n",
       "    <tr>\n",
       "      <th>140541</th>\n",
       "      <td>15</td>\n",
       "      <td>2016-12-20 06:00:00</td>\n",
       "      <td>NaN</td>\n",
       "      <td>NaN</td>\n",
       "      <td>NaN</td>\n",
       "      <td>NaN</td>\n",
       "      <td>NaN</td>\n",
       "      <td>NaN</td>\n",
       "      <td>NaN</td>\n",
       "    </tr>\n",
       "    <tr>\n",
       "      <th>140542</th>\n",
       "      <td>15</td>\n",
       "      <td>2016-12-24 05:00:00</td>\n",
       "      <td>NaN</td>\n",
       "      <td>NaN</td>\n",
       "      <td>NaN</td>\n",
       "      <td>NaN</td>\n",
       "      <td>NaN</td>\n",
       "      <td>NaN</td>\n",
       "      <td>NaN</td>\n",
       "    </tr>\n",
       "    <tr>\n",
       "      <th>140543</th>\n",
       "      <td>15</td>\n",
       "      <td>2016-12-28 10:00:00</td>\n",
       "      <td>NaN</td>\n",
       "      <td>NaN</td>\n",
       "      <td>NaN</td>\n",
       "      <td>NaN</td>\n",
       "      <td>NaN</td>\n",
       "      <td>NaN</td>\n",
       "      <td>NaN</td>\n",
       "    </tr>\n",
       "  </tbody>\n",
       "</table>\n",
       "<p>771 rows × 9 columns</p>\n",
       "</div>"
      ],
      "text/plain": [
       "        site_id            timestamp  air_temperature  cloud_coverage  \\\n",
       "139773        1  2016-02-15 14:00:00              NaN             NaN   \n",
       "139774        1  2016-02-15 15:00:00              NaN             NaN   \n",
       "139775        1  2016-02-15 16:00:00              NaN             NaN   \n",
       "139776        1  2016-02-15 17:00:00              NaN             NaN   \n",
       "139777        1  2016-02-15 20:00:00              NaN             NaN   \n",
       "...         ...                  ...              ...             ...   \n",
       "140539       15  2016-12-09 10:00:00              NaN             NaN   \n",
       "140540       15  2016-12-17 07:00:00              NaN             NaN   \n",
       "140541       15  2016-12-20 06:00:00              NaN             NaN   \n",
       "140542       15  2016-12-24 05:00:00              NaN             NaN   \n",
       "140543       15  2016-12-28 10:00:00              NaN             NaN   \n",
       "\n",
       "        dew_temperature  precip_depth_1_hr  sea_level_pressure  \\\n",
       "139773              NaN                NaN                 NaN   \n",
       "139774              NaN                NaN                 NaN   \n",
       "139775              NaN                NaN                 NaN   \n",
       "139776              NaN                NaN                 NaN   \n",
       "139777              NaN                NaN                 NaN   \n",
       "...                 ...                ...                 ...   \n",
       "140539              NaN                NaN                 NaN   \n",
       "140540              NaN                NaN                 NaN   \n",
       "140541              NaN                NaN                 NaN   \n",
       "140542              NaN                NaN                 NaN   \n",
       "140543              NaN                NaN                 NaN   \n",
       "\n",
       "        wind_direction  wind_speed  \n",
       "139773             NaN         NaN  \n",
       "139774             NaN         NaN  \n",
       "139775             NaN         NaN  \n",
       "139776             NaN         NaN  \n",
       "139777             NaN         NaN  \n",
       "...                ...         ...  \n",
       "140539             NaN         NaN  \n",
       "140540             NaN         NaN  \n",
       "140541             NaN         NaN  \n",
       "140542             NaN         NaN  \n",
       "140543             NaN         NaN  \n",
       "\n",
       "[771 rows x 9 columns]"
      ]
     },
     "execution_count": 14,
     "metadata": {},
     "output_type": "execute_result"
    }
   ],
   "source": [
    "# データ差異を確認\n",
    "tmp_weather_df.merge(weather_df, indicator=True, how='outer').query('_merge==\"left_only\"').drop('_merge', 1)"
   ]
  },
  {
   "cell_type": "code",
   "execution_count": null,
   "metadata": {},
   "outputs": [
    {
     "data": {
      "text/plain": [
       "0.0"
      ]
     },
     "execution_count": 24,
     "metadata": {},
     "output_type": "execute_result"
    }
   ],
   "source": [
    "\n",
    "np.log1p(0)"
   ]
  },
  {
   "cell_type": "code",
   "execution_count": null,
   "metadata": {},
   "outputs": [
    {
     "data": {
      "text/html": [
       "<div>\n",
       "<style scoped>\n",
       "    .dataframe tbody tr th:only-of-type {\n",
       "        vertical-align: middle;\n",
       "    }\n",
       "\n",
       "    .dataframe tbody tr th {\n",
       "        vertical-align: top;\n",
       "    }\n",
       "\n",
       "    .dataframe thead th {\n",
       "        text-align: right;\n",
       "    }\n",
       "</style>\n",
       "<table border=\"1\" class=\"dataframe\">\n",
       "  <thead>\n",
       "    <tr style=\"text-align: right;\">\n",
       "      <th></th>\n",
       "      <th>site_id</th>\n",
       "      <th>timestamp</th>\n",
       "      <th>air_temperature</th>\n",
       "      <th>cloud_coverage</th>\n",
       "      <th>dew_temperature</th>\n",
       "      <th>precip_depth_1_hr</th>\n",
       "      <th>sea_level_pressure</th>\n",
       "      <th>wind_direction</th>\n",
       "      <th>wind_speed</th>\n",
       "    </tr>\n",
       "  </thead>\n",
       "  <tbody>\n",
       "  </tbody>\n",
       "</table>\n",
       "</div>"
      ],
      "text/plain": [
       "Empty DataFrame\n",
       "Columns: [site_id, timestamp, air_temperature, cloud_coverage, dew_temperature, precip_depth_1_hr, sea_level_pressure, wind_direction, wind_speed]\n",
       "Index: []"
      ]
     },
     "execution_count": 12,
     "metadata": {},
     "output_type": "execute_result"
    }
   ],
   "source": [
    "# 風向きが0のデータは風速が0のデータであることを確認\n",
    "weather_df.query(\"wind_direction == 0 and wind_speed != 0\")"
   ]
  },
  {
   "cell_type": "code",
   "execution_count": 65,
   "metadata": {},
   "outputs": [],
   "source": [
    "from matplotlib import pyplot\n",
    "\n",
    "def plotMeterByYearBuilt(df: pd.DataFrame) -> None :\n",
    "    \"\"\"建築年とメーター値の散布図を作成する\n",
    "\n",
    "    Args:\n",
    "        df (pd.DataFrame): データ\n",
    "    \"\"\"\n",
    "    \n",
    "    fig, axes = pyplot.subplots(nrows=4, ncols=1, sharex=False)\n",
    "\n",
    "    cnt = 0\n",
    "    for ctg in [0, 1, 2 ,3]:\n",
    "      plotDf = df.query(f\"meter == {ctg}\")\n",
    "      axes[cnt].scatter(plotDf[\"year_built\"], plotDf[\"meter_reading\"])\n",
    "      \n",
    "      cnt += 1\n",
    "      del plotDf\n",
    "    \n",
    "    fig.tight_layout()\n",
    "    plt.show()\n"
   ]
  },
  {
   "cell_type": "code",
   "execution_count": null,
   "metadata": {},
   "outputs": [
    {
     "data": {
      "image/png": "[encoded data removed]",
      "text/plain": [
       "<Figure size 432x288 with 4 Axes>"
      ]
     },
     "metadata": {
      "needs_background": "light"
     },
     "output_type": "display_data"
    }
   ],
   "source": [
    "# 建築年数は直接関係しない模様\n",
    "plotMeterByYearBuilt(train_df)"
   ]
  },
  {
   "cell_type": "code",
   "execution_count": 69,
   "metadata": {},
   "outputs": [],
   "source": [
    "from matplotlib import pyplot\n",
    "\n",
    "def meterMeanByYearBuilt(df: pd.DataFrame) -> None :\n",
    "    \"\"\"メーター値の平均値を築年の設定有無毎に算出する\n",
    "\n",
    "    Args:\n",
    "        df (pd.DataFrame): データ\n",
    "    \"\"\"\n",
    "\n",
    "    for ctg in [0, 1, 2 ,3]:\n",
    "      yearBuiltSetDf = df.query(f\"meter == {ctg} and year_built == year_built\")\n",
    "      yearBuiltNotSetDf = df.query(f\"meter == {ctg} and year_built != year_built\")\n",
    "\n",
    "      yearBuiltSetMean =yearBuiltSetDf[\"meter_reading\"].mean()\n",
    "      yearBuiltNotSetMean =yearBuiltNotSetDf[\"meter_reading\"].mean()\n",
    "\n",
    "      print(f\"Category: {ctg}\")  \n",
    "      print(f\"YearBuiltSetMean: {yearBuiltSetMean}\")  \n",
    "      print(f\"YearBuiltNotSetMean: {yearBuiltNotSetMean}\")  \n",
    "      \n",
    "      del yearBuiltSetDf, yearBuiltNotSetDf, yearBuiltSetMean, yearBuiltNotSetMean\n",
    "    "
   ]
  },
  {
   "cell_type": "code",
   "execution_count": 74,
   "metadata": {},
   "outputs": [
    {
     "name": "stdout",
     "output_type": "stream",
     "text": [
      "Category: 0\n",
      "YearBuiltSetMean: 209.427490234375\n",
      "YearBuiltNotSetMean: 148.044677734375\n",
      "Category: 1\n",
      "YearBuiltSetMean: 534.3399658203125\n",
      "YearBuiltNotSetMean: 681.2288818359375\n",
      "Category: 2\n",
      "YearBuiltSetMean: 782.62548828125\n",
      "YearBuiltNotSetMean: 1715.304931640625\n",
      "Category: 3\n",
      "YearBuiltSetMean: 186.57418823242188\n",
      "YearBuiltNotSetMean: 547.9810180664062\n"
     ]
    }
   ],
   "source": [
    "meterMeanByYearBuilt(train_df)"
   ]
  },
  {
   "cell_type": "code",
   "execution_count": 75,
   "metadata": {},
   "outputs": [],
   "source": [
    "from matplotlib import pyplot\n",
    "\n",
    "def plotMeterByYearBuiltSet(df: pd.DataFrame) -> None :\n",
    "    \"\"\"建築年とメーター値の散布図を作成する\n",
    "\n",
    "    Args:\n",
    "        df (pd.DataFrame): データ\n",
    "    \"\"\"\n",
    "    \n",
    "    fig, axes = pyplot.subplots(nrows=4, ncols=2, sharex=False)\n",
    "\n",
    "    cnt = 0\n",
    "    for ctg in [0, 1, 2 ,3]:\n",
    "      yearBuiltSetDf = df.query(f\"meter == {ctg} and year_built == year_built\")\n",
    "      yearBuiltNotSetDf = df.query(f\"meter == {ctg} and year_built != year_built\")\n",
    "\n",
    "      axes[cnt, 0].hist(yearBuiltSetDf[\"meter_reading\"])\n",
    "      axes[cnt, 1].hist(yearBuiltNotSetDf[\"meter_reading\"])\n",
    "      \n",
    "      cnt += 1\n",
    "      del yearBuiltSetDf, yearBuiltNotSetDf\n",
    "    \n",
    "    fig.tight_layout()\n",
    "    plt.show()\n"
   ]
  },
  {
   "cell_type": "code",
   "execution_count": 76,
   "metadata": {},
   "outputs": [
    {
     "data": {
      "image/png": "[encoded data removed]",
      "text/plain": [
       "<Figure size 432x288 with 8 Axes>"
      ]
     },
     "metadata": {
      "needs_background": "light"
     },
     "output_type": "display_data"
    }
   ],
   "source": [
    "plotMeterByYearBuiltSet(train_df)"
   ]
  },
  {
   "cell_type": "code",
   "execution_count": 79,
   "metadata": {},
   "outputs": [],
   "source": [
    "def meterStaticsByYearBuilt(df: pd.DataFrame) -> None :\n",
    "    for ctg in [0, 1, 2 ,3]:\n",
    "      yearBuiltSetDf = df.query(f\"meter == {ctg} and year_built == year_built\")\n",
    "      yearBuiltNotSetDf = df.query(f\"meter == {ctg} and year_built != year_built\")\n",
    "      print(f\"Category: {ctg}\")  \n",
    "      print(f\"YearBuiltSet\")\n",
    "      print(yearBuiltSetDf[\"meter_reading\"].describe())\n",
    "      print(f\"YearBuiltNotSet\")\n",
    "      print(yearBuiltNotSetDf[\"meter_reading\"].describe())\n",
    "      \n",
    "      del yearBuiltSetDf, yearBuiltNotSetDf\n",
    "    "
   ]
  },
  {
   "cell_type": "code",
   "execution_count": 81,
   "metadata": {},
   "outputs": [
    {
     "name": "stdout",
     "output_type": "stream",
     "text": [
      "Category: 0\n",
      "YearBuiltSet\n",
      "count    5.244763e+06\n",
      "mean     2.094275e+02\n",
      "std      4.735475e+02\n",
      "min      0.000000e+00\n",
      "25%      2.307000e+01\n",
      "50%      7.810000e+01\n",
      "75%      1.991750e+02\n",
      "max      1.750210e+04\n",
      "Name: meter_reading, dtype: float64\n",
      "YearBuiltNotSet\n",
      "count    6.461253e+06\n",
      "mean     1.480447e+02\n",
      "std      2.917258e+02\n",
      "min      0.000000e+00\n",
      "25%      2.131500e+01\n",
      "50%      5.891670e+01\n",
      "75%      1.553000e+02\n",
      "max      7.976900e+04\n",
      "Name: meter_reading, dtype: float64\n",
      "Category: 1\n",
      "YearBuiltSet\n",
      "count    1.362881e+06\n",
      "mean     5.343400e+02\n",
      "std      1.216988e+03\n",
      "min      0.000000e+00\n",
      "25%      1.654710e+01\n",
      "50%      1.074800e+02\n",
      "75%      4.221040e+02\n",
      "max      1.726110e+05\n",
      "Name: meter_reading, dtype: float64\n",
      "YearBuiltNotSet\n",
      "count    2.819559e+06\n",
      "mean     6.812289e+02\n",
      "std      9.691904e+03\n",
      "min      0.000000e+00\n",
      "25%      7.631600e+00\n",
      "50%      1.270000e+02\n",
      "75%      4.833910e+02\n",
      "max      8.803740e+05\n",
      "Name: meter_reading, dtype: float64\n",
      "Category: 2\n",
      "YearBuiltSet\n",
      "count    567697.000000\n",
      "mean        782.625488\n",
      "std        1019.243042\n",
      "min           0.000000\n",
      "25%          99.548203\n",
      "50%         410.061005\n",
      "75%        1061.130005\n",
      "max       10301.400391\n",
      "Name: meter_reading, dtype: float64\n",
      "YearBuiltNotSet\n",
      "count    2.132232e+06\n",
      "mean     1.715305e+03\n",
      "std      6.124272e+03\n",
      "min      0.000000e+00\n",
      "25%      3.820720e+01\n",
      "50%      2.196000e+02\n",
      "75%      1.002600e+03\n",
      "max      1.316250e+05\n",
      "Name: meter_reading, dtype: float64\n",
      "Category: 3\n",
      "YearBuiltSet\n",
      "count    567002.000000\n",
      "mean        186.574188\n",
      "std         959.656067\n",
      "min           0.000000\n",
      "25%           0.000000\n",
      "50%          14.653600\n",
      "75%          70.336998\n",
      "max       26860.599609\n",
      "Name: meter_reading, dtype: float64\n",
      "YearBuiltNotSet\n",
      "count    697035.000000\n",
      "mean        547.981018\n",
      "std        3255.849609\n",
      "min           0.000000\n",
      "25%           0.688800\n",
      "50%         116.559998\n",
      "75%         477.919006\n",
      "max      160187.000000\n",
      "Name: meter_reading, dtype: float64\n"
     ]
    }
   ],
   "source": [
    "meterStaticsByYearBuilt(train_df)"
   ]
  },
  {
   "cell_type": "code",
   "execution_count": 27,
   "metadata": {},
   "outputs": [
    {
     "data": {
      "text/plain": [
       "array([ 0,  1,  2,  3,  4,  5,  6,  7,  8,  9, 10, 11, 12, 13, 14, 15],\n",
       "      dtype=int8)"
      ]
     },
     "execution_count": 27,
     "metadata": {},
     "output_type": "execute_result"
    }
   ],
   "source": [
    "np.unique(train_df.site_id)"
   ]
  },
  {
   "cell_type": "code",
   "execution_count": null,
   "metadata": {},
   "outputs": [],
   "source": []
  },
  {
   "cell_type": "code",
   "execution_count": null,
   "metadata": {},
   "outputs": [],
   "source": []
  },
  {
   "cell_type": "code",
   "execution_count": 94,
   "metadata": {},
   "outputs": [
    {
     "name": "stderr",
     "output_type": "stream",
     "text": [
      "/var/folders/km/rlhv761j4rqcrksj6ch5bw_r0000gn/T/ipykernel_5037/614842603.py:70: SettingWithCopyWarning: \n",
      "A value is trying to be set on a copy of a slice from a DataFrame.\n",
      "Try using .loc[row_indexer,col_indexer] = value instead\n",
      "\n",
      "See the caveats in the documentation: https://pandas.pydata.org/pandas-docs/stable/user_guide/indexing.html#returning-a-view-versus-a-copy\n",
      "  update_datetime_df[\"datetime\"] = update_datetime_df[\"original_datetime\"].dt.tz_convert(timezone)\n",
      "/var/folders/km/rlhv761j4rqcrksj6ch5bw_r0000gn/T/ipykernel_5037/614842603.py:73: SettingWithCopyWarning: \n",
      "A value is trying to be set on a copy of a slice from a DataFrame.\n",
      "Try using .loc[row_indexer,col_indexer] = value instead\n",
      "\n",
      "See the caveats in the documentation: https://pandas.pydata.org/pandas-docs/stable/user_guide/indexing.html#returning-a-view-versus-a-copy\n",
      "  update_datetime_df[\"conv_timestamp\"] = update_datetime_df[\"datetime\"].dt.strftime(\"%Y-%m-%d %H:%M:%S\")\n",
      "/var/folders/km/rlhv761j4rqcrksj6ch5bw_r0000gn/T/ipykernel_5037/614842603.py:81: SettingWithCopyWarning: \n",
      "A value is trying to be set on a copy of a slice from a DataFrame.\n",
      "Try using .loc[row_indexer,col_indexer] = value instead\n",
      "\n",
      "See the caveats in the documentation: https://pandas.pydata.org/pandas-docs/stable/user_guide/indexing.html#returning-a-view-versus-a-copy\n",
      "  summer_time_datetime_df[\"datetime\"] = summer_time_datetime_df[\"original_datetime\"].dt.tz_convert(summer_timezone)\n",
      "/var/folders/km/rlhv761j4rqcrksj6ch5bw_r0000gn/T/ipykernel_5037/614842603.py:84: SettingWithCopyWarning: \n",
      "A value is trying to be set on a copy of a slice from a DataFrame.\n",
      "Try using .loc[row_indexer,col_indexer] = value instead\n",
      "\n",
      "See the caveats in the documentation: https://pandas.pydata.org/pandas-docs/stable/user_guide/indexing.html#returning-a-view-versus-a-copy\n",
      "  summer_time_datetime_df[\"conv_timestamp\"] = summer_time_datetime_df[\"datetime\"].dt.strftime(\"%Y-%m-%d %H:%M:%S\")\n",
      "/var/folders/km/rlhv761j4rqcrksj6ch5bw_r0000gn/T/ipykernel_5037/614842603.py:86: SettingWithCopyWarning: \n",
      "A value is trying to be set on a copy of a slice from a DataFrame.\n",
      "Try using .loc[row_indexer,col_indexer] = value instead\n",
      "\n",
      "See the caveats in the documentation: https://pandas.pydata.org/pandas-docs/stable/user_guide/indexing.html#returning-a-view-versus-a-copy\n",
      "  update_datetime_df.update(summer_time_datetime_df, overwrite=True)\n"
     ]
    }
   ],
   "source": [
    "# 標準時\n",
    "UTC = tz.gettz(\"UTC\")\n",
    "\n",
    "# 東部標準時\n",
    "EST = tz.gettz('EST')\n",
    "\n",
    "# 東部夏時間\n",
    "EDT = tz.gettz('EDT')\n",
    "\n",
    "# 太平洋標準時\n",
    "PST = tz.gettz('PST')\n",
    "\n",
    "# 太平洋夏じかん\n",
    "PDT = tz.gettz('PDT')\n",
    "\n",
    "# 中部標準時\n",
    "CST = tz.gettz('CST')\n",
    "\n",
    "# 中部夏時間\n",
    "CDT = tz.gettz('CDT')\n",
    "\n",
    "# タイムゾーン設定\n",
    "local_timezone_dict = {\n",
    "  0: EST, # アメリカ フロリダ州 ジャクソンビル\n",
    "  1: UTC, # イングランド ロンドン\n",
    "  2: EST, # アメリカ フロリダ州 フェニックス\n",
    "  3: EST, # アメリカ ペンシルベニア州 フィラデルフィア\n",
    "  4: PST, # アメリカ カリフォルニア州 サンフランシスコ\n",
    "  5: UTC, # イングランド ラフバラー\n",
    "  6: EST, # アメリカ ペンシルベニア州 フィラデルフィア\n",
    "  7: EST, # カナダ ケベック州 モントリオール\n",
    "  8: EST, # アメリカ フロリダ州 ジャクソンビル\n",
    "  9: CST, # アメリカ テキサス州 サンアントニオ\n",
    "  10: PST, # アメリカ ネバダ州 ラスベガス\n",
    "  11: EST, # カナダ ケベック州 モントリオール\n",
    "  12: UTC, # アイルランド ダブリン\n",
    "  13: CST, # アメリカ ミネソタ州 ミネアポリス\n",
    "  14: EST, # アメリカ ペンシルベニア州 フィラデルフィア\n",
    "  15: EST, # アメリカ ペンシルベニア州 ピッツバーグ\n",
    "}\n",
    "\n",
    "# サマータイムゾーン設定｀\n",
    "summer_timezone_dict = {\n",
    "  0: EDT, # アメリカ フロリダ州 ジャクソンビル\n",
    "  3: EDT, # アメリカ ペンシルベニア州 フィラデルフィア\n",
    "  4: PDT, # アメリカ カリフォルニア州 サンフランシスコ\n",
    "  6: EDT, # アメリカ ペンシルベニア州 フィラデルフィア\n",
    "  7: EDT, # カナダ ケベック州 モントリオール\n",
    "  8: EDT, # アメリカ フロリダ州 ジャクソンビル\n",
    "  9: CDT, # アメリカ テキサス州 サンアントニオ\n",
    "  10: PDT, # アメリカ ネバダ州 ラスベガス\n",
    "  11: EDT, # カナダ ケベック州 モントリオール\n",
    "  13: CDT, # アメリカ ミネソタ州 ミネアポリス\n",
    "  14: EDT, # アメリカ ペンシルベニア州 フィラデルフィア\n",
    "  15: EDT, # アメリカ ペンシルベニア州 ピッツバーグ\n",
    "}\n",
    "\n",
    "# サマータイム 適用日時\n",
    "summer_time_start_timestamp = datetime(2016, 3, 12, 20, 0, 0, tzinfo=UTC)\n",
    "summer_time_end_timestamp = datetime(2016, 11, 5, 20, 0, 0, tzinfo=UTC)\n",
    "\n",
    "weather_df[\"datetime\"] = pd.to_datetime(weather_df[\"timestamp\"], utc=True)\n",
    "weather_df[\"original_datetime\"] = weather_df[\"datetime\"]\n",
    "weather_df[\"conv_timestamp\"] = weather_df[\"timestamp\"]\n",
    "datetime_df = pd.DataFrame(data=weather_df, columns=[\"site_id\", \"datetime\", \"original_datetime\", \"conv_timestamp\"]) \n",
    "\n",
    "for siteId, timezone in local_timezone_dict.items():\n",
    "  # タイムゾーン変換\n",
    "  update_datetime_df = datetime_df[datetime_df[\"site_id\"] == siteId]\n",
    "  update_datetime_df[\"datetime\"] = update_datetime_df[\"original_datetime\"].dt.tz_convert(timezone)\n",
    "  \n",
    "  # 元の文字列フォーマットへ戻す\n",
    "  update_datetime_df[\"conv_timestamp\"] = update_datetime_df[\"datetime\"].dt.strftime(\"%Y-%m-%d %H:%M:%S\")\n",
    "\n",
    "  \n",
    "  # サマータイム変換\n",
    "  if (siteId in summer_timezone_dict) :\n",
    "    # タイムゾーン変換\n",
    "    summer_timezone = summer_timezone_dict[siteId]\n",
    "    summer_time_datetime_df = update_datetime_df[(update_datetime_df[\"original_datetime\"] >= summer_time_start_timestamp) & (update_datetime_df[\"original_datetime\"]  <= summer_time_end_timestamp)]\n",
    "    summer_time_datetime_df[\"datetime\"] = summer_time_datetime_df[\"original_datetime\"].dt.tz_convert(summer_timezone)\n",
    "    \n",
    "    # 元の文字列フォーマットへ戻す\n",
    "    summer_time_datetime_df[\"conv_timestamp\"] = summer_time_datetime_df[\"datetime\"].dt.strftime(\"%Y-%m-%d %H:%M:%S\")\n",
    "    \n",
    "    update_datetime_df.update(summer_time_datetime_df, overwrite=True)\n",
    "  \n",
    "  datetime_df.update(update_datetime_df, overwrite=True)\n",
    "\n",
    "datetime_df[\"timestamp\"] = datetime_df[\"conv_timestamp\"]\n",
    "datetime_df.drop([\"site_id\", \"datetime\", \"original_datetime\", \"conv_timestamp\"], axis=1)\n",
    "\n",
    "weather_df.update(datetime_df)\n"
   ]
  },
  {
   "cell_type": "code",
   "execution_count": 85,
   "metadata": {},
   "outputs": [
    {
     "data": {
      "text/html": [
       "<div>\n",
       "<style scoped>\n",
       "    .dataframe tbody tr th:only-of-type {\n",
       "        vertical-align: middle;\n",
       "    }\n",
       "\n",
       "    .dataframe tbody tr th {\n",
       "        vertical-align: top;\n",
       "    }\n",
       "\n",
       "    .dataframe thead th {\n",
       "        text-align: right;\n",
       "    }\n",
       "</style>\n",
       "<table border=\"1\" class=\"dataframe\">\n",
       "  <thead>\n",
       "    <tr style=\"text-align: right;\">\n",
       "      <th></th>\n",
       "      <th>site_id</th>\n",
       "      <th>datetime</th>\n",
       "      <th>original_datetime</th>\n",
       "      <th>conv_timestamp</th>\n",
       "    </tr>\n",
       "  </thead>\n",
       "  <tbody>\n",
       "    <tr>\n",
       "      <th>1724</th>\n",
       "      <td>0.0</td>\n",
       "      <td>2016-03-12 15:00:00-05:00</td>\n",
       "      <td>2016-03-12 20:00:00+00:00</td>\n",
       "      <td>2016-03-12 15:00:00</td>\n",
       "    </tr>\n",
       "    <tr>\n",
       "      <th>1725</th>\n",
       "      <td>0.0</td>\n",
       "      <td>2016-03-12 16:00:00-05:00</td>\n",
       "      <td>2016-03-12 21:00:00+00:00</td>\n",
       "      <td>2016-03-12 16:00:00</td>\n",
       "    </tr>\n",
       "    <tr>\n",
       "      <th>1726</th>\n",
       "      <td>0.0</td>\n",
       "      <td>2016-03-12 17:00:00-05:00</td>\n",
       "      <td>2016-03-12 22:00:00+00:00</td>\n",
       "      <td>2016-03-12 17:00:00</td>\n",
       "    </tr>\n",
       "    <tr>\n",
       "      <th>1727</th>\n",
       "      <td>0.0</td>\n",
       "      <td>2016-03-12 18:00:00-05:00</td>\n",
       "      <td>2016-03-12 23:00:00+00:00</td>\n",
       "      <td>2016-03-12 18:00:00</td>\n",
       "    </tr>\n",
       "    <tr>\n",
       "      <th>1728</th>\n",
       "      <td>0.0</td>\n",
       "      <td>2016-03-12 19:00:00-05:00</td>\n",
       "      <td>2016-03-13 00:00:00+00:00</td>\n",
       "      <td>2016-03-12 19:00:00</td>\n",
       "    </tr>\n",
       "    <tr>\n",
       "      <th>...</th>\n",
       "      <td>...</td>\n",
       "      <td>...</td>\n",
       "      <td>...</td>\n",
       "      <td>...</td>\n",
       "    </tr>\n",
       "    <tr>\n",
       "      <th>140520</th>\n",
       "      <td>15.0</td>\n",
       "      <td>2016-11-02 08:00:00+00:00</td>\n",
       "      <td>2016-11-02 08:00:00+00:00</td>\n",
       "      <td>2016-11-02 08:00:00</td>\n",
       "    </tr>\n",
       "    <tr>\n",
       "      <th>140521</th>\n",
       "      <td>15.0</td>\n",
       "      <td>2016-11-02 09:00:00+00:00</td>\n",
       "      <td>2016-11-02 09:00:00+00:00</td>\n",
       "      <td>2016-11-02 09:00:00</td>\n",
       "    </tr>\n",
       "    <tr>\n",
       "      <th>140522</th>\n",
       "      <td>15.0</td>\n",
       "      <td>2016-11-02 10:00:00+00:00</td>\n",
       "      <td>2016-11-02 10:00:00+00:00</td>\n",
       "      <td>2016-11-02 10:00:00</td>\n",
       "    </tr>\n",
       "    <tr>\n",
       "      <th>140523</th>\n",
       "      <td>15.0</td>\n",
       "      <td>2016-11-03 03:00:00+00:00</td>\n",
       "      <td>2016-11-03 03:00:00+00:00</td>\n",
       "      <td>2016-11-03 03:00:00</td>\n",
       "    </tr>\n",
       "    <tr>\n",
       "      <th>140524</th>\n",
       "      <td>15.0</td>\n",
       "      <td>2016-11-05 07:00:00+00:00</td>\n",
       "      <td>2016-11-05 07:00:00+00:00</td>\n",
       "      <td>2016-11-05 07:00:00</td>\n",
       "    </tr>\n",
       "  </tbody>\n",
       "</table>\n",
       "<p>91408 rows × 4 columns</p>\n",
       "</div>"
      ],
      "text/plain": [
       "        site_id                   datetime         original_datetime  \\\n",
       "1724        0.0  2016-03-12 15:00:00-05:00 2016-03-12 20:00:00+00:00   \n",
       "1725        0.0  2016-03-12 16:00:00-05:00 2016-03-12 21:00:00+00:00   \n",
       "1726        0.0  2016-03-12 17:00:00-05:00 2016-03-12 22:00:00+00:00   \n",
       "1727        0.0  2016-03-12 18:00:00-05:00 2016-03-12 23:00:00+00:00   \n",
       "1728        0.0  2016-03-12 19:00:00-05:00 2016-03-13 00:00:00+00:00   \n",
       "...         ...                        ...                       ...   \n",
       "140520     15.0  2016-11-02 08:00:00+00:00 2016-11-02 08:00:00+00:00   \n",
       "140521     15.0  2016-11-02 09:00:00+00:00 2016-11-02 09:00:00+00:00   \n",
       "140522     15.0  2016-11-02 10:00:00+00:00 2016-11-02 10:00:00+00:00   \n",
       "140523     15.0  2016-11-03 03:00:00+00:00 2016-11-03 03:00:00+00:00   \n",
       "140524     15.0  2016-11-05 07:00:00+00:00 2016-11-05 07:00:00+00:00   \n",
       "\n",
       "             conv_timestamp  \n",
       "1724    2016-03-12 15:00:00  \n",
       "1725    2016-03-12 16:00:00  \n",
       "1726    2016-03-12 17:00:00  \n",
       "1727    2016-03-12 18:00:00  \n",
       "1728    2016-03-12 19:00:00  \n",
       "...                     ...  \n",
       "140520  2016-11-02 08:00:00  \n",
       "140521  2016-11-02 09:00:00  \n",
       "140522  2016-11-02 10:00:00  \n",
       "140523  2016-11-03 03:00:00  \n",
       "140524  2016-11-05 07:00:00  \n",
       "\n",
       "[91408 rows x 4 columns]"
      ]
     },
     "execution_count": 85,
     "metadata": {},
     "output_type": "execute_result"
    }
   ],
   "source": [
    "datetime_df[(datetime_df[\"original_datetime\"] >= summer_time_start_timestamp) & (datetime_df[\"original_datetime\"]  <= summer_time_end_timestamp)]"
   ]
  },
  {
   "cell_type": "code",
   "execution_count": 67,
   "metadata": {},
   "outputs": [
    {
     "name": "stdout",
     "output_type": "stream",
     "text": [
      "0      2016-01-01 00:00:00+00:00\n",
      "1      2016-01-01 01:00:00+00:00\n",
      "2      2016-01-01 02:00:00+00:00\n",
      "3      2016-01-01 03:00:00+00:00\n",
      "4      2016-01-01 04:00:00+00:00\n",
      "                  ...           \n",
      "8779   2016-12-31 19:00:00+00:00\n",
      "8780   2016-12-31 20:00:00+00:00\n",
      "8781   2016-12-31 21:00:00+00:00\n",
      "8782   2016-12-31 22:00:00+00:00\n",
      "8783   2016-12-31 23:00:00+00:00\n",
      "Name: datetime, Length: 8784, dtype: datetime64[ns, UTC]\n"
     ]
    }
   ],
   "source": [
    "print(update_datetime_df.replace())"
   ]
  },
  {
   "cell_type": "code",
   "execution_count": null,
   "metadata": {},
   "outputs": [],
   "source": []
  }
 ],
 "metadata": {
  "interpreter": {
   "hash": "74c7c3687703664997f19149f5445e423068aa826b97a36d943ea9f2cd8004e5"
  },
  "kernelspec": {
   "display_name": "Python 3.10.4 ('python_3.10')",
   "language": "python",
   "name": "python3"
  },
  "language_info": {
   "codemirror_mode": {
    "name": "ipython",
    "version": 3
   },
   "file_extension": ".py",
   "mimetype": "text/x-python",
   "name": "python",
   "nbconvert_exporter": "python",
   "pygments_lexer": "ipython3",
   "version": "3.10.4"
  },
  "orig_nbformat": 4
 },
 "nbformat": 4,
 "nbformat_minor": 2
}
