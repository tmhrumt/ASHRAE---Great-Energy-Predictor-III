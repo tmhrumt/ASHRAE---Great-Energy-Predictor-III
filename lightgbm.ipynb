{
 "cells": [
  {
   "cell_type": "markdown",
   "metadata": {},
   "source": [
    "# ASHRAE - Great Energy Predictor III\n",
    "https://www.kaggle.com/competitions/ashrae-energy-prediction/overview\n",
    "\n",
    "LightGBMをやってみる  \n",
    "参考  \n",
    "https://www.kaggle.com/code/aitude/ashrae-kfold-lightgbm-without-leak-1-08  \n",
    "\n",
    "LightGBM パラメーター内容  \n",
    "https://zenn.dev/mosamosa/articles/07d0076c9292136a3639"
   ]
  },
  {
   "cell_type": "code",
   "execution_count": 1,
   "metadata": {},
   "outputs": [
    {
     "data": {
      "text/plain": [
       "' データディレクトリ '"
      ]
     },
     "execution_count": 1,
     "metadata": {},
     "output_type": "execute_result"
    }
   ],
   "source": [
    "# 定数定義\n",
    "DATA_PATH = \"./data\"\n",
    "\"\"\" データディレクトリ \"\"\""
   ]
  },
  {
   "cell_type": "code",
   "execution_count": 13,
   "metadata": {},
   "outputs": [],
   "source": [
    "# インポート定義\n",
    "\n",
    "import pandas as pd\n",
    "import numpy as np\n",
    "import matplotlib.pyplot as plt\n",
    "import lightgbm as lgb\n",
    "from lightgbm import early_stopping, log_evaluation\n",
    "from sklearn.preprocessing import LabelEncoder\n",
    "from sklearn.model_selection import KFold\n",
    "import datetime\n",
    "import gc\n",
    "import os\n",
    "from pandas.api.types import is_datetime64_any_dtype as is_datetime\n",
    "from pandas.api.types import is_categorical_dtype\n",
    "import math"
   ]
  },
  {
   "cell_type": "code",
   "execution_count": 30,
   "metadata": {},
   "outputs": [],
   "source": [
    "# データ読み込み\n",
    "train_df = pd.read_csv(os.path.join(DATA_PATH, 'train.csv'))\n",
    "\n",
    "# Remove outliers\n",
    "# TODO:なぜこの条件で除外しているかの確認が必要\n",
    "train_df = train_df [ train_df['building_id'] != 1099 ]\n",
    "train_df = train_df.query('not (building_id <= 104 & meter == 0 & timestamp <= \"2016-05-20\")')\n",
    "\n",
    "building_df = pd.read_csv(os.path.join(DATA_PATH, 'building_metadata.csv'))\n",
    "weather_df = pd.read_csv(os.path.join(DATA_PATH, 'weather_train.csv'))"
   ]
  },
  {
   "cell_type": "code",
   "execution_count": 31,
   "metadata": {},
   "outputs": [],
   "source": [
    "# Original code from https://www.kaggle.com/aitude/ashrae-missing-weather-data-handling by @aitude\n",
    "\n",
    "def fill_weather_dataset(weather_df: pd.DataFrame) -> pd.DataFrame:\n",
    "    \"\"\"気象データの欠損値を補完する\n",
    "\n",
    "    Args:\n",
    "        weather_df (pd.DataFrame): 気象データ\n",
    "\n",
    "    Returns:\n",
    "        pd.DataFrame: データ補完後の気象データを返す\n",
    "    \"\"\"\n",
    "    # サイトIDの数\n",
    "    SITE_ID_COUNT = 16\n",
    "\n",
    "    # 気象データの観測時間リストを作成\n",
    "    time_format = \"%Y-%m-%d %H:%M:%S\"\n",
    "    start_date = datetime.datetime.strptime(weather_df['timestamp'].min(),time_format)\n",
    "    end_date = datetime.datetime.strptime(weather_df['timestamp'].max(),time_format)\n",
    "    total_hours = int(((end_date - start_date).total_seconds() + 3600) / 3600)\n",
    "    hours_list = [(end_date - datetime.timedelta(hours=x)).strftime(time_format) for x in range(total_hours)]\n",
    "\n",
    "    # サイト毎に欠損データを追加\n",
    "    # ※追加するデータの値はnanを設定\n",
    "    for site_id in range(SITE_ID_COUNT):\n",
    "        site_hours = np.array(weather_df[weather_df['site_id'] == site_id]['timestamp'])\n",
    "        new_rows = pd.DataFrame(np.setdiff1d(hours_list,site_hours),columns=['timestamp'])\n",
    "        new_rows['site_id'] = site_id\n",
    "        weather_df = pd.concat([weather_df,new_rows])\n",
    "\n",
    "        weather_df = weather_df.reset_index(drop=True)\n",
    "\n",
    "    # 観測日時より、日、週、月のカラムを作成\n",
    "    # ※後述の追加カラムのため\n",
    "    weather_df[\"datetime\"] = pd.to_datetime(weather_df[\"timestamp\"])\n",
    "    weather_df[\"day\"] = weather_df[\"datetime\"].dt.day\n",
    "    weather_df[\"week\"] = weather_df[\"datetime\"].dt.week\n",
    "    weather_df[\"month\"] = weather_df[\"datetime\"].dt.month\n",
    "\n",
    "    # 欠損値を補完    \n",
    "    # データ集計の高速化のため、集計単位でインデックスを作成\n",
    "    weather_df = weather_df.set_index(['site_id','day','month'])\n",
    "\n",
    "    # 気温\n",
    "    air_temperature_filler = pd.DataFrame(weather_df.groupby(['site_id','day','month'])['air_temperature'].mean(),columns=[\"air_temperature\"])\n",
    "    weather_df.update(air_temperature_filler,overwrite=False)\n",
    "\n",
    "    # 雲量\n",
    "    # Step 1 グループ毎の平均値を取得\n",
    "    cloud_coverage_filler = weather_df.groupby(['site_id','day','month'])['cloud_coverage'].mean()\n",
    "    # Step 2 直前に値が設定されている場合、その値を使用する\n",
    "    cloud_coverage_filler = pd.DataFrame(cloud_coverage_filler.fillna(method='ffill'),columns=[\"cloud_coverage\"])\n",
    "\n",
    "    weather_df.update(cloud_coverage_filler,overwrite=False)\n",
    "\n",
    "    # 露点温度(≒湿度)\n",
    "    dew_temperature_filler = pd.DataFrame(weather_df.groupby(['site_id','day','month'])['dew_temperature'].mean(),columns=[\"dew_temperature\"])\n",
    "    weather_df.update(dew_temperature_filler, overwrite=False)\n",
    "\n",
    "    # 海面気圧\n",
    "    # Step 1 グループ毎の平均値を取得\n",
    "    sea_level_filler = weather_df.groupby(['site_id','day','month'])['sea_level_pressure'].mean()\n",
    "    # Step 2 直前に値が設定されている場合、その値を使用する\n",
    "    sea_level_filler = pd.DataFrame(sea_level_filler.fillna(method='ffill'),columns=['sea_level_pressure'])\n",
    "\n",
    "    weather_df.update(sea_level_filler,overwrite=False)\n",
    "\n",
    "    # 風向き\n",
    "    wind_direction_filler =  pd.DataFrame(weather_df.groupby(['site_id','day','month'])['wind_direction'].mean(),columns=['wind_direction'])\n",
    "    weather_df.update(wind_direction_filler,overwrite=False)\n",
    "\n",
    "    # 風速\n",
    "    wind_speed_filler =  pd.DataFrame(weather_df.groupby(['site_id','day','month'])['wind_speed'].mean(),columns=['wind_speed'])\n",
    "    weather_df.update(wind_speed_filler,overwrite=False)\n",
    "\n",
    "    # 降水量\n",
    "    # Step 1 グループ毎の平均値を取得\n",
    "    precip_depth_filler = weather_df.groupby(['site_id','day','month'])['precip_depth_1_hr'].mean()\n",
    "    # Step 2 直前に値が設定されている場合、その値を資料する\n",
    "    precip_depth_filler = pd.DataFrame(precip_depth_filler.fillna(method='ffill'),columns=['precip_depth_1_hr'])\n",
    "\n",
    "    weather_df.update(precip_depth_filler,overwrite=False)\n",
    "\n",
    "    # インデックスを再作成し、欠損値補完用に追加したカラムを削除\n",
    "    weather_df = weather_df.reset_index()\n",
    "    weather_df = weather_df.drop(['datetime','day','week','month'],axis=1)\n",
    "        \n",
    "    return weather_df"
   ]
  },
  {
   "cell_type": "code",
   "execution_count": 32,
   "metadata": {},
   "outputs": [],
   "source": [
    "# Original code from https://www.kaggle.com/gemartin/load-data-reduce-memory-usage by @gemartin\n",
    "\n",
    "def reduce_mem_usage(df: pd.DataFrame, use_float16: bool = False) -> pd.DataFrame:\n",
    "    \"\"\"ロードしたデータを型変換し、容量を削減する\n",
    "\n",
    "    Args:\n",
    "        df (pd.DataFrame): ロードデータ\n",
    "        use_float16 (bool, optional): float16使用フラグ デフォルト値：False\n",
    "\n",
    "    Returns:\n",
    "        pd.DataFrame: 容量削減後のデータを返す\n",
    "    \"\"\"\n",
    "    \n",
    "    start_mem = df.memory_usage().sum() / 1024**2\n",
    "    print(\"Memory usage of dataframe is {:.2f} MB\".format(start_mem))\n",
    "    \n",
    "    for col in df.columns:\n",
    "        if is_datetime(df[col]) or is_categorical_dtype(df[col]):\n",
    "            continue\n",
    "        col_type = df[col].dtype\n",
    "        \n",
    "        if col_type != object:\n",
    "            c_min = df[col].min()\n",
    "            c_max = df[col].max()\n",
    "            if str(col_type)[:3] == \"int\":\n",
    "                if c_min > np.iinfo(np.int8).min and c_max < np.iinfo(np.int8).max:\n",
    "                    df[col] = df[col].astype(np.int8)\n",
    "                elif c_min > np.iinfo(np.int16).min and c_max < np.iinfo(np.int16).max:\n",
    "                    df[col] = df[col].astype(np.int16)\n",
    "                elif c_min > np.iinfo(np.int32).min and c_max < np.iinfo(np.int32).max:\n",
    "                    df[col] = df[col].astype(np.int32)\n",
    "                elif c_min > np.iinfo(np.int64).min and c_max < np.iinfo(np.int64).max:\n",
    "                    df[col] = df[col].astype(np.int64)  \n",
    "            else:\n",
    "                if use_float16 and c_min > np.finfo(np.float16).min and c_max < np.finfo(np.float16).max:\n",
    "                    df[col] = df[col].astype(np.float16)\n",
    "                elif c_min > np.finfo(np.float32).min and c_max < np.finfo(np.float32).max:\n",
    "                    df[col] = df[col].astype(np.float32)\n",
    "                else:\n",
    "                    df[col] = df[col].astype(np.float64)\n",
    "        else:\n",
    "            df[col] = df[col].astype(\"category\")\n",
    "\n",
    "    end_mem = df.memory_usage().sum() / 1024**2\n",
    "    print(\"Memory usage after optimization is: {:.2f} MB\".format(end_mem))\n",
    "    print(\"Decreased by {:.1f}%\".format(100 * (start_mem - end_mem) / start_mem))\n",
    "    \n",
    "    return df"
   ]
  },
  {
   "cell_type": "code",
   "execution_count": 61,
   "metadata": {},
   "outputs": [],
   "source": [
    "def features_engineering(df: pd.DataFrame) -> pd.DataFrame:\n",
    "    \"\"\"特徴量を作成する\n",
    "\n",
    "    Args:\n",
    "        df (pd.DataFrame): ロードしたデータ\n",
    "\n",
    "    Returns:\n",
    "        pd.DataFrame: 特徴量を追加したデータ\n",
    "    \"\"\"\n",
    "    \n",
    "    # 時系列順にソートする\n",
    "    df.sort_values(\"timestamp\")\n",
    "    df.reset_index(drop=True)\n",
    "    \n",
    "    # Add more features\n",
    "    # 日時\n",
    "    df[\"timestamp\"] = pd.to_datetime(df[\"timestamp\"],format=\"%Y-%m-%d %H:%M:%S\")\n",
    "    \n",
    "    # 時間\n",
    "    df[\"hour\"] = df[\"timestamp\"].dt.hour\n",
    "    \n",
    "    # 曜日\n",
    "    df[\"weekend\"] = df[\"timestamp\"].dt.weekday\n",
    "    \n",
    "    # 総床面積 ※logでは0が設定された場合に-∞になるため、log(1+a)にする\n",
    "    df[\"square_feet\"] = np.log1p(df[\"square_feet\"])\n",
    "\n",
    "    # 築年数 ※1900年を基準にした経過年数\n",
    "    # ※設定されていないデータがあるため、一旦なしに\n",
    "    # df[\"year_built\"] = df[\"year_built\"] - 1900\n",
    "\n",
    "    # 温風度合い ※風による温度影響を測るため、北風をマイナス値(冷たい風)、南風をプラス値(暖かい風)とし、風速を掛けた値を設定する\n",
    "    df[\"wind_direction\"] = -np.sin(np.radians(df[\"wind_direction\"] % 360)) \n",
    "    df[\"wind_warn\"] = df[\"wind_direction\"] * df[\"wind_speed\"]\n",
    "    \n",
    "    # 使用しないカラムを削除する\n",
    "    drop = [\"timestamp\",\"sea_level_pressure\", \"wind_direction\", \"wind_speed\", \"year_built\", \"floor_count\"]\n",
    "    df = df.drop(drop, axis=1)\n",
    "    gc.collect()\n",
    "    \n",
    "    # Encode Categorical Data\n",
    "    le = LabelEncoder()\n",
    "    df[\"primary_use\"] = le.fit_transform(df[\"primary_use\"])\n",
    "    \n",
    "    return df"
   ]
  },
  {
   "cell_type": "code",
   "execution_count": 34,
   "metadata": {},
   "outputs": [
    {
     "name": "stderr",
     "output_type": "stream",
     "text": [
      "/var/folders/km/rlhv761j4rqcrksj6ch5bw_r0000gn/T/ipykernel_29284/703020239.py:36: FutureWarning: Series.dt.weekofyear and Series.dt.week have been deprecated. Please use Series.dt.isocalendar().week instead.\n",
      "  weather_df[\"week\"] = weather_df[\"datetime\"].dt.week\n"
     ]
    }
   ],
   "source": [
    "# 気象データの欠損値を補完する\n",
    "weather_df = fill_weather_dataset(weather_df)"
   ]
  },
  {
   "cell_type": "code",
   "execution_count": 35,
   "metadata": {},
   "outputs": [
    {
     "name": "stdout",
     "output_type": "stream",
     "text": [
      "Memory usage of dataframe is 757.31 MB\n",
      "Memory usage after optimization is: 322.18 MB\n",
      "Decreased by 57.5%\n",
      "Memory usage of dataframe is 0.07 MB\n",
      "Memory usage after optimization is: 0.02 MB\n",
      "Decreased by 73.9%\n",
      "Memory usage of dataframe is 9.65 MB\n",
      "Memory usage after optimization is: 2.60 MB\n",
      "Decreased by 73.1%\n"
     ]
    }
   ],
   "source": [
    "# データ容量を削減する\n",
    "train_df = reduce_mem_usage(train_df,use_float16=True)\n",
    "building_df = reduce_mem_usage(building_df,use_float16=True)\n",
    "weather_df = reduce_mem_usage(weather_df,use_float16=True)"
   ]
  },
  {
   "cell_type": "code",
   "execution_count": 36,
   "metadata": {},
   "outputs": [],
   "source": [
    "# コーディング用にロード、加工したデータを保存する\n",
    "# TODO:テストコードのため、要削除\n",
    "train_df.to_pickle(os.path.join(DATA_PATH, \"train_df.pkl\"))\n",
    "building_df.to_pickle(os.path.join(DATA_PATH, \"building_df.pkl\"))\n",
    "weather_df.to_pickle(os.path.join(DATA_PATH, \"weather_df.pkl\"))"
   ]
  },
  {
   "cell_type": "code",
   "execution_count": 81,
   "metadata": {},
   "outputs": [],
   "source": [
    "# コーディング用に保存したデータをロードする\n",
    "# TODO:テストコードのため、要削除\n",
    "train_df = pd.read_pickle(os.path.join(DATA_PATH, \"train_df.pkl\"))\n",
    "building_df = pd.read_pickle(os.path.join(DATA_PATH, \"building_df.pkl\"))\n",
    "weather_df = pd.read_pickle(os.path.join(DATA_PATH, \"weather_df.pkl\"))"
   ]
  },
  {
   "cell_type": "code",
   "execution_count": 82,
   "metadata": {},
   "outputs": [
    {
     "data": {
      "text/plain": [
       "509"
      ]
     },
     "execution_count": 82,
     "metadata": {},
     "output_type": "execute_result"
    }
   ],
   "source": [
    "# 各データを結合する\n",
    "train_df = train_df.merge(building_df, left_on='building_id',right_on='building_id',how='left')\n",
    "train_df = train_df.merge(weather_df,how='left',left_on=['site_id','timestamp'],right_on=['site_id', 'timestamp'])\n",
    "del weather_df\n",
    "gc.collect()"
   ]
  },
  {
   "cell_type": "code",
   "execution_count": 83,
   "metadata": {},
   "outputs": [],
   "source": [
    "# 特徴量を作成する\n",
    "train_df = features_engineering(train_df)"
   ]
  },
  {
   "cell_type": "code",
   "execution_count": 84,
   "metadata": {},
   "outputs": [
    {
     "data": {
      "text/plain": [
       "15"
      ]
     },
     "execution_count": 84,
     "metadata": {},
     "output_type": "execute_result"
    }
   ],
   "source": [
    "# データを目的変数と特徴量変数に分割する\n",
    "target = np.log1p(train_df[\"meter_reading\"])\n",
    "features = train_df.drop(\"meter_reading\", axis = 1)\n",
    "del train_df\n",
    "gc.collect()"
   ]
  },
  {
   "cell_type": "code",
   "execution_count": 85,
   "metadata": {},
   "outputs": [
    {
     "name": "stderr",
     "output_type": "stream",
     "text": [
      "/opt/homebrew/Caskroom/miniforge/base/envs/python_3.10/lib/python3.10/site-packages/lightgbm/basic.py:2068: UserWarning: categorical_feature in Dataset is overridden.\n",
      "New categorical_feature is ['building_id', 'meter', 'primary_use', 'site_id', 'weekend']\n",
      "  _log_warning('categorical_feature in Dataset is overridden.\\n'\n"
     ]
    },
    {
     "name": "stdout",
     "output_type": "stream",
     "text": [
      "[LightGBM] [Info] Total Bins 2841\n",
      "[LightGBM] [Info] Number of data points in the train set: 13234948, number of used features: 12\n"
     ]
    },
    {
     "name": "stderr",
     "output_type": "stream",
     "text": [
      "/opt/homebrew/Caskroom/miniforge/base/envs/python_3.10/lib/python3.10/site-packages/lightgbm/basic.py:1780: UserWarning: Overriding the parameters from Reference Dataset.\n",
      "  _log_warning('Overriding the parameters from Reference Dataset.')\n",
      "/opt/homebrew/Caskroom/miniforge/base/envs/python_3.10/lib/python3.10/site-packages/lightgbm/basic.py:1513: UserWarning: categorical_column in param dict is overridden.\n",
      "  _log_warning(f'{cat_alias} in param dict is overridden.')\n"
     ]
    },
    {
     "name": "stdout",
     "output_type": "stream",
     "text": [
      "[LightGBM] [Info] Start training from score 4.243921\n",
      "Training until validation scores don't improve for 50 rounds\n",
      "[25]\ttraining's rmse: 1.47568\tvalid_1's rmse: 1.59863\n",
      "[50]\ttraining's rmse: 1.26541\tvalid_1's rmse: 1.41732\n",
      "[75]\ttraining's rmse: 1.13089\tvalid_1's rmse: 1.27811\n",
      "[100]\ttraining's rmse: 1.06403\tvalid_1's rmse: 1.21875\n",
      "[125]\ttraining's rmse: 1.02032\tvalid_1's rmse: 1.18148\n",
      "[150]\ttraining's rmse: 0.994497\tvalid_1's rmse: 1.16235\n",
      "[175]\ttraining's rmse: 0.97522\tvalid_1's rmse: 1.15345\n",
      "[200]\ttraining's rmse: 0.957343\tvalid_1's rmse: 1.14378\n",
      "[225]\ttraining's rmse: 0.947038\tvalid_1's rmse: 1.13988\n",
      "[250]\ttraining's rmse: 0.939087\tvalid_1's rmse: 1.13798\n",
      "[275]\ttraining's rmse: 0.929685\tvalid_1's rmse: 1.13438\n",
      "[300]\ttraining's rmse: 0.924078\tvalid_1's rmse: 1.13338\n",
      "[325]\ttraining's rmse: 0.918595\tvalid_1's rmse: 1.13318\n",
      "[350]\ttraining's rmse: 0.913405\tvalid_1's rmse: 1.13357\n",
      "[375]\ttraining's rmse: 0.908883\tvalid_1's rmse: 1.13229\n",
      "[400]\ttraining's rmse: 0.905183\tvalid_1's rmse: 1.13195\n",
      "[425]\ttraining's rmse: 0.901624\tvalid_1's rmse: 1.13235\n",
      "Early stopping, best iteration is:\n",
      "[397]\ttraining's rmse: 0.905481\tvalid_1's rmse: 1.1318\n"
     ]
    },
    {
     "name": "stderr",
     "output_type": "stream",
     "text": [
      "/opt/homebrew/Caskroom/miniforge/base/envs/python_3.10/lib/python3.10/site-packages/lightgbm/basic.py:2068: UserWarning: categorical_feature in Dataset is overridden.\n",
      "New categorical_feature is ['building_id', 'meter', 'primary_use', 'site_id', 'weekend']\n",
      "  _log_warning('categorical_feature in Dataset is overridden.\\n'\n"
     ]
    },
    {
     "name": "stdout",
     "output_type": "stream",
     "text": [
      "[LightGBM] [Info] Total Bins 2832\n",
      "[LightGBM] [Info] Number of data points in the train set: 13234948, number of used features: 12\n"
     ]
    },
    {
     "name": "stderr",
     "output_type": "stream",
     "text": [
      "/opt/homebrew/Caskroom/miniforge/base/envs/python_3.10/lib/python3.10/site-packages/lightgbm/basic.py:1780: UserWarning: Overriding the parameters from Reference Dataset.\n",
      "  _log_warning('Overriding the parameters from Reference Dataset.')\n",
      "/opt/homebrew/Caskroom/miniforge/base/envs/python_3.10/lib/python3.10/site-packages/lightgbm/basic.py:1513: UserWarning: categorical_column in param dict is overridden.\n",
      "  _log_warning(f'{cat_alias} in param dict is overridden.')\n"
     ]
    },
    {
     "name": "stdout",
     "output_type": "stream",
     "text": [
      "[LightGBM] [Info] Start training from score 4.181096\n",
      "[25]\ttraining's rmse: 1.3912\tvalid_1's rmse: 1.51729\n",
      "[50]\ttraining's rmse: 1.17771\tvalid_1's rmse: 1.34219\n",
      "[75]\ttraining's rmse: 1.09362\tvalid_1's rmse: 1.25817\n",
      "[100]\ttraining's rmse: 1.04144\tvalid_1's rmse: 1.19761\n",
      "[125]\ttraining's rmse: 1.01204\tvalid_1's rmse: 1.16304\n",
      "[150]\ttraining's rmse: 0.991619\tvalid_1's rmse: 1.14069\n",
      "[175]\ttraining's rmse: 0.979101\tvalid_1's rmse: 1.12456\n",
      "[200]\ttraining's rmse: 0.970208\tvalid_1's rmse: 1.11298\n",
      "[225]\ttraining's rmse: 0.962765\tvalid_1's rmse: 1.10318\n",
      "[250]\ttraining's rmse: 0.953454\tvalid_1's rmse: 1.0914\n",
      "[275]\ttraining's rmse: 0.94665\tvalid_1's rmse: 1.0843\n",
      "[300]\ttraining's rmse: 0.942346\tvalid_1's rmse: 1.0802\n",
      "[325]\ttraining's rmse: 0.937686\tvalid_1's rmse: 1.07599\n",
      "[350]\ttraining's rmse: 0.934378\tvalid_1's rmse: 1.07339\n",
      "[375]\ttraining's rmse: 0.929771\tvalid_1's rmse: 1.0697\n",
      "[400]\ttraining's rmse: 0.926688\tvalid_1's rmse: 1.06821\n",
      "[425]\ttraining's rmse: 0.923886\tvalid_1's rmse: 1.06663\n",
      "[450]\ttraining's rmse: 0.921356\tvalid_1's rmse: 1.06558\n",
      "[475]\ttraining's rmse: 0.918994\tvalid_1's rmse: 1.06483\n",
      "[500]\ttraining's rmse: 0.91624\tvalid_1's rmse: 1.06341\n",
      "[525]\ttraining's rmse: 0.913215\tvalid_1's rmse: 1.06297\n",
      "[550]\ttraining's rmse: 0.910956\tvalid_1's rmse: 1.06268\n",
      "[575]\ttraining's rmse: 0.907953\tvalid_1's rmse: 1.06298\n",
      "Early stopping, best iteration is:\n",
      "[540]\ttraining's rmse: 0.91183\tvalid_1's rmse: 1.06248\n"
     ]
    },
    {
     "name": "stderr",
     "output_type": "stream",
     "text": [
      "/opt/homebrew/Caskroom/miniforge/base/envs/python_3.10/lib/python3.10/site-packages/lightgbm/basic.py:2068: UserWarning: categorical_feature in Dataset is overridden.\n",
      "New categorical_feature is ['building_id', 'meter', 'primary_use', 'site_id', 'weekend']\n",
      "  _log_warning('categorical_feature in Dataset is overridden.\\n'\n"
     ]
    },
    {
     "name": "stdout",
     "output_type": "stream",
     "text": [
      "[LightGBM] [Info] Total Bins 2821\n",
      "[LightGBM] [Info] Number of data points in the train set: 13234948, number of used features: 12\n"
     ]
    },
    {
     "name": "stderr",
     "output_type": "stream",
     "text": [
      "/opt/homebrew/Caskroom/miniforge/base/envs/python_3.10/lib/python3.10/site-packages/lightgbm/basic.py:1780: UserWarning: Overriding the parameters from Reference Dataset.\n",
      "  _log_warning('Overriding the parameters from Reference Dataset.')\n",
      "/opt/homebrew/Caskroom/miniforge/base/envs/python_3.10/lib/python3.10/site-packages/lightgbm/basic.py:1513: UserWarning: categorical_column in param dict is overridden.\n",
      "  _log_warning(f'{cat_alias} in param dict is overridden.')\n"
     ]
    },
    {
     "name": "stdout",
     "output_type": "stream",
     "text": [
      "[LightGBM] [Info] Start training from score 4.215688\n",
      "[25]\ttraining's rmse: 1.47845\tvalid_1's rmse: 1.53283\n",
      "[50]\ttraining's rmse: 1.24754\tvalid_1's rmse: 1.33977\n",
      "[75]\ttraining's rmse: 1.1231\tvalid_1's rmse: 1.24868\n",
      "[100]\ttraining's rmse: 1.05888\tvalid_1's rmse: 1.20555\n",
      "[125]\ttraining's rmse: 1.00843\tvalid_1's rmse: 1.17908\n",
      "[150]\ttraining's rmse: 0.971864\tvalid_1's rmse: 1.16322\n",
      "[175]\ttraining's rmse: 0.946689\tvalid_1's rmse: 1.15598\n",
      "[200]\ttraining's rmse: 0.930628\tvalid_1's rmse: 1.15062\n",
      "[225]\ttraining's rmse: 0.920617\tvalid_1's rmse: 1.14732\n",
      "[250]\ttraining's rmse: 0.912814\tvalid_1's rmse: 1.14565\n",
      "[275]\ttraining's rmse: 0.901381\tvalid_1's rmse: 1.1449\n",
      "[300]\ttraining's rmse: 0.893635\tvalid_1's rmse: 1.14401\n",
      "[325]\ttraining's rmse: 0.886541\tvalid_1's rmse: 1.14392\n",
      "[350]\ttraining's rmse: 0.880208\tvalid_1's rmse: 1.14393\n",
      "[375]\ttraining's rmse: 0.875737\tvalid_1's rmse: 1.14338\n",
      "[400]\ttraining's rmse: 0.871617\tvalid_1's rmse: 1.14266\n",
      "[425]\ttraining's rmse: 0.867745\tvalid_1's rmse: 1.1433\n",
      "[450]\ttraining's rmse: 0.86537\tvalid_1's rmse: 1.14411\n",
      "[475]\ttraining's rmse: 0.861173\tvalid_1's rmse: 1.14491\n",
      "[500]\ttraining's rmse: 0.858708\tvalid_1's rmse: 1.14518\n",
      "[525]\ttraining's rmse: 0.856225\tvalid_1's rmse: 1.14516\n",
      "[550]\ttraining's rmse: 0.85305\tvalid_1's rmse: 1.14547\n",
      "[575]\ttraining's rmse: 0.850433\tvalid_1's rmse: 1.14566\n",
      "Early stopping, best iteration is:\n",
      "[540]\ttraining's rmse: 0.91183\tvalid_1's rmse: 1.06248\n"
     ]
    }
   ],
   "source": [
    "# カテゴリ変数リスト\n",
    "categorical_features = [\"building_id\", \"site_id\", \"meter\", \"primary_use\", \"weekend\"]\n",
    "\n",
    "# パラメーター設定\n",
    "params = {\n",
    "    \"objective\": \"regression\", # 目的関数：回帰\n",
    "    \"boosting\": \"gbdt\", # 勾配ブースティング\n",
    "    \"num_leaves\": 31, # 決定木の端末ノードの数\n",
    "    \"learning_rate\": 0.05, # 学習率\n",
    "    \"feature_fraction\": 0.85, # 特徴量の削減率 ※1未満の場合、特徴量を削減して学習される\n",
    "    \"reg_lambda\": 2, # L2正則化項の係数 ※過学習を防ぐために用いる関数のパラメータ\n",
    "    \"metric\": \"rmse\",# モデルの性能を測る指標 ※二乗平均平方根誤差\n",
    "    \"force_row_wise\": True # 行ベースのヒストグラムを生成する\n",
    "}\n",
    "# params = {\n",
    "#     \"objective\": \"regression\",\n",
    "#     \"extra_trees\": True,\n",
    "#     \"boosting\": \"rf\",\n",
    "#     \"num_leaves\": 1280,\n",
    "#     \"learning_rate\": 0.05,\n",
    "#     \"feature_fraction\": 0.85,\n",
    "#     \"reg_lambda\": 2,\n",
    "#     \"metric\": \"rmse\",\n",
    "#     \"force_row_wise\": True,\n",
    "#     \"bagging_freq\": 1,\n",
    "#     \"bagging_fraction\": 0.6,\n",
    "#     \"feature_fraction\": 0.7\n",
    "# }\n",
    "\n",
    "earlyStoppingcallback = early_stopping(50)\n",
    "logEvaluationCallback = log_evaluation(25)\n",
    "\n",
    "# 学習実行\n",
    "kf = KFold(n_splits=3)\n",
    "models = []\n",
    "for train_index, test_index in kf.split(features):\n",
    "    train_features = features.loc[train_index]\n",
    "    train_target = target.loc[train_index]\n",
    "    \n",
    "    test_features = features.loc[test_index]\n",
    "    test_target = target.loc[test_index]\n",
    "\n",
    "    # データセット作成    \n",
    "    d_training = lgb.Dataset(train_features, label=train_target, free_raw_data=False)\n",
    "    d_test = lgb.Dataset(test_features, label=test_target, free_raw_data=False)\n",
    "    \n",
    "    # 学習実行\n",
    "    model = lgb.train(\n",
    "        params,\n",
    "        train_set=d_training,\n",
    "        num_boost_round=1000,\n",
    "        valid_sets=[d_training, d_test],\n",
    "        categorical_feature=categorical_features,\n",
    "        callbacks=[\n",
    "            earlyStoppingcallback,\n",
    "            logEvaluationCallback\n",
    "        ]\n",
    "    )\n",
    "    \n",
    "    models.append(model)\n",
    "    \n",
    "    del train_features, train_target, test_features, test_target, d_training, d_test\n",
    "    gc.collect()"
   ]
  },
  {
   "cell_type": "code",
   "execution_count": 86,
   "metadata": {},
   "outputs": [
    {
     "data": {
      "text/plain": [
       "15"
      ]
     },
     "execution_count": 86,
     "metadata": {},
     "output_type": "execute_result"
    }
   ],
   "source": [
    "# メモリ解放\n",
    "del features, target\n",
    "gc.collect()"
   ]
  },
  {
   "cell_type": "code",
   "execution_count": 87,
   "metadata": {},
   "outputs": [
    {
     "data": {
      "image/png": "[encoded data removed]",
      "text/plain": [
       "<Figure size 432x288 with 1 Axes>"
      ]
     },
     "metadata": {
      "needs_background": "light"
     },
     "output_type": "display_data"
    },
    {
     "data": {
      "image/png": "[encoded data removed]",
      "text/plain": [
       "<Figure size 432x288 with 1 Axes>"
      ]
     },
     "metadata": {
      "needs_background": "light"
     },
     "output_type": "display_data"
    },
    {
     "data": {
      "image/png": "[encoded data removed]",
      "text/plain": [
       "<Figure size 432x288 with 1 Axes>"
      ]
     },
     "metadata": {
      "needs_background": "light"
     },
     "output_type": "display_data"
    }
   ],
   "source": [
    "# 学習結果をプロット\n",
    "for model in models:\n",
    "    lgb.plot_importance(model)\n",
    "    plt.show()\n",
    "    # lgb.create_tree_digraph(model)"
   ]
  },
  {
   "cell_type": "code",
   "execution_count": 88,
   "metadata": {},
   "outputs": [
    {
     "name": "stdout",
     "output_type": "stream",
     "text": [
      "Memory usage of dataframe is 954.38 MB\n",
      "Memory usage after optimization is: 199.47 MB\n",
      "Decreased by 79.1%\n"
     ]
    }
   ],
   "source": [
    "# テストデータ読み込み\n",
    "test_df = pd.read_csv(os.path.join(DATA_PATH, 'test.csv'))\n",
    "row_ids = test_df[\"row_id\"]\n",
    "test_df.drop(\"row_id\", axis=1, inplace=True)\n",
    "test_df = reduce_mem_usage(test_df)"
   ]
  },
  {
   "cell_type": "code",
   "execution_count": 69,
   "metadata": {},
   "outputs": [],
   "source": [
    "# コーディング用にロード、加工したデータを保存する\n",
    "# TODO:テストコードのため、要削除\n",
    "test_df.to_pickle(os.path.join(DATA_PATH, \"test_df.pkl\"))"
   ]
  },
  {
   "cell_type": "code",
   "execution_count": null,
   "metadata": {},
   "outputs": [],
   "source": [
    "# コーディング用に保存したデータをロードする\n",
    "# TODO:テストコードのため、要削除\n",
    "test_df = pd.read_pickle(os.path.join(DATA_PATH, \"test_df.pkl\"))"
   ]
  },
  {
   "cell_type": "code",
   "execution_count": 89,
   "metadata": {},
   "outputs": [
    {
     "data": {
      "text/plain": [
       "14543"
      ]
     },
     "execution_count": 89,
     "metadata": {},
     "output_type": "execute_result"
    }
   ],
   "source": [
    "# ビルデータを結合\n",
    "test_df = test_df.merge(building_df,left_on='building_id',right_on='building_id',how='left')\n",
    "del building_df\n",
    "gc.collect()"
   ]
  },
  {
   "cell_type": "code",
   "execution_count": 90,
   "metadata": {},
   "outputs": [
    {
     "name": "stderr",
     "output_type": "stream",
     "text": [
      "/var/folders/km/rlhv761j4rqcrksj6ch5bw_r0000gn/T/ipykernel_29284/703020239.py:36: FutureWarning: Series.dt.weekofyear and Series.dt.week have been deprecated. Please use Series.dt.isocalendar().week instead.\n",
      "  weather_df[\"week\"] = weather_df[\"datetime\"].dt.week\n"
     ]
    },
    {
     "name": "stdout",
     "output_type": "stream",
     "text": [
      "Memory usage of dataframe is 19.25 MB\n",
      "Memory usage after optimization is: 8.93 MB\n",
      "Decreased by 53.6%\n"
     ]
    }
   ],
   "source": [
    "# テスト気象データ読み込み、データを結合\n",
    "weather_df = pd.read_csv(os.path.join(DATA_PATH, 'weather_test.csv'))\n",
    "weather_df = fill_weather_dataset(weather_df)\n",
    "weather_df = reduce_mem_usage(weather_df)"
   ]
  },
  {
   "cell_type": "code",
   "execution_count": 72,
   "metadata": {},
   "outputs": [],
   "source": [
    "# コーディング用にロード、加工したデータを保存する\n",
    "# TODO:テストコードのため、要削除\n",
    "weather_df.to_pickle(os.path.join(DATA_PATH, \"weather_test_df.pkl\"))"
   ]
  },
  {
   "cell_type": "code",
   "execution_count": 73,
   "metadata": {},
   "outputs": [],
   "source": [
    "# コーディング用に保存したデータをロードする\n",
    "# TODO:テストコードのため、要削除\n",
    "weather_df = pd.read_pickle(os.path.join(DATA_PATH, \"weather_test_df.pkl\"))"
   ]
  },
  {
   "cell_type": "code",
   "execution_count": 91,
   "metadata": {},
   "outputs": [
    {
     "data": {
      "text/plain": [
       "15"
      ]
     },
     "execution_count": 91,
     "metadata": {},
     "output_type": "execute_result"
    }
   ],
   "source": [
    "# 気象データをテストデータへ結合\n",
    "test_df = test_df.merge(weather_df,how='left',on=['timestamp','site_id'])\n",
    "del weather_df\n",
    "gc.collect()"
   ]
  },
  {
   "cell_type": "code",
   "execution_count": 92,
   "metadata": {},
   "outputs": [],
   "source": [
    "# 特徴量を作成する\n",
    "test_df = features_engineering(test_df)"
   ]
  },
  {
   "cell_type": "code",
   "execution_count": 93,
   "metadata": {},
   "outputs": [
    {
     "name": "stderr",
     "output_type": "stream",
     "text": [
      "/var/folders/km/rlhv761j4rqcrksj6ch5bw_r0000gn/T/ipykernel_29284/3602265000.py:4: DeprecationWarning: elementwise comparison failed; this will raise an error in the future.\n",
      "  if  results == []:\n"
     ]
    }
   ],
   "source": [
    "# 推定する ※8分ぐらいかかる\n",
    "results = []\n",
    "for model in models:\n",
    "    if  results == []:\n",
    "        results = np.expm1(model.predict(test_df, num_iteration=model.best_iteration)) / len(models)\n",
    "    else:\n",
    "        results += np.expm1(model.predict(test_df, num_iteration=model.best_iteration)) / len(models)\n",
    "    # del model\n",
    "    gc.collect()"
   ]
  },
  {
   "cell_type": "code",
   "execution_count": 77,
   "metadata": {},
   "outputs": [
    {
     "data": {
      "text/plain": [
       "0"
      ]
     },
     "execution_count": 77,
     "metadata": {},
     "output_type": "execute_result"
    }
   ],
   "source": [
    "# データ、モデル削除\n",
    "del test_df, models\n",
    "gc.collect()"
   ]
  },
  {
   "cell_type": "code",
   "execution_count": 78,
   "metadata": {},
   "outputs": [],
   "source": [
    "# 提出データ作成\n",
    "results_df = pd.DataFrame({\"row_id\": row_ids, \"meter_reading\": np.clip(results, 0, a_max=None)})\n",
    "del row_ids,results\n",
    "gc.collect()\n",
    "results_df.to_csv(\"submission.csv\", index=False)"
   ]
  },
  {
   "cell_type": "code",
   "execution_count": 79,
   "metadata": {},
   "outputs": [
    {
     "data": {
      "text/html": [
       "<div>\n",
       "<style scoped>\n",
       "    .dataframe tbody tr th:only-of-type {\n",
       "        vertical-align: middle;\n",
       "    }\n",
       "\n",
       "    .dataframe tbody tr th {\n",
       "        vertical-align: top;\n",
       "    }\n",
       "\n",
       "    .dataframe thead th {\n",
       "        text-align: right;\n",
       "    }\n",
       "</style>\n",
       "<table border=\"1\" class=\"dataframe\">\n",
       "  <thead>\n",
       "    <tr style=\"text-align: right;\">\n",
       "      <th></th>\n",
       "      <th>row_id</th>\n",
       "      <th>meter_reading</th>\n",
       "    </tr>\n",
       "  </thead>\n",
       "  <tbody>\n",
       "    <tr>\n",
       "      <th>0</th>\n",
       "      <td>0</td>\n",
       "      <td>120.344764</td>\n",
       "    </tr>\n",
       "    <tr>\n",
       "      <th>1</th>\n",
       "      <td>1</td>\n",
       "      <td>93.256079</td>\n",
       "    </tr>\n",
       "    <tr>\n",
       "      <th>2</th>\n",
       "      <td>2</td>\n",
       "      <td>8.105577</td>\n",
       "    </tr>\n",
       "    <tr>\n",
       "      <th>3</th>\n",
       "      <td>3</td>\n",
       "      <td>244.087840</td>\n",
       "    </tr>\n",
       "    <tr>\n",
       "      <th>4</th>\n",
       "      <td>4</td>\n",
       "      <td>998.249432</td>\n",
       "    </tr>\n",
       "    <tr>\n",
       "      <th>5</th>\n",
       "      <td>5</td>\n",
       "      <td>28.829597</td>\n",
       "    </tr>\n",
       "    <tr>\n",
       "      <th>6</th>\n",
       "      <td>6</td>\n",
       "      <td>102.491298</td>\n",
       "    </tr>\n",
       "    <tr>\n",
       "      <th>7</th>\n",
       "      <td>7</td>\n",
       "      <td>421.722334</td>\n",
       "    </tr>\n",
       "    <tr>\n",
       "      <th>8</th>\n",
       "      <td>8</td>\n",
       "      <td>292.885764</td>\n",
       "    </tr>\n",
       "    <tr>\n",
       "      <th>9</th>\n",
       "      <td>9</td>\n",
       "      <td>344.905890</td>\n",
       "    </tr>\n",
       "    <tr>\n",
       "      <th>10</th>\n",
       "      <td>10</td>\n",
       "      <td>52.836399</td>\n",
       "    </tr>\n",
       "    <tr>\n",
       "      <th>11</th>\n",
       "      <td>11</td>\n",
       "      <td>9.522624</td>\n",
       "    </tr>\n",
       "    <tr>\n",
       "      <th>12</th>\n",
       "      <td>12</td>\n",
       "      <td>1273.616452</td>\n",
       "    </tr>\n",
       "    <tr>\n",
       "      <th>13</th>\n",
       "      <td>13</td>\n",
       "      <td>358.282971</td>\n",
       "    </tr>\n",
       "    <tr>\n",
       "      <th>14</th>\n",
       "      <td>14</td>\n",
       "      <td>194.462859</td>\n",
       "    </tr>\n",
       "    <tr>\n",
       "      <th>15</th>\n",
       "      <td>15</td>\n",
       "      <td>177.476382</td>\n",
       "    </tr>\n",
       "    <tr>\n",
       "      <th>16</th>\n",
       "      <td>16</td>\n",
       "      <td>67.467003</td>\n",
       "    </tr>\n",
       "    <tr>\n",
       "      <th>17</th>\n",
       "      <td>17</td>\n",
       "      <td>261.447388</td>\n",
       "    </tr>\n",
       "    <tr>\n",
       "      <th>18</th>\n",
       "      <td>18</td>\n",
       "      <td>456.129533</td>\n",
       "    </tr>\n",
       "    <tr>\n",
       "      <th>19</th>\n",
       "      <td>19</td>\n",
       "      <td>188.141804</td>\n",
       "    </tr>\n",
       "  </tbody>\n",
       "</table>\n",
       "</div>"
      ],
      "text/plain": [
       "    row_id  meter_reading\n",
       "0        0     120.344764\n",
       "1        1      93.256079\n",
       "2        2       8.105577\n",
       "3        3     244.087840\n",
       "4        4     998.249432\n",
       "5        5      28.829597\n",
       "6        6     102.491298\n",
       "7        7     421.722334\n",
       "8        8     292.885764\n",
       "9        9     344.905890\n",
       "10      10      52.836399\n",
       "11      11       9.522624\n",
       "12      12    1273.616452\n",
       "13      13     358.282971\n",
       "14      14     194.462859\n",
       "15      15     177.476382\n",
       "16      16      67.467003\n",
       "17      17     261.447388\n",
       "18      18     456.129533\n",
       "19      19     188.141804"
      ]
     },
     "execution_count": 79,
     "metadata": {},
     "output_type": "execute_result"
    }
   ],
   "source": [
    "results_df.head(20)"
   ]
  },
  {
   "cell_type": "code",
   "execution_count": null,
   "metadata": {},
   "outputs": [],
   "source": []
  },
  {
   "cell_type": "markdown",
   "metadata": {},
   "source": [
    "---\n",
    "\n",
    "以下、テストコード"
   ]
  },
  {
   "cell_type": "code",
   "execution_count": 11,
   "metadata": {},
   "outputs": [],
   "source": [
    "tmp_weather_df = fill_weather_dataset(weather_df)"
   ]
  },
  {
   "cell_type": "code",
   "execution_count": 33,
   "metadata": {},
   "outputs": [],
   "source": [
    "del tmp_weather_df"
   ]
  },
  {
   "cell_type": "code",
   "execution_count": 14,
   "metadata": {},
   "outputs": [
    {
     "name": "stderr",
     "output_type": "stream",
     "text": [
      "/var/folders/km/rlhv761j4rqcrksj6ch5bw_r0000gn/T/ipykernel_19513/2116604713.py:3: FutureWarning: In a future version of pandas all arguments of DataFrame.drop except for the argument 'labels' will be keyword-only.\n",
      "  tmp_weather_df.merge(weather_df, indicator=True, how='outer').query('_merge==\"left_only\"').drop('_merge', 1)\n"
     ]
    },
    {
     "data": {
      "text/html": [
       "<div>\n",
       "<style scoped>\n",
       "    .dataframe tbody tr th:only-of-type {\n",
       "        vertical-align: middle;\n",
       "    }\n",
       "\n",
       "    .dataframe tbody tr th {\n",
       "        vertical-align: top;\n",
       "    }\n",
       "\n",
       "    .dataframe thead th {\n",
       "        text-align: right;\n",
       "    }\n",
       "</style>\n",
       "<table border=\"1\" class=\"dataframe\">\n",
       "  <thead>\n",
       "    <tr style=\"text-align: right;\">\n",
       "      <th></th>\n",
       "      <th>site_id</th>\n",
       "      <th>timestamp</th>\n",
       "      <th>air_temperature</th>\n",
       "      <th>cloud_coverage</th>\n",
       "      <th>dew_temperature</th>\n",
       "      <th>precip_depth_1_hr</th>\n",
       "      <th>sea_level_pressure</th>\n",
       "      <th>wind_direction</th>\n",
       "      <th>wind_speed</th>\n",
       "    </tr>\n",
       "  </thead>\n",
       "  <tbody>\n",
       "    <tr>\n",
       "      <th>139773</th>\n",
       "      <td>1</td>\n",
       "      <td>2016-02-15 14:00:00</td>\n",
       "      <td>NaN</td>\n",
       "      <td>NaN</td>\n",
       "      <td>NaN</td>\n",
       "      <td>NaN</td>\n",
       "      <td>NaN</td>\n",
       "      <td>NaN</td>\n",
       "      <td>NaN</td>\n",
       "    </tr>\n",
       "    <tr>\n",
       "      <th>139774</th>\n",
       "      <td>1</td>\n",
       "      <td>2016-02-15 15:00:00</td>\n",
       "      <td>NaN</td>\n",
       "      <td>NaN</td>\n",
       "      <td>NaN</td>\n",
       "      <td>NaN</td>\n",
       "      <td>NaN</td>\n",
       "      <td>NaN</td>\n",
       "      <td>NaN</td>\n",
       "    </tr>\n",
       "    <tr>\n",
       "      <th>139775</th>\n",
       "      <td>1</td>\n",
       "      <td>2016-02-15 16:00:00</td>\n",
       "      <td>NaN</td>\n",
       "      <td>NaN</td>\n",
       "      <td>NaN</td>\n",
       "      <td>NaN</td>\n",
       "      <td>NaN</td>\n",
       "      <td>NaN</td>\n",
       "      <td>NaN</td>\n",
       "    </tr>\n",
       "    <tr>\n",
       "      <th>139776</th>\n",
       "      <td>1</td>\n",
       "      <td>2016-02-15 17:00:00</td>\n",
       "      <td>NaN</td>\n",
       "      <td>NaN</td>\n",
       "      <td>NaN</td>\n",
       "      <td>NaN</td>\n",
       "      <td>NaN</td>\n",
       "      <td>NaN</td>\n",
       "      <td>NaN</td>\n",
       "    </tr>\n",
       "    <tr>\n",
       "      <th>139777</th>\n",
       "      <td>1</td>\n",
       "      <td>2016-02-15 20:00:00</td>\n",
       "      <td>NaN</td>\n",
       "      <td>NaN</td>\n",
       "      <td>NaN</td>\n",
       "      <td>NaN</td>\n",
       "      <td>NaN</td>\n",
       "      <td>NaN</td>\n",
       "      <td>NaN</td>\n",
       "    </tr>\n",
       "    <tr>\n",
       "      <th>...</th>\n",
       "      <td>...</td>\n",
       "      <td>...</td>\n",
       "      <td>...</td>\n",
       "      <td>...</td>\n",
       "      <td>...</td>\n",
       "      <td>...</td>\n",
       "      <td>...</td>\n",
       "      <td>...</td>\n",
       "      <td>...</td>\n",
       "    </tr>\n",
       "    <tr>\n",
       "      <th>140539</th>\n",
       "      <td>15</td>\n",
       "      <td>2016-12-09 10:00:00</td>\n",
       "      <td>NaN</td>\n",
       "      <td>NaN</td>\n",
       "      <td>NaN</td>\n",
       "      <td>NaN</td>\n",
       "      <td>NaN</td>\n",
       "      <td>NaN</td>\n",
       "      <td>NaN</td>\n",
       "    </tr>\n",
       "    <tr>\n",
       "      <th>140540</th>\n",
       "      <td>15</td>\n",
       "      <td>2016-12-17 07:00:00</td>\n",
       "      <td>NaN</td>\n",
       "      <td>NaN</td>\n",
       "      <td>NaN</td>\n",
       "      <td>NaN</td>\n",
       "      <td>NaN</td>\n",
       "      <td>NaN</td>\n",
       "      <td>NaN</td>\n",
       "    </tr>\n",
       "    <tr>\n",
       "      <th>140541</th>\n",
       "      <td>15</td>\n",
       "      <td>2016-12-20 06:00:00</td>\n",
       "      <td>NaN</td>\n",
       "      <td>NaN</td>\n",
       "      <td>NaN</td>\n",
       "      <td>NaN</td>\n",
       "      <td>NaN</td>\n",
       "      <td>NaN</td>\n",
       "      <td>NaN</td>\n",
       "    </tr>\n",
       "    <tr>\n",
       "      <th>140542</th>\n",
       "      <td>15</td>\n",
       "      <td>2016-12-24 05:00:00</td>\n",
       "      <td>NaN</td>\n",
       "      <td>NaN</td>\n",
       "      <td>NaN</td>\n",
       "      <td>NaN</td>\n",
       "      <td>NaN</td>\n",
       "      <td>NaN</td>\n",
       "      <td>NaN</td>\n",
       "    </tr>\n",
       "    <tr>\n",
       "      <th>140543</th>\n",
       "      <td>15</td>\n",
       "      <td>2016-12-28 10:00:00</td>\n",
       "      <td>NaN</td>\n",
       "      <td>NaN</td>\n",
       "      <td>NaN</td>\n",
       "      <td>NaN</td>\n",
       "      <td>NaN</td>\n",
       "      <td>NaN</td>\n",
       "      <td>NaN</td>\n",
       "    </tr>\n",
       "  </tbody>\n",
       "</table>\n",
       "<p>771 rows × 9 columns</p>\n",
       "</div>"
      ],
      "text/plain": [
       "        site_id            timestamp  air_temperature  cloud_coverage  \\\n",
       "139773        1  2016-02-15 14:00:00              NaN             NaN   \n",
       "139774        1  2016-02-15 15:00:00              NaN             NaN   \n",
       "139775        1  2016-02-15 16:00:00              NaN             NaN   \n",
       "139776        1  2016-02-15 17:00:00              NaN             NaN   \n",
       "139777        1  2016-02-15 20:00:00              NaN             NaN   \n",
       "...         ...                  ...              ...             ...   \n",
       "140539       15  2016-12-09 10:00:00              NaN             NaN   \n",
       "140540       15  2016-12-17 07:00:00              NaN             NaN   \n",
       "140541       15  2016-12-20 06:00:00              NaN             NaN   \n",
       "140542       15  2016-12-24 05:00:00              NaN             NaN   \n",
       "140543       15  2016-12-28 10:00:00              NaN             NaN   \n",
       "\n",
       "        dew_temperature  precip_depth_1_hr  sea_level_pressure  \\\n",
       "139773              NaN                NaN                 NaN   \n",
       "139774              NaN                NaN                 NaN   \n",
       "139775              NaN                NaN                 NaN   \n",
       "139776              NaN                NaN                 NaN   \n",
       "139777              NaN                NaN                 NaN   \n",
       "...                 ...                ...                 ...   \n",
       "140539              NaN                NaN                 NaN   \n",
       "140540              NaN                NaN                 NaN   \n",
       "140541              NaN                NaN                 NaN   \n",
       "140542              NaN                NaN                 NaN   \n",
       "140543              NaN                NaN                 NaN   \n",
       "\n",
       "        wind_direction  wind_speed  \n",
       "139773             NaN         NaN  \n",
       "139774             NaN         NaN  \n",
       "139775             NaN         NaN  \n",
       "139776             NaN         NaN  \n",
       "139777             NaN         NaN  \n",
       "...                ...         ...  \n",
       "140539             NaN         NaN  \n",
       "140540             NaN         NaN  \n",
       "140541             NaN         NaN  \n",
       "140542             NaN         NaN  \n",
       "140543             NaN         NaN  \n",
       "\n",
       "[771 rows x 9 columns]"
      ]
     },
     "execution_count": 14,
     "metadata": {},
     "output_type": "execute_result"
    }
   ],
   "source": [
    "# データ差異を確認\n",
    "tmp_weather_df.merge(weather_df, indicator=True, how='outer').query('_merge==\"left_only\"').drop('_merge', 1)"
   ]
  },
  {
   "cell_type": "code",
   "execution_count": 24,
   "metadata": {},
   "outputs": [
    {
     "data": {
      "text/plain": [
       "0.0"
      ]
     },
     "execution_count": 24,
     "metadata": {},
     "output_type": "execute_result"
    }
   ],
   "source": [
    "np.log1p(0)"
   ]
  },
  {
   "cell_type": "code",
   "execution_count": 12,
   "metadata": {},
   "outputs": [
    {
     "data": {
      "text/html": [
       "<div>\n",
       "<style scoped>\n",
       "    .dataframe tbody tr th:only-of-type {\n",
       "        vertical-align: middle;\n",
       "    }\n",
       "\n",
       "    .dataframe tbody tr th {\n",
       "        vertical-align: top;\n",
       "    }\n",
       "\n",
       "    .dataframe thead th {\n",
       "        text-align: right;\n",
       "    }\n",
       "</style>\n",
       "<table border=\"1\" class=\"dataframe\">\n",
       "  <thead>\n",
       "    <tr style=\"text-align: right;\">\n",
       "      <th></th>\n",
       "      <th>site_id</th>\n",
       "      <th>timestamp</th>\n",
       "      <th>air_temperature</th>\n",
       "      <th>cloud_coverage</th>\n",
       "      <th>dew_temperature</th>\n",
       "      <th>precip_depth_1_hr</th>\n",
       "      <th>sea_level_pressure</th>\n",
       "      <th>wind_direction</th>\n",
       "      <th>wind_speed</th>\n",
       "    </tr>\n",
       "  </thead>\n",
       "  <tbody>\n",
       "  </tbody>\n",
       "</table>\n",
       "</div>"
      ],
      "text/plain": [
       "Empty DataFrame\n",
       "Columns: [site_id, timestamp, air_temperature, cloud_coverage, dew_temperature, precip_depth_1_hr, sea_level_pressure, wind_direction, wind_speed]\n",
       "Index: []"
      ]
     },
     "execution_count": 12,
     "metadata": {},
     "output_type": "execute_result"
    }
   ],
   "source": [
    "weather_df.query(\"wind_direction == 0 and wind_speed != 0\")"
   ]
  },
  {
   "cell_type": "code",
   "execution_count": 26,
   "metadata": {},
   "outputs": [
    {
     "data": {
      "text/plain": [
       "2.3012989023072947"
      ]
     },
     "execution_count": 26,
     "metadata": {},
     "output_type": "execute_result"
    }
   ],
   "source": [
    "math.asin(math.radians(90 % 360))"
   ]
  },
  {
   "cell_type": "code",
   "execution_count": 21,
   "metadata": {},
   "outputs": [
    {
     "data": {
      "text/plain": [
       "1.5707963267948966"
      ]
     },
     "execution_count": 21,
     "metadata": {},
     "output_type": "execute_result"
    }
   ],
   "source": []
  },
  {
   "cell_type": "code",
   "execution_count": null,
   "metadata": {},
   "outputs": [],
   "source": []
  }
 ],
 "metadata": {
  "interpreter": {
   "hash": "74c7c3687703664997f19149f5445e423068aa826b97a36d943ea9f2cd8004e5"
  },
  "kernelspec": {
   "display_name": "Python 3.10.4 ('python_3.10')",
   "language": "python",
   "name": "python3"
  },
  "language_info": {
   "codemirror_mode": {
    "name": "ipython",
    "version": 3
   },
   "file_extension": ".py",
   "mimetype": "text/x-python",
   "name": "python",
   "nbconvert_exporter": "python",
   "pygments_lexer": "ipython3",
   "version": "3.10.4"
  },
  "orig_nbformat": 4
 },
 "nbformat": 4,
 "nbformat_minor": 2
}
