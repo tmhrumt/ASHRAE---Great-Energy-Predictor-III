{
 "cells": [
  {
   "cell_type": "markdown",
   "metadata": {},
   "source": [
    "# ASHRAE - Great Energy Predictor III\n",
    "https://www.kaggle.com/competitions/ashrae-energy-prediction/overview\n",
    "\n",
    "LightGBMをやってみる  \n",
    "参考  \n",
    "https://www.kaggle.com/code/aitude/ashrae-kfold-lightgbm-without-leak-1-08  \n",
    "\n",
    "LightGBM パラメーター内容  \n",
    "https://zenn.dev/mosamosa/articles/07d0076c9292136a3639"
   ]
  },
  {
   "cell_type": "code",
   "execution_count": 57,
   "metadata": {},
   "outputs": [
    {
     "data": {
      "text/plain": [
       "' データディレクトリ '"
      ]
     },
     "execution_count": 57,
     "metadata": {},
     "output_type": "execute_result"
    }
   ],
   "source": [
    "# 定数定義\n",
    "DATA_PATH = \"./data\"\n",
    "\"\"\" データディレクトリ \"\"\""
   ]
  },
  {
   "cell_type": "code",
   "execution_count": 58,
   "metadata": {},
   "outputs": [],
   "source": [
    "# インポート定義\n",
    "\n",
    "import pandas as pd\n",
    "import numpy as np\n",
    "import matplotlib.pyplot as plt\n",
    "import lightgbm as lgb\n",
    "from lightgbm import early_stopping, log_evaluation\n",
    "from sklearn.preprocessing import LabelEncoder\n",
    "from sklearn.model_selection import KFold\n",
    "import datetime\n",
    "import gc\n",
    "import os\n",
    "from pandas.api.types import is_datetime64_any_dtype as is_datetime\n",
    "from pandas.api.types import is_categorical_dtype"
   ]
  },
  {
   "cell_type": "code",
   "execution_count": 83,
   "metadata": {},
   "outputs": [],
   "source": [
    "# データ読み込み\n",
    "train_df = pd.read_csv(os.path.join(DATA_PATH, 'train.csv'))\n",
    "\n",
    "# Remove outliers\n",
    "# TODO:なぜこの条件で除外しているかの確認が必要\n",
    "train_df = train_df [ train_df['building_id'] != 1099 ]\n",
    "train_df = train_df.query('not (building_id <= 104 & meter == 0 & timestamp <= \"2016-05-20\")')\n",
    "\n",
    "building_df = pd.read_csv(os.path.join(DATA_PATH, 'building_metadata.csv'))\n",
    "weather_df = pd.read_csv(os.path.join(DATA_PATH, 'weather_train.csv'))"
   ]
  },
  {
   "cell_type": "code",
   "execution_count": 84,
   "metadata": {},
   "outputs": [],
   "source": [
    "# Original code from https://www.kaggle.com/aitude/ashrae-missing-weather-data-handling by @aitude\n",
    "\n",
    "def fill_weather_dataset(weather_df: pd.DataFrame) -> pd.DataFrame:\n",
    "    \"\"\"気象データの欠損値を補完する\n",
    "\n",
    "    Args:\n",
    "        weather_df (pd.DataFrame): 気象データ\n",
    "\n",
    "    Returns:\n",
    "        pd.DataFrame: データ補完後の気象データを返す\n",
    "    \"\"\"\n",
    "    # サイトIDの数\n",
    "    SITE_ID_COUNT = 16\n",
    "\n",
    "    # 気象データの観測時間リストを作成\n",
    "    time_format = \"%Y-%m-%d %H:%M:%S\"\n",
    "    start_date = datetime.datetime.strptime(weather_df['timestamp'].min(),time_format)\n",
    "    end_date = datetime.datetime.strptime(weather_df['timestamp'].max(),time_format)\n",
    "    total_hours = int(((end_date - start_date).total_seconds() + 3600) / 3600)\n",
    "    hours_list = [(end_date - datetime.timedelta(hours=x)).strftime(time_format) for x in range(total_hours)]\n",
    "\n",
    "    # サイト毎に欠損データを追加\n",
    "    # ※追加するデータの値はnanを設定\n",
    "    for site_id in range(SITE_ID_COUNT):\n",
    "        site_hours = np.array(weather_df[weather_df['site_id'] == site_id]['timestamp'])\n",
    "        new_rows = pd.DataFrame(np.setdiff1d(hours_list,site_hours),columns=['timestamp'])\n",
    "        new_rows['site_id'] = site_id\n",
    "        weather_df = pd.concat([weather_df,new_rows])\n",
    "\n",
    "        weather_df = weather_df.reset_index(drop=True)\n",
    "\n",
    "    # 観測日時より、日、週、月のカラムを作成\n",
    "    # ※後述の追加カラムのため\n",
    "    weather_df[\"datetime\"] = pd.to_datetime(weather_df[\"timestamp\"])\n",
    "    weather_df[\"day\"] = weather_df[\"datetime\"].dt.day\n",
    "    weather_df[\"week\"] = weather_df[\"datetime\"].dt.week\n",
    "    weather_df[\"month\"] = weather_df[\"datetime\"].dt.month\n",
    "\n",
    "    # 欠損値を補完    \n",
    "    # データ集計の高速化のため、集計単位でインデックスを作成\n",
    "    weather_df = weather_df.set_index(['site_id','day','month'])\n",
    "\n",
    "    # 気温\n",
    "    air_temperature_filler = pd.DataFrame(weather_df.groupby(['site_id','day','month'])['air_temperature'].mean(),columns=[\"air_temperature\"])\n",
    "    weather_df.update(air_temperature_filler,overwrite=False)\n",
    "\n",
    "    # 雲量\n",
    "    # Step 1 グループ毎の平均値を取得\n",
    "    cloud_coverage_filler = weather_df.groupby(['site_id','day','month'])['cloud_coverage'].mean()\n",
    "    # Step 2 直前に値が設定されている場合、その値を使用する\n",
    "    cloud_coverage_filler = pd.DataFrame(cloud_coverage_filler.fillna(method='ffill'),columns=[\"cloud_coverage\"])\n",
    "\n",
    "    weather_df.update(cloud_coverage_filler,overwrite=False)\n",
    "\n",
    "    # 露点温度(≒湿度)\n",
    "    dew_temperature_filler = pd.DataFrame(weather_df.groupby(['site_id','day','month'])['dew_temperature'].mean(),columns=[\"dew_temperature\"])\n",
    "    weather_df.update(dew_temperature_filler, overwrite=False)\n",
    "\n",
    "    # 海面気圧\n",
    "    # Step 1 グループ毎の平均値を取得\n",
    "    sea_level_filler = weather_df.groupby(['site_id','day','month'])['sea_level_pressure'].mean()\n",
    "    # Step 2 直前に値が設定されている場合、その値を使用する\n",
    "    sea_level_filler = pd.DataFrame(sea_level_filler.fillna(method='ffill'),columns=['sea_level_pressure'])\n",
    "\n",
    "    weather_df.update(sea_level_filler,overwrite=False)\n",
    "\n",
    "    # 風向き\n",
    "    wind_direction_filler =  pd.DataFrame(weather_df.groupby(['site_id','day','month'])['wind_direction'].mean(),columns=['wind_direction'])\n",
    "    weather_df.update(wind_direction_filler,overwrite=False)\n",
    "\n",
    "    # 風速\n",
    "    wind_speed_filler =  pd.DataFrame(weather_df.groupby(['site_id','day','month'])['wind_speed'].mean(),columns=['wind_speed'])\n",
    "    weather_df.update(wind_speed_filler,overwrite=False)\n",
    "\n",
    "    # 降水量\n",
    "    # Step 1 グループ毎の平均値を取得\n",
    "    precip_depth_filler = weather_df.groupby(['site_id','day','month'])['precip_depth_1_hr'].mean()\n",
    "    # Step 2 直前に値が設定されている場合、その値を資料する\n",
    "    precip_depth_filler = pd.DataFrame(precip_depth_filler.fillna(method='ffill'),columns=['precip_depth_1_hr'])\n",
    "\n",
    "    weather_df.update(precip_depth_filler,overwrite=False)\n",
    "\n",
    "    # インデックスを再作成し、欠損値補完用に追加したカラムを削除\n",
    "    weather_df = weather_df.reset_index()\n",
    "    weather_df = weather_df.drop(['datetime','day','week','month'],axis=1)\n",
    "        \n",
    "    return weather_df"
   ]
  },
  {
   "cell_type": "code",
   "execution_count": 85,
   "metadata": {},
   "outputs": [],
   "source": [
    "# Original code from https://www.kaggle.com/gemartin/load-data-reduce-memory-usage by @gemartin\n",
    "\n",
    "def reduce_mem_usage(df: pd.DataFrame, use_float16: bool = False) -> pd.DataFrame:\n",
    "    \"\"\"ロードしたデータを型変換し、容量を削減する\n",
    "\n",
    "    Args:\n",
    "        df (pd.DataFrame): ロードデータ\n",
    "        use_float16 (bool, optional): float16使用フラグ デフォルト値：False\n",
    "\n",
    "    Returns:\n",
    "        pd.DataFrame: 容量削減後のデータを返す\n",
    "    \"\"\"\n",
    "    \n",
    "    start_mem = df.memory_usage().sum() / 1024**2\n",
    "    print(\"Memory usage of dataframe is {:.2f} MB\".format(start_mem))\n",
    "    \n",
    "    for col in df.columns:\n",
    "        if is_datetime(df[col]) or is_categorical_dtype(df[col]):\n",
    "            continue\n",
    "        col_type = df[col].dtype\n",
    "        \n",
    "        if col_type != object:\n",
    "            c_min = df[col].min()\n",
    "            c_max = df[col].max()\n",
    "            if str(col_type)[:3] == \"int\":\n",
    "                if c_min > np.iinfo(np.int8).min and c_max < np.iinfo(np.int8).max:\n",
    "                    df[col] = df[col].astype(np.int8)\n",
    "                elif c_min > np.iinfo(np.int16).min and c_max < np.iinfo(np.int16).max:\n",
    "                    df[col] = df[col].astype(np.int16)\n",
    "                elif c_min > np.iinfo(np.int32).min and c_max < np.iinfo(np.int32).max:\n",
    "                    df[col] = df[col].astype(np.int32)\n",
    "                elif c_min > np.iinfo(np.int64).min and c_max < np.iinfo(np.int64).max:\n",
    "                    df[col] = df[col].astype(np.int64)  \n",
    "            else:\n",
    "                if use_float16 and c_min > np.finfo(np.float16).min and c_max < np.finfo(np.float16).max:\n",
    "                    df[col] = df[col].astype(np.float16)\n",
    "                elif c_min > np.finfo(np.float32).min and c_max < np.finfo(np.float32).max:\n",
    "                    df[col] = df[col].astype(np.float32)\n",
    "                else:\n",
    "                    df[col] = df[col].astype(np.float64)\n",
    "        else:\n",
    "            df[col] = df[col].astype(\"category\")\n",
    "\n",
    "    end_mem = df.memory_usage().sum() / 1024**2\n",
    "    print(\"Memory usage after optimization is: {:.2f} MB\".format(end_mem))\n",
    "    print(\"Decreased by {:.1f}%\".format(100 * (start_mem - end_mem) / start_mem))\n",
    "    \n",
    "    return df"
   ]
  },
  {
   "cell_type": "code",
   "execution_count": 128,
   "metadata": {},
   "outputs": [],
   "source": [
    "def features_engineering(df: pd.DataFrame) -> pd.DataFrame:\n",
    "    \"\"\"特徴量を作成する\n",
    "\n",
    "    Args:\n",
    "        df (pd.DataFrame): ロードしたデータ\n",
    "\n",
    "    Returns:\n",
    "        pd.DataFrame: 特徴量を追加したデータ\n",
    "    \"\"\"\n",
    "    \n",
    "    # 時系列順にソートする\n",
    "    df.sort_values(\"timestamp\")\n",
    "    df.reset_index(drop=True)\n",
    "    \n",
    "    # Add more features\n",
    "    # 日時\n",
    "    df[\"timestamp\"] = pd.to_datetime(df[\"timestamp\"],format=\"%Y-%m-%d %H:%M:%S\")\n",
    "    \n",
    "    # 時間\n",
    "    df[\"hour\"] = df[\"timestamp\"].dt.hour\n",
    "    \n",
    "    # 曜日\n",
    "    df[\"weekend\"] = df[\"timestamp\"].dt.weekday\n",
    "    \n",
    "    # 総床面積 ※logでは0が設定された場合に-∞になるため、log(1+a)にする\n",
    "    df[\"square_feet\"] = np.log1p(df[\"square_feet\"])\n",
    "\n",
    "    # 築年数 ※値が設定されている場合は\"1\"、その他の場合は\"0\"を設定\n",
    "    df[\"year_built\"] = np.where(df[\"year_built\"].notna(), 1, 0)\n",
    "\n",
    "    # 体感温度 ※風による温度影響を測るため、北風をマイナス値(冷たい風)、南風をプラス値(暖かい風)とし、風速を掛けた値を設定する\n",
    "    df[\"wind_direction\"] = -np.sin(np.radians(df[\"wind_direction\"] % 360)) \n",
    "    df[\"wind_warn\"] = df[\"wind_direction\"] * df[\"wind_speed\"]\n",
    "    \n",
    "    # 使用しないカラムを削除する\n",
    "    drop = [\"timestamp\",\"sea_level_pressure\", \"wind_direction\", \"wind_speed\", \"floor_count\", \"building_id\"]\n",
    "    df = df.drop(drop, axis=1)\n",
    "    gc.collect()\n",
    "    \n",
    "    # Encode Categorical Data\n",
    "    le = LabelEncoder()\n",
    "    df[\"primary_use\"] = le.fit_transform(df[\"primary_use\"])\n",
    "    \n",
    "    return df"
   ]
  },
  {
   "cell_type": "code",
   "execution_count": 87,
   "metadata": {},
   "outputs": [
    {
     "name": "stderr",
     "output_type": "stream",
     "text": [
      "/var/folders/km/rlhv761j4rqcrksj6ch5bw_r0000gn/T/ipykernel_1585/703020239.py:36: FutureWarning: Series.dt.weekofyear and Series.dt.week have been deprecated. Please use Series.dt.isocalendar().week instead.\n",
      "  weather_df[\"week\"] = weather_df[\"datetime\"].dt.week\n"
     ]
    }
   ],
   "source": [
    "# 気象データの欠損値を補完する\n",
    "weather_df = fill_weather_dataset(weather_df)"
   ]
  },
  {
   "cell_type": "code",
   "execution_count": 88,
   "metadata": {},
   "outputs": [
    {
     "name": "stdout",
     "output_type": "stream",
     "text": [
      "Memory usage of dataframe is 757.31 MB\n",
      "Memory usage after optimization is: 322.18 MB\n",
      "Decreased by 57.5%\n",
      "Memory usage of dataframe is 0.07 MB\n",
      "Memory usage after optimization is: 0.02 MB\n",
      "Decreased by 73.9%\n",
      "Memory usage of dataframe is 9.65 MB\n",
      "Memory usage after optimization is: 2.60 MB\n",
      "Decreased by 73.1%\n"
     ]
    }
   ],
   "source": [
    "# データ容量を削減する\n",
    "train_df = reduce_mem_usage(train_df,use_float16=True)\n",
    "building_df = reduce_mem_usage(building_df,use_float16=True)\n",
    "weather_df = reduce_mem_usage(weather_df,use_float16=True)"
   ]
  },
  {
   "cell_type": "code",
   "execution_count": null,
   "metadata": {},
   "outputs": [],
   "source": [
    "# コーディング用にロード、加工したデータを保存する\n",
    "# TODO:テストコードのため、要削除\n",
    "# train_df.to_pickle(os.path.join(DATA_PATH, \"train_df.pkl\"))\n",
    "# building_df.to_pickle(os.path.join(DATA_PATH, \"building_df.pkl\"))\n",
    "# weather_df.to_pickle(os.path.join(DATA_PATH, \"weather_df.pkl\"))"
   ]
  },
  {
   "cell_type": "code",
   "execution_count": 129,
   "metadata": {},
   "outputs": [],
   "source": [
    "# コーディング用に保存したデータをロードする\n",
    "# TODO:テストコードのため、要削除\n",
    "train_df = pd.read_pickle(os.path.join(DATA_PATH, \"train_df.pkl\"))\n",
    "building_df = pd.read_pickle(os.path.join(DATA_PATH, \"building_df.pkl\"))\n",
    "weather_df = pd.read_pickle(os.path.join(DATA_PATH, \"weather_df.pkl\"))"
   ]
  },
  {
   "cell_type": "code",
   "execution_count": 130,
   "metadata": {},
   "outputs": [
    {
     "data": {
      "text/plain": [
       "14799"
      ]
     },
     "execution_count": 130,
     "metadata": {},
     "output_type": "execute_result"
    }
   ],
   "source": [
    "# 各データを結合する\n",
    "train_df = train_df.merge(building_df, left_on='building_id',right_on='building_id',how='left')\n",
    "train_df = train_df.merge(weather_df,how='left',left_on=['site_id','timestamp'],right_on=['site_id', 'timestamp'])\n",
    "del weather_df\n",
    "gc.collect()"
   ]
  },
  {
   "cell_type": "code",
   "execution_count": 131,
   "metadata": {},
   "outputs": [],
   "source": [
    "# 特徴量を作成する\n",
    "train_df = features_engineering(train_df)"
   ]
  },
  {
   "cell_type": "code",
   "execution_count": 132,
   "metadata": {},
   "outputs": [
    {
     "data": {
      "text/plain": [
       "15"
      ]
     },
     "execution_count": 132,
     "metadata": {},
     "output_type": "execute_result"
    }
   ],
   "source": [
    "# データを目的変数と特徴量変数に分割する\n",
    "target = np.log1p(train_df[\"meter_reading\"])\n",
    "features = train_df.drop(\"meter_reading\", axis = 1)\n",
    "del train_df\n",
    "gc.collect()"
   ]
  },
  {
   "cell_type": "code",
   "execution_count": 135,
   "metadata": {},
   "outputs": [
    {
     "name": "stderr",
     "output_type": "stream",
     "text": [
      "/opt/homebrew/Caskroom/miniforge/base/envs/python_3.10/lib/python3.10/site-packages/lightgbm/basic.py:2068: UserWarning: categorical_feature in Dataset is overridden.\n",
      "New categorical_feature is ['meter', 'primary_use', 'site_id', 'weekend', 'year_built']\n",
      "  _log_warning('categorical_feature in Dataset is overridden.\\n'\n"
     ]
    },
    {
     "name": "stdout",
     "output_type": "stream",
     "text": [
      "[LightGBM] [Info] Total Bins 1434\n",
      "[LightGBM] [Info] Number of data points in the train set: 13234948, number of used features: 12\n"
     ]
    },
    {
     "name": "stderr",
     "output_type": "stream",
     "text": [
      "/opt/homebrew/Caskroom/miniforge/base/envs/python_3.10/lib/python3.10/site-packages/lightgbm/basic.py:1780: UserWarning: Overriding the parameters from Reference Dataset.\n",
      "  _log_warning('Overriding the parameters from Reference Dataset.')\n",
      "/opt/homebrew/Caskroom/miniforge/base/envs/python_3.10/lib/python3.10/site-packages/lightgbm/basic.py:1513: UserWarning: categorical_column in param dict is overridden.\n",
      "  _log_warning(f'{cat_alias} in param dict is overridden.')\n"
     ]
    },
    {
     "name": "stdout",
     "output_type": "stream",
     "text": [
      "[LightGBM] [Info] Start training from score 4.243921\n",
      "Training until validation scores don't improve for 50 rounds\n",
      "[25]\ttraining's rmse: 1.41882\tvalid_1's rmse: 1.48883\n",
      "[50]\ttraining's rmse: 1.23273\tvalid_1's rmse: 1.32635\n",
      "[75]\ttraining's rmse: 1.14211\tvalid_1's rmse: 1.26134\n",
      "[100]\ttraining's rmse: 1.08885\tvalid_1's rmse: 1.22646\n",
      "[125]\ttraining's rmse: 1.05648\tvalid_1's rmse: 1.20705\n",
      "[150]\ttraining's rmse: 1.03217\tvalid_1's rmse: 1.1959\n",
      "[175]\ttraining's rmse: 1.01204\tvalid_1's rmse: 1.18632\n",
      "[200]\ttraining's rmse: 0.997322\tvalid_1's rmse: 1.18063\n",
      "[225]\ttraining's rmse: 0.984419\tvalid_1's rmse: 1.17613\n",
      "[250]\ttraining's rmse: 0.975882\tvalid_1's rmse: 1.17329\n",
      "[275]\ttraining's rmse: 0.966315\tvalid_1's rmse: 1.16951\n",
      "[300]\ttraining's rmse: 0.957584\tvalid_1's rmse: 1.16747\n",
      "[325]\ttraining's rmse: 0.949583\tvalid_1's rmse: 1.1651\n",
      "[350]\ttraining's rmse: 0.941332\tvalid_1's rmse: 1.16247\n",
      "[375]\ttraining's rmse: 0.933542\tvalid_1's rmse: 1.16113\n",
      "[400]\ttraining's rmse: 0.926325\tvalid_1's rmse: 1.15931\n",
      "[425]\ttraining's rmse: 0.920782\tvalid_1's rmse: 1.15836\n",
      "[450]\ttraining's rmse: 0.913966\tvalid_1's rmse: 1.15645\n",
      "[475]\ttraining's rmse: 0.906608\tvalid_1's rmse: 1.15554\n",
      "[500]\ttraining's rmse: 0.901493\tvalid_1's rmse: 1.15426\n",
      "[525]\ttraining's rmse: 0.896838\tvalid_1's rmse: 1.15324\n",
      "[550]\ttraining's rmse: 0.891949\tvalid_1's rmse: 1.15231\n",
      "[575]\ttraining's rmse: 0.88694\tvalid_1's rmse: 1.15124\n",
      "[600]\ttraining's rmse: 0.881682\tvalid_1's rmse: 1.15032\n",
      "[625]\ttraining's rmse: 0.876893\tvalid_1's rmse: 1.15019\n",
      "[650]\ttraining's rmse: 0.873099\tvalid_1's rmse: 1.14983\n",
      "[675]\ttraining's rmse: 0.868151\tvalid_1's rmse: 1.14884\n",
      "[700]\ttraining's rmse: 0.864105\tvalid_1's rmse: 1.14821\n",
      "[725]\ttraining's rmse: 0.860166\tvalid_1's rmse: 1.14792\n",
      "[750]\ttraining's rmse: 0.8571\tvalid_1's rmse: 1.14753\n",
      "[775]\ttraining's rmse: 0.854231\tvalid_1's rmse: 1.14746\n",
      "[800]\ttraining's rmse: 0.851352\tvalid_1's rmse: 1.14719\n",
      "[825]\ttraining's rmse: 0.84888\tvalid_1's rmse: 1.14693\n",
      "[850]\ttraining's rmse: 0.845561\tvalid_1's rmse: 1.14664\n",
      "[875]\ttraining's rmse: 0.842675\tvalid_1's rmse: 1.14638\n",
      "[900]\ttraining's rmse: 0.840338\tvalid_1's rmse: 1.14644\n",
      "[925]\ttraining's rmse: 0.837936\tvalid_1's rmse: 1.14648\n",
      "[950]\ttraining's rmse: 0.835775\tvalid_1's rmse: 1.14651\n",
      "Early stopping, best iteration is:\n",
      "[913]\ttraining's rmse: 0.839247\tvalid_1's rmse: 1.14631\n"
     ]
    },
    {
     "name": "stderr",
     "output_type": "stream",
     "text": [
      "/opt/homebrew/Caskroom/miniforge/base/envs/python_3.10/lib/python3.10/site-packages/lightgbm/basic.py:2068: UserWarning: categorical_feature in Dataset is overridden.\n",
      "New categorical_feature is ['meter', 'primary_use', 'site_id', 'weekend', 'year_built']\n",
      "  _log_warning('categorical_feature in Dataset is overridden.\\n'\n"
     ]
    },
    {
     "name": "stdout",
     "output_type": "stream",
     "text": [
      "[LightGBM] [Info] Total Bins 1442\n",
      "[LightGBM] [Info] Number of data points in the train set: 13234948, number of used features: 12\n"
     ]
    },
    {
     "name": "stderr",
     "output_type": "stream",
     "text": [
      "/opt/homebrew/Caskroom/miniforge/base/envs/python_3.10/lib/python3.10/site-packages/lightgbm/basic.py:1780: UserWarning: Overriding the parameters from Reference Dataset.\n",
      "  _log_warning('Overriding the parameters from Reference Dataset.')\n",
      "/opt/homebrew/Caskroom/miniforge/base/envs/python_3.10/lib/python3.10/site-packages/lightgbm/basic.py:1513: UserWarning: categorical_column in param dict is overridden.\n",
      "  _log_warning(f'{cat_alias} in param dict is overridden.')\n"
     ]
    },
    {
     "name": "stdout",
     "output_type": "stream",
     "text": [
      "[LightGBM] [Info] Start training from score 4.181096\n",
      "[25]\ttraining's rmse: 1.40159\tvalid_1's rmse: 1.50435\n",
      "[50]\ttraining's rmse: 1.21478\tvalid_1's rmse: 1.34863\n",
      "[75]\ttraining's rmse: 1.13264\tvalid_1's rmse: 1.28075\n",
      "[100]\ttraining's rmse: 1.08907\tvalid_1's rmse: 1.24312\n",
      "[125]\ttraining's rmse: 1.05629\tvalid_1's rmse: 1.21369\n",
      "[150]\ttraining's rmse: 1.03463\tvalid_1's rmse: 1.19624\n",
      "[175]\ttraining's rmse: 1.01839\tvalid_1's rmse: 1.18099\n",
      "[200]\ttraining's rmse: 1.00348\tvalid_1's rmse: 1.17051\n",
      "[225]\ttraining's rmse: 0.989803\tvalid_1's rmse: 1.15969\n",
      "[250]\ttraining's rmse: 0.981141\tvalid_1's rmse: 1.15395\n",
      "[275]\ttraining's rmse: 0.973553\tvalid_1's rmse: 1.14803\n",
      "[300]\ttraining's rmse: 0.964013\tvalid_1's rmse: 1.14262\n",
      "[325]\ttraining's rmse: 0.955545\tvalid_1's rmse: 1.13692\n",
      "[350]\ttraining's rmse: 0.948363\tvalid_1's rmse: 1.13165\n",
      "[375]\ttraining's rmse: 0.940879\tvalid_1's rmse: 1.12682\n",
      "[400]\ttraining's rmse: 0.933432\tvalid_1's rmse: 1.12225\n",
      "[425]\ttraining's rmse: 0.928058\tvalid_1's rmse: 1.11768\n",
      "[450]\ttraining's rmse: 0.921896\tvalid_1's rmse: 1.11442\n",
      "[475]\ttraining's rmse: 0.916783\tvalid_1's rmse: 1.11259\n",
      "[500]\ttraining's rmse: 0.911177\tvalid_1's rmse: 1.10959\n",
      "[525]\ttraining's rmse: 0.906164\tvalid_1's rmse: 1.10671\n",
      "[550]\ttraining's rmse: 0.901959\tvalid_1's rmse: 1.10442\n",
      "[575]\ttraining's rmse: 0.897179\tvalid_1's rmse: 1.10198\n",
      "[600]\ttraining's rmse: 0.893638\tvalid_1's rmse: 1.10016\n",
      "[625]\ttraining's rmse: 0.89009\tvalid_1's rmse: 1.09825\n",
      "[650]\ttraining's rmse: 0.886423\tvalid_1's rmse: 1.09662\n",
      "[675]\ttraining's rmse: 0.882829\tvalid_1's rmse: 1.09445\n",
      "[700]\ttraining's rmse: 0.880187\tvalid_1's rmse: 1.09401\n",
      "[725]\ttraining's rmse: 0.877428\tvalid_1's rmse: 1.09274\n",
      "[750]\ttraining's rmse: 0.874961\tvalid_1's rmse: 1.09196\n",
      "[775]\ttraining's rmse: 0.872292\tvalid_1's rmse: 1.09109\n",
      "[800]\ttraining's rmse: 0.86917\tvalid_1's rmse: 1.09022\n",
      "[825]\ttraining's rmse: 0.866936\tvalid_1's rmse: 1.08946\n",
      "[850]\ttraining's rmse: 0.865055\tvalid_1's rmse: 1.08903\n",
      "[875]\ttraining's rmse: 0.863004\tvalid_1's rmse: 1.08856\n",
      "[900]\ttraining's rmse: 0.860605\tvalid_1's rmse: 1.0877\n",
      "[925]\ttraining's rmse: 0.857336\tvalid_1's rmse: 1.08669\n",
      "[950]\ttraining's rmse: 0.854611\tvalid_1's rmse: 1.08602\n",
      "[975]\ttraining's rmse: 0.852531\tvalid_1's rmse: 1.08548\n",
      "[1000]\ttraining's rmse: 0.849839\tvalid_1's rmse: 1.08509\n",
      "[1025]\ttraining's rmse: 0.84809\tvalid_1's rmse: 1.08443\n",
      "[1050]\ttraining's rmse: 0.846606\tvalid_1's rmse: 1.08379\n",
      "[1075]\ttraining's rmse: 0.844787\tvalid_1's rmse: 1.08345\n",
      "[1100]\ttraining's rmse: 0.842644\tvalid_1's rmse: 1.08298\n",
      "[1125]\ttraining's rmse: 0.840847\tvalid_1's rmse: 1.08272\n",
      "[1150]\ttraining's rmse: 0.839086\tvalid_1's rmse: 1.0823\n",
      "[1175]\ttraining's rmse: 0.837043\tvalid_1's rmse: 1.08158\n",
      "[1200]\ttraining's rmse: 0.835611\tvalid_1's rmse: 1.08137\n",
      "[1225]\ttraining's rmse: 0.834052\tvalid_1's rmse: 1.08099\n",
      "[1250]\ttraining's rmse: 0.83271\tvalid_1's rmse: 1.08048\n",
      "[1275]\ttraining's rmse: 0.831311\tvalid_1's rmse: 1.07985\n",
      "[1300]\ttraining's rmse: 0.829482\tvalid_1's rmse: 1.07962\n",
      "[1325]\ttraining's rmse: 0.827918\tvalid_1's rmse: 1.07926\n",
      "[1350]\ttraining's rmse: 0.826694\tvalid_1's rmse: 1.07864\n",
      "[1375]\ttraining's rmse: 0.825611\tvalid_1's rmse: 1.07827\n",
      "[1400]\ttraining's rmse: 0.824199\tvalid_1's rmse: 1.07777\n",
      "[1425]\ttraining's rmse: 0.822591\tvalid_1's rmse: 1.07722\n",
      "[1450]\ttraining's rmse: 0.821045\tvalid_1's rmse: 1.07695\n",
      "[1475]\ttraining's rmse: 0.81963\tvalid_1's rmse: 1.07652\n",
      "[1500]\ttraining's rmse: 0.818267\tvalid_1's rmse: 1.07641\n",
      "[1525]\ttraining's rmse: 0.817009\tvalid_1's rmse: 1.07643\n",
      "[1550]\ttraining's rmse: 0.81572\tvalid_1's rmse: 1.07631\n",
      "[1575]\ttraining's rmse: 0.814007\tvalid_1's rmse: 1.07609\n",
      "[1600]\ttraining's rmse: 0.812423\tvalid_1's rmse: 1.0759\n",
      "[1625]\ttraining's rmse: 0.810882\tvalid_1's rmse: 1.0758\n",
      "[1650]\ttraining's rmse: 0.80984\tvalid_1's rmse: 1.0757\n",
      "[1675]\ttraining's rmse: 0.808621\tvalid_1's rmse: 1.07561\n",
      "[1700]\ttraining's rmse: 0.807616\tvalid_1's rmse: 1.07558\n",
      "[1725]\ttraining's rmse: 0.806385\tvalid_1's rmse: 1.07515\n",
      "[1750]\ttraining's rmse: 0.805516\tvalid_1's rmse: 1.07497\n",
      "[1775]\ttraining's rmse: 0.804391\tvalid_1's rmse: 1.0747\n",
      "[1800]\ttraining's rmse: 0.803362\tvalid_1's rmse: 1.07457\n",
      "[1825]\ttraining's rmse: 0.802246\tvalid_1's rmse: 1.07456\n",
      "[1850]\ttraining's rmse: 0.800953\tvalid_1's rmse: 1.07436\n",
      "[1875]\ttraining's rmse: 0.799853\tvalid_1's rmse: 1.07418\n",
      "[1900]\ttraining's rmse: 0.798726\tvalid_1's rmse: 1.07406\n",
      "[1925]\ttraining's rmse: 0.797662\tvalid_1's rmse: 1.07374\n",
      "[1950]\ttraining's rmse: 0.796663\tvalid_1's rmse: 1.07368\n",
      "[1975]\ttraining's rmse: 0.795426\tvalid_1's rmse: 1.07361\n",
      "[2000]\ttraining's rmse: 0.794439\tvalid_1's rmse: 1.07352\n",
      "Did not meet early stopping. Best iteration is:\n",
      "[2000]\ttraining's rmse: 0.794439\tvalid_1's rmse: 1.07352\n"
     ]
    },
    {
     "name": "stderr",
     "output_type": "stream",
     "text": [
      "/opt/homebrew/Caskroom/miniforge/base/envs/python_3.10/lib/python3.10/site-packages/lightgbm/basic.py:2068: UserWarning: categorical_feature in Dataset is overridden.\n",
      "New categorical_feature is ['meter', 'primary_use', 'site_id', 'weekend', 'year_built']\n",
      "  _log_warning('categorical_feature in Dataset is overridden.\\n'\n"
     ]
    },
    {
     "name": "stdout",
     "output_type": "stream",
     "text": [
      "[LightGBM] [Info] Total Bins 1438\n",
      "[LightGBM] [Info] Number of data points in the train set: 13234948, number of used features: 12\n"
     ]
    },
    {
     "name": "stderr",
     "output_type": "stream",
     "text": [
      "/opt/homebrew/Caskroom/miniforge/base/envs/python_3.10/lib/python3.10/site-packages/lightgbm/basic.py:1780: UserWarning: Overriding the parameters from Reference Dataset.\n",
      "  _log_warning('Overriding the parameters from Reference Dataset.')\n",
      "/opt/homebrew/Caskroom/miniforge/base/envs/python_3.10/lib/python3.10/site-packages/lightgbm/basic.py:1513: UserWarning: categorical_column in param dict is overridden.\n",
      "  _log_warning(f'{cat_alias} in param dict is overridden.')\n"
     ]
    },
    {
     "name": "stdout",
     "output_type": "stream",
     "text": [
      "[LightGBM] [Info] Start training from score 4.215688\n",
      "[25]\ttraining's rmse: 1.40286\tvalid_1's rmse: 1.45947\n",
      "[50]\ttraining's rmse: 1.21046\tvalid_1's rmse: 1.31\n",
      "[75]\ttraining's rmse: 1.11894\tvalid_1's rmse: 1.2528\n",
      "[100]\ttraining's rmse: 1.06027\tvalid_1's rmse: 1.22631\n",
      "[125]\ttraining's rmse: 1.02356\tvalid_1's rmse: 1.20954\n",
      "[150]\ttraining's rmse: 0.997326\tvalid_1's rmse: 1.20163\n",
      "[175]\ttraining's rmse: 0.975846\tvalid_1's rmse: 1.19476\n",
      "[200]\ttraining's rmse: 0.959154\tvalid_1's rmse: 1.18925\n",
      "[225]\ttraining's rmse: 0.943973\tvalid_1's rmse: 1.18431\n",
      "[250]\ttraining's rmse: 0.931825\tvalid_1's rmse: 1.18076\n",
      "[275]\ttraining's rmse: 0.920811\tvalid_1's rmse: 1.17736\n",
      "[300]\ttraining's rmse: 0.913267\tvalid_1's rmse: 1.17635\n",
      "[325]\ttraining's rmse: 0.90684\tvalid_1's rmse: 1.17478\n",
      "[350]\ttraining's rmse: 0.897643\tvalid_1's rmse: 1.17291\n",
      "[375]\ttraining's rmse: 0.890726\tvalid_1's rmse: 1.17214\n",
      "[400]\ttraining's rmse: 0.883474\tvalid_1's rmse: 1.1703\n",
      "[425]\ttraining's rmse: 0.875866\tvalid_1's rmse: 1.16927\n",
      "[450]\ttraining's rmse: 0.870287\tvalid_1's rmse: 1.1685\n",
      "[475]\ttraining's rmse: 0.863621\tvalid_1's rmse: 1.16712\n",
      "[500]\ttraining's rmse: 0.857056\tvalid_1's rmse: 1.16602\n",
      "[525]\ttraining's rmse: 0.851018\tvalid_1's rmse: 1.1656\n",
      "[550]\ttraining's rmse: 0.845577\tvalid_1's rmse: 1.16479\n",
      "[575]\ttraining's rmse: 0.838716\tvalid_1's rmse: 1.16353\n",
      "[600]\ttraining's rmse: 0.83406\tvalid_1's rmse: 1.16273\n",
      "[625]\ttraining's rmse: 0.829664\tvalid_1's rmse: 1.16222\n",
      "[650]\ttraining's rmse: 0.824716\tvalid_1's rmse: 1.16211\n",
      "[675]\ttraining's rmse: 0.820073\tvalid_1's rmse: 1.16177\n",
      "[700]\ttraining's rmse: 0.816735\tvalid_1's rmse: 1.16167\n",
      "[725]\ttraining's rmse: 0.81347\tvalid_1's rmse: 1.16152\n",
      "[750]\ttraining's rmse: 0.809931\tvalid_1's rmse: 1.16134\n",
      "[775]\ttraining's rmse: 0.807076\tvalid_1's rmse: 1.16136\n",
      "[800]\ttraining's rmse: 0.804587\tvalid_1's rmse: 1.16127\n",
      "[825]\ttraining's rmse: 0.801373\tvalid_1's rmse: 1.16083\n",
      "[850]\ttraining's rmse: 0.798163\tvalid_1's rmse: 1.16107\n",
      "[875]\ttraining's rmse: 0.794796\tvalid_1's rmse: 1.16057\n",
      "[900]\ttraining's rmse: 0.792317\tvalid_1's rmse: 1.16044\n",
      "[925]\ttraining's rmse: 0.78959\tvalid_1's rmse: 1.16033\n",
      "[950]\ttraining's rmse: 0.78732\tvalid_1's rmse: 1.16032\n",
      "[975]\ttraining's rmse: 0.785267\tvalid_1's rmse: 1.16031\n",
      "[1000]\ttraining's rmse: 0.783183\tvalid_1's rmse: 1.16022\n",
      "[1025]\ttraining's rmse: 0.781508\tvalid_1's rmse: 1.1604\n",
      "[1050]\ttraining's rmse: 0.77953\tvalid_1's rmse: 1.16056\n",
      "[1075]\ttraining's rmse: 0.777583\tvalid_1's rmse: 1.1607\n",
      "[1100]\ttraining's rmse: 0.776001\tvalid_1's rmse: 1.16099\n",
      "[1125]\ttraining's rmse: 0.774143\tvalid_1's rmse: 1.16107\n",
      "[1150]\ttraining's rmse: 0.771741\tvalid_1's rmse: 1.16083\n",
      "[1175]\ttraining's rmse: 0.770333\tvalid_1's rmse: 1.16119\n",
      "[1200]\ttraining's rmse: 0.768901\tvalid_1's rmse: 1.1611\n",
      "[1225]\ttraining's rmse: 0.766954\tvalid_1's rmse: 1.1612\n",
      "[1250]\ttraining's rmse: 0.7654\tvalid_1's rmse: 1.16129\n",
      "[1275]\ttraining's rmse: 0.763829\tvalid_1's rmse: 1.16146\n",
      "[1300]\ttraining's rmse: 0.762527\tvalid_1's rmse: 1.16147\n",
      "[1325]\ttraining's rmse: 0.761064\tvalid_1's rmse: 1.16133\n",
      "[1350]\ttraining's rmse: 0.759772\tvalid_1's rmse: 1.16139\n",
      "[1375]\ttraining's rmse: 0.75826\tvalid_1's rmse: 1.16132\n",
      "[1400]\ttraining's rmse: 0.75677\tvalid_1's rmse: 1.1615\n",
      "[1425]\ttraining's rmse: 0.755344\tvalid_1's rmse: 1.1616\n",
      "[1450]\ttraining's rmse: 0.75398\tvalid_1's rmse: 1.16175\n",
      "[1475]\ttraining's rmse: 0.752624\tvalid_1's rmse: 1.16186\n",
      "[1500]\ttraining's rmse: 0.751336\tvalid_1's rmse: 1.16184\n",
      "[1525]\ttraining's rmse: 0.749884\tvalid_1's rmse: 1.1617\n",
      "[1550]\ttraining's rmse: 0.748602\tvalid_1's rmse: 1.16157\n",
      "[1575]\ttraining's rmse: 0.74752\tvalid_1's rmse: 1.16151\n",
      "[1600]\ttraining's rmse: 0.746196\tvalid_1's rmse: 1.16158\n",
      "[1625]\ttraining's rmse: 0.74506\tvalid_1's rmse: 1.16178\n",
      "[1650]\ttraining's rmse: 0.743821\tvalid_1's rmse: 1.16182\n",
      "[1675]\ttraining's rmse: 0.742679\tvalid_1's rmse: 1.16185\n",
      "[1700]\ttraining's rmse: 0.74164\tvalid_1's rmse: 1.16186\n",
      "[1725]\ttraining's rmse: 0.740697\tvalid_1's rmse: 1.16194\n",
      "[1750]\ttraining's rmse: 0.739724\tvalid_1's rmse: 1.16199\n",
      "[1775]\ttraining's rmse: 0.738776\tvalid_1's rmse: 1.16196\n",
      "[1800]\ttraining's rmse: 0.737948\tvalid_1's rmse: 1.16199\n",
      "[1825]\ttraining's rmse: 0.736991\tvalid_1's rmse: 1.16191\n",
      "[1850]\ttraining's rmse: 0.73621\tvalid_1's rmse: 1.16194\n",
      "[1875]\ttraining's rmse: 0.735407\tvalid_1's rmse: 1.16203\n",
      "[1900]\ttraining's rmse: 0.734564\tvalid_1's rmse: 1.16213\n",
      "[1925]\ttraining's rmse: 0.733775\tvalid_1's rmse: 1.16219\n",
      "[1950]\ttraining's rmse: 0.732904\tvalid_1's rmse: 1.16224\n",
      "[1975]\ttraining's rmse: 0.732059\tvalid_1's rmse: 1.16222\n",
      "[2000]\ttraining's rmse: 0.731388\tvalid_1's rmse: 1.16224\n",
      "Did not meet early stopping. Best iteration is:\n",
      "[2000]\ttraining's rmse: 0.731388\tvalid_1's rmse: 1.16224\n"
     ]
    }
   ],
   "source": [
    "# カテゴリ変数リスト\n",
    "categorical_features = [\"site_id\", \"meter\", \"primary_use\", \"weekend\", \"year_built\"]\n",
    "\n",
    "# パラメーター設定\n",
    "params = {\n",
    "    \"objective\": \"regression\", # 目的関数：回帰\n",
    "    \"boosting\": \"gbdt\", # 勾配ブースティング\n",
    "    \"seed\": 314, #シード値\n",
    "    \"num_leaves\": 200, # 決定木の端末ノードの数\n",
    "    \"learning_rate\": 0.05, # 学習率\n",
    "    \"feature_fraction\": 0.85, # 特徴量の削減率 ※1未満の場合、特徴量を削減して学習される\n",
    "    \"reg_lambda\": 2, # L2正則化項の係数 ※過学習を防ぐために用いる関数のパラメータ\n",
    "    \"metric\": \"rmse\",# モデルの性能を測る指標 ※二乗平均平方根誤差\n",
    "    \"force_row_wise\": True # 行ベースのヒストグラムを生成する\n",
    "}\n",
    "\n",
    "earlyStoppingcallback = early_stopping(50)\n",
    "logEvaluationCallback = log_evaluation(25)\n",
    "\n",
    "# 学習実行\n",
    "kf = KFold(n_splits=3)\n",
    "models = []\n",
    "for train_index, test_index in kf.split(features):\n",
    "    train_features = features.loc[train_index]\n",
    "    train_target = target.loc[train_index]\n",
    "    \n",
    "    test_features = features.loc[test_index]\n",
    "    test_target = target.loc[test_index]\n",
    "\n",
    "    # データセット作成    \n",
    "    d_training = lgb.Dataset(train_features, label=train_target, free_raw_data=False)\n",
    "    d_test = lgb.Dataset(test_features, label=test_target, free_raw_data=False)\n",
    "    \n",
    "    # 学習実行\n",
    "    model = lgb.train(\n",
    "        params,\n",
    "        train_set=d_training,\n",
    "        num_boost_round=2000,\n",
    "        valid_sets=[d_training, d_test],\n",
    "        categorical_feature=categorical_features,\n",
    "        callbacks=[\n",
    "            earlyStoppingcallback,\n",
    "            logEvaluationCallback\n",
    "        ]\n",
    "    )\n",
    "    \n",
    "    models.append(model)\n",
    "    \n",
    "    del train_features, train_target, test_features, test_target, d_training, d_test\n",
    "    gc.collect()"
   ]
  },
  {
   "cell_type": "code",
   "execution_count": 136,
   "metadata": {},
   "outputs": [
    {
     "data": {
      "text/plain": [
       "15"
      ]
     },
     "execution_count": 136,
     "metadata": {},
     "output_type": "execute_result"
    }
   ],
   "source": [
    "# メモリ解放\n",
    "del features, target\n",
    "gc.collect()"
   ]
  },
  {
   "cell_type": "code",
   "execution_count": 137,
   "metadata": {},
   "outputs": [
    {
     "data": {
      "image/png": "[encoded data removed]",
      "text/plain": [
       "<Figure size 432x288 with 1 Axes>"
      ]
     },
     "metadata": {
      "needs_background": "light"
     },
     "output_type": "display_data"
    },
    {
     "data": {
      "image/png": "[encoded data removed]",
      "text/plain": [
       "<Figure size 432x288 with 1 Axes>"
      ]
     },
     "metadata": {
      "needs_background": "light"
     },
     "output_type": "display_data"
    },
    {
     "data": {
      "image/png": "[encoded data removed]",
      "text/plain": [
       "<Figure size 432x288 with 1 Axes>"
      ]
     },
     "metadata": {
      "needs_background": "light"
     },
     "output_type": "display_data"
    }
   ],
   "source": [
    "# 学習結果をプロット\n",
    "for model in models:\n",
    "    lgb.plot_importance(model)\n",
    "    plt.show()\n",
    "    # lgb.create_tree_digraph(model)"
   ]
  },
  {
   "cell_type": "code",
   "execution_count": 139,
   "metadata": {},
   "outputs": [
    {
     "name": "stdout",
     "output_type": "stream",
     "text": [
      "Memory usage of dataframe is 954.38 MB\n",
      "Memory usage after optimization is: 199.47 MB\n",
      "Decreased by 79.1%\n"
     ]
    }
   ],
   "source": [
    "# テストデータ読み込み\n",
    "test_df = pd.read_csv(os.path.join(DATA_PATH, 'test.csv'))\n",
    "row_ids = test_df[\"row_id\"]\n",
    "test_df.drop(\"row_id\", axis=1, inplace=True)\n",
    "test_df = reduce_mem_usage(test_df)"
   ]
  },
  {
   "cell_type": "code",
   "execution_count": null,
   "metadata": {},
   "outputs": [],
   "source": [
    "# コーディング用にロード、加工したデータを保存する\n",
    "# TODO:テストコードのため、要削除\n",
    "# test_df.to_pickle(os.path.join(DATA_PATH, \"test_df.pkl\"))"
   ]
  },
  {
   "cell_type": "code",
   "execution_count": 138,
   "metadata": {},
   "outputs": [],
   "source": [
    "# コーディング用に保存したデータをロードする\n",
    "# TODO:テストコードのため、要削除\n",
    "test_df = pd.read_pickle(os.path.join(DATA_PATH, \"test_df.pkl\"))"
   ]
  },
  {
   "cell_type": "code",
   "execution_count": 140,
   "metadata": {},
   "outputs": [
    {
     "data": {
      "text/plain": [
       "14133"
      ]
     },
     "execution_count": 140,
     "metadata": {},
     "output_type": "execute_result"
    }
   ],
   "source": [
    "# ビルデータを結合\n",
    "test_df = test_df.merge(building_df,left_on='building_id',right_on='building_id',how='left')\n",
    "del building_df\n",
    "gc.collect()"
   ]
  },
  {
   "cell_type": "code",
   "execution_count": 141,
   "metadata": {},
   "outputs": [
    {
     "name": "stderr",
     "output_type": "stream",
     "text": [
      "/var/folders/km/rlhv761j4rqcrksj6ch5bw_r0000gn/T/ipykernel_1585/703020239.py:36: FutureWarning: Series.dt.weekofyear and Series.dt.week have been deprecated. Please use Series.dt.isocalendar().week instead.\n",
      "  weather_df[\"week\"] = weather_df[\"datetime\"].dt.week\n"
     ]
    },
    {
     "name": "stdout",
     "output_type": "stream",
     "text": [
      "Memory usage of dataframe is 19.25 MB\n",
      "Memory usage after optimization is: 8.93 MB\n",
      "Decreased by 53.6%\n"
     ]
    }
   ],
   "source": [
    "# テスト気象データ読み込み、データを結合\n",
    "weather_df = pd.read_csv(os.path.join(DATA_PATH, 'weather_test.csv'))\n",
    "weather_df = fill_weather_dataset(weather_df)\n",
    "weather_df = reduce_mem_usage(weather_df)"
   ]
  },
  {
   "cell_type": "code",
   "execution_count": null,
   "metadata": {},
   "outputs": [],
   "source": [
    "# コーディング用にロード、加工したデータを保存する\n",
    "# TODO:テストコードのため、要削除\n",
    "# weather_df.to_pickle(os.path.join(DATA_PATH, \"weather_test_df.pkl\"))"
   ]
  },
  {
   "cell_type": "code",
   "execution_count": null,
   "metadata": {},
   "outputs": [],
   "source": [
    "# コーディング用に保存したデータをロードする\n",
    "# TODO:テストコードのため、要削除\n",
    "weather_df = pd.read_pickle(os.path.join(DATA_PATH, \"weather_test_df.pkl\"))"
   ]
  },
  {
   "cell_type": "code",
   "execution_count": 142,
   "metadata": {},
   "outputs": [
    {
     "data": {
      "text/plain": [
       "45"
      ]
     },
     "execution_count": 142,
     "metadata": {},
     "output_type": "execute_result"
    }
   ],
   "source": [
    "# 気象データをテストデータへ結合\n",
    "test_df = test_df.merge(weather_df,how='left',on=['timestamp','site_id'])\n",
    "del weather_df\n",
    "gc.collect()"
   ]
  },
  {
   "cell_type": "code",
   "execution_count": 143,
   "metadata": {},
   "outputs": [],
   "source": [
    "# 特徴量を作成する\n",
    "test_df = features_engineering(test_df)"
   ]
  },
  {
   "cell_type": "code",
   "execution_count": 144,
   "metadata": {},
   "outputs": [
    {
     "name": "stderr",
     "output_type": "stream",
     "text": [
      "/var/folders/km/rlhv761j4rqcrksj6ch5bw_r0000gn/T/ipykernel_1585/899494119.py:4: DeprecationWarning: elementwise comparison failed; this will raise an error in the future.\n",
      "  if  results == []:\n"
     ]
    }
   ],
   "source": [
    "# 推定する\n",
    "results = []\n",
    "for model in models:\n",
    "    if  results == []:\n",
    "        results = np.expm1(model.predict(test_df, num_iteration=model.best_iteration)) / len(models)\n",
    "    else:\n",
    "        results += np.expm1(model.predict(test_df, num_iteration=model.best_iteration)) / len(models)\n",
    "    # del model\n",
    "    gc.collect()"
   ]
  },
  {
   "cell_type": "code",
   "execution_count": 145,
   "metadata": {},
   "outputs": [
    {
     "data": {
      "text/plain": [
       "15"
      ]
     },
     "execution_count": 145,
     "metadata": {},
     "output_type": "execute_result"
    }
   ],
   "source": [
    "# データ、モデル削除\n",
    "del test_df, models\n",
    "gc.collect()"
   ]
  },
  {
   "cell_type": "code",
   "execution_count": 146,
   "metadata": {},
   "outputs": [],
   "source": [
    "# 提出データ作成\n",
    "results_df = pd.DataFrame({\"row_id\": row_ids, \"meter_reading\": np.clip(results, 0, a_max=None)})\n",
    "del row_ids,results\n",
    "gc.collect()\n",
    "results_df.to_csv(\"submission.csv\", index=False)"
   ]
  },
  {
   "cell_type": "code",
   "execution_count": 147,
   "metadata": {},
   "outputs": [
    {
     "data": {
      "text/html": [
       "<div>\n",
       "<style scoped>\n",
       "    .dataframe tbody tr th:only-of-type {\n",
       "        vertical-align: middle;\n",
       "    }\n",
       "\n",
       "    .dataframe tbody tr th {\n",
       "        vertical-align: top;\n",
       "    }\n",
       "\n",
       "    .dataframe thead th {\n",
       "        text-align: right;\n",
       "    }\n",
       "</style>\n",
       "<table border=\"1\" class=\"dataframe\">\n",
       "  <thead>\n",
       "    <tr style=\"text-align: right;\">\n",
       "      <th></th>\n",
       "      <th>row_id</th>\n",
       "      <th>meter_reading</th>\n",
       "    </tr>\n",
       "  </thead>\n",
       "  <tbody>\n",
       "    <tr>\n",
       "      <th>0</th>\n",
       "      <td>0</td>\n",
       "      <td>118.568569</td>\n",
       "    </tr>\n",
       "    <tr>\n",
       "      <th>1</th>\n",
       "      <td>1</td>\n",
       "      <td>57.180427</td>\n",
       "    </tr>\n",
       "    <tr>\n",
       "      <th>2</th>\n",
       "      <td>2</td>\n",
       "      <td>9.012774</td>\n",
       "    </tr>\n",
       "    <tr>\n",
       "      <th>3</th>\n",
       "      <td>3</td>\n",
       "      <td>222.386238</td>\n",
       "    </tr>\n",
       "    <tr>\n",
       "      <th>4</th>\n",
       "      <td>4</td>\n",
       "      <td>1073.211945</td>\n",
       "    </tr>\n",
       "    <tr>\n",
       "      <th>5</th>\n",
       "      <td>5</td>\n",
       "      <td>62.220440</td>\n",
       "    </tr>\n",
       "    <tr>\n",
       "      <th>6</th>\n",
       "      <td>6</td>\n",
       "      <td>101.353261</td>\n",
       "    </tr>\n",
       "    <tr>\n",
       "      <th>7</th>\n",
       "      <td>7</td>\n",
       "      <td>554.953485</td>\n",
       "    </tr>\n",
       "    <tr>\n",
       "      <th>8</th>\n",
       "      <td>8</td>\n",
       "      <td>303.902680</td>\n",
       "    </tr>\n",
       "    <tr>\n",
       "      <th>9</th>\n",
       "      <td>9</td>\n",
       "      <td>318.082049</td>\n",
       "    </tr>\n",
       "    <tr>\n",
       "      <th>10</th>\n",
       "      <td>10</td>\n",
       "      <td>72.114950</td>\n",
       "    </tr>\n",
       "    <tr>\n",
       "      <th>11</th>\n",
       "      <td>11</td>\n",
       "      <td>13.004601</td>\n",
       "    </tr>\n",
       "    <tr>\n",
       "      <th>12</th>\n",
       "      <td>12</td>\n",
       "      <td>1193.716454</td>\n",
       "    </tr>\n",
       "    <tr>\n",
       "      <th>13</th>\n",
       "      <td>13</td>\n",
       "      <td>300.698409</td>\n",
       "    </tr>\n",
       "    <tr>\n",
       "      <th>14</th>\n",
       "      <td>14</td>\n",
       "      <td>195.103680</td>\n",
       "    </tr>\n",
       "    <tr>\n",
       "      <th>15</th>\n",
       "      <td>15</td>\n",
       "      <td>248.711175</td>\n",
       "    </tr>\n",
       "    <tr>\n",
       "      <th>16</th>\n",
       "      <td>16</td>\n",
       "      <td>55.570196</td>\n",
       "    </tr>\n",
       "    <tr>\n",
       "      <th>17</th>\n",
       "      <td>17</td>\n",
       "      <td>352.411821</td>\n",
       "    </tr>\n",
       "    <tr>\n",
       "      <th>18</th>\n",
       "      <td>18</td>\n",
       "      <td>288.535474</td>\n",
       "    </tr>\n",
       "    <tr>\n",
       "      <th>19</th>\n",
       "      <td>19</td>\n",
       "      <td>220.540203</td>\n",
       "    </tr>\n",
       "  </tbody>\n",
       "</table>\n",
       "</div>"
      ],
      "text/plain": [
       "    row_id  meter_reading\n",
       "0        0     118.568569\n",
       "1        1      57.180427\n",
       "2        2       9.012774\n",
       "3        3     222.386238\n",
       "4        4    1073.211945\n",
       "5        5      62.220440\n",
       "6        6     101.353261\n",
       "7        7     554.953485\n",
       "8        8     303.902680\n",
       "9        9     318.082049\n",
       "10      10      72.114950\n",
       "11      11      13.004601\n",
       "12      12    1193.716454\n",
       "13      13     300.698409\n",
       "14      14     195.103680\n",
       "15      15     248.711175\n",
       "16      16      55.570196\n",
       "17      17     352.411821\n",
       "18      18     288.535474\n",
       "19      19     220.540203"
      ]
     },
     "execution_count": 147,
     "metadata": {},
     "output_type": "execute_result"
    }
   ],
   "source": [
    "results_df.head(20)"
   ]
  },
  {
   "cell_type": "code",
   "execution_count": 148,
   "metadata": {},
   "outputs": [
    {
     "name": "stdout",
     "output_type": "stream",
     "text": [
      "100%|██████████████████████████████████████| 1.05G/1.05G [07:55<00:00, 2.38MB/s]\n",
      "Successfully submitted to ASHRAE - Great Energy Predictor III"
     ]
    }
   ],
   "source": [
    "# 推定結果を提出\n",
    "!kaggle competitions submit  -f submission.csv -m \"lightGBMを用いて推定 2回目提出 特徴量追加、パラメーター調整\" ashrae-energy-prediction"
   ]
  },
  {
   "cell_type": "markdown",
   "metadata": {},
   "source": [
    "---\n",
    "\n",
    "以下、テストコード"
   ]
  },
  {
   "cell_type": "code",
   "execution_count": null,
   "metadata": {},
   "outputs": [
    {
     "name": "stderr",
     "output_type": "stream",
     "text": [
      "/var/folders/km/rlhv761j4rqcrksj6ch5bw_r0000gn/T/ipykernel_19513/2116604713.py:3: FutureWarning: In a future version of pandas all arguments of DataFrame.drop except for the argument 'labels' will be keyword-only.\n",
      "  tmp_weather_df.merge(weather_df, indicator=True, how='outer').query('_merge==\"left_only\"').drop('_merge', 1)\n"
     ]
    },
    {
     "data": {
      "text/html": [
       "<div>\n",
       "<style scoped>\n",
       "    .dataframe tbody tr th:only-of-type {\n",
       "        vertical-align: middle;\n",
       "    }\n",
       "\n",
       "    .dataframe tbody tr th {\n",
       "        vertical-align: top;\n",
       "    }\n",
       "\n",
       "    .dataframe thead th {\n",
       "        text-align: right;\n",
       "    }\n",
       "</style>\n",
       "<table border=\"1\" class=\"dataframe\">\n",
       "  <thead>\n",
       "    <tr style=\"text-align: right;\">\n",
       "      <th></th>\n",
       "      <th>site_id</th>\n",
       "      <th>timestamp</th>\n",
       "      <th>air_temperature</th>\n",
       "      <th>cloud_coverage</th>\n",
       "      <th>dew_temperature</th>\n",
       "      <th>precip_depth_1_hr</th>\n",
       "      <th>sea_level_pressure</th>\n",
       "      <th>wind_direction</th>\n",
       "      <th>wind_speed</th>\n",
       "    </tr>\n",
       "  </thead>\n",
       "  <tbody>\n",
       "    <tr>\n",
       "      <th>139773</th>\n",
       "      <td>1</td>\n",
       "      <td>2016-02-15 14:00:00</td>\n",
       "      <td>NaN</td>\n",
       "      <td>NaN</td>\n",
       "      <td>NaN</td>\n",
       "      <td>NaN</td>\n",
       "      <td>NaN</td>\n",
       "      <td>NaN</td>\n",
       "      <td>NaN</td>\n",
       "    </tr>\n",
       "    <tr>\n",
       "      <th>139774</th>\n",
       "      <td>1</td>\n",
       "      <td>2016-02-15 15:00:00</td>\n",
       "      <td>NaN</td>\n",
       "      <td>NaN</td>\n",
       "      <td>NaN</td>\n",
       "      <td>NaN</td>\n",
       "      <td>NaN</td>\n",
       "      <td>NaN</td>\n",
       "      <td>NaN</td>\n",
       "    </tr>\n",
       "    <tr>\n",
       "      <th>139775</th>\n",
       "      <td>1</td>\n",
       "      <td>2016-02-15 16:00:00</td>\n",
       "      <td>NaN</td>\n",
       "      <td>NaN</td>\n",
       "      <td>NaN</td>\n",
       "      <td>NaN</td>\n",
       "      <td>NaN</td>\n",
       "      <td>NaN</td>\n",
       "      <td>NaN</td>\n",
       "    </tr>\n",
       "    <tr>\n",
       "      <th>139776</th>\n",
       "      <td>1</td>\n",
       "      <td>2016-02-15 17:00:00</td>\n",
       "      <td>NaN</td>\n",
       "      <td>NaN</td>\n",
       "      <td>NaN</td>\n",
       "      <td>NaN</td>\n",
       "      <td>NaN</td>\n",
       "      <td>NaN</td>\n",
       "      <td>NaN</td>\n",
       "    </tr>\n",
       "    <tr>\n",
       "      <th>139777</th>\n",
       "      <td>1</td>\n",
       "      <td>2016-02-15 20:00:00</td>\n",
       "      <td>NaN</td>\n",
       "      <td>NaN</td>\n",
       "      <td>NaN</td>\n",
       "      <td>NaN</td>\n",
       "      <td>NaN</td>\n",
       "      <td>NaN</td>\n",
       "      <td>NaN</td>\n",
       "    </tr>\n",
       "    <tr>\n",
       "      <th>...</th>\n",
       "      <td>...</td>\n",
       "      <td>...</td>\n",
       "      <td>...</td>\n",
       "      <td>...</td>\n",
       "      <td>...</td>\n",
       "      <td>...</td>\n",
       "      <td>...</td>\n",
       "      <td>...</td>\n",
       "      <td>...</td>\n",
       "    </tr>\n",
       "    <tr>\n",
       "      <th>140539</th>\n",
       "      <td>15</td>\n",
       "      <td>2016-12-09 10:00:00</td>\n",
       "      <td>NaN</td>\n",
       "      <td>NaN</td>\n",
       "      <td>NaN</td>\n",
       "      <td>NaN</td>\n",
       "      <td>NaN</td>\n",
       "      <td>NaN</td>\n",
       "      <td>NaN</td>\n",
       "    </tr>\n",
       "    <tr>\n",
       "      <th>140540</th>\n",
       "      <td>15</td>\n",
       "      <td>2016-12-17 07:00:00</td>\n",
       "      <td>NaN</td>\n",
       "      <td>NaN</td>\n",
       "      <td>NaN</td>\n",
       "      <td>NaN</td>\n",
       "      <td>NaN</td>\n",
       "      <td>NaN</td>\n",
       "      <td>NaN</td>\n",
       "    </tr>\n",
       "    <tr>\n",
       "      <th>140541</th>\n",
       "      <td>15</td>\n",
       "      <td>2016-12-20 06:00:00</td>\n",
       "      <td>NaN</td>\n",
       "      <td>NaN</td>\n",
       "      <td>NaN</td>\n",
       "      <td>NaN</td>\n",
       "      <td>NaN</td>\n",
       "      <td>NaN</td>\n",
       "      <td>NaN</td>\n",
       "    </tr>\n",
       "    <tr>\n",
       "      <th>140542</th>\n",
       "      <td>15</td>\n",
       "      <td>2016-12-24 05:00:00</td>\n",
       "      <td>NaN</td>\n",
       "      <td>NaN</td>\n",
       "      <td>NaN</td>\n",
       "      <td>NaN</td>\n",
       "      <td>NaN</td>\n",
       "      <td>NaN</td>\n",
       "      <td>NaN</td>\n",
       "    </tr>\n",
       "    <tr>\n",
       "      <th>140543</th>\n",
       "      <td>15</td>\n",
       "      <td>2016-12-28 10:00:00</td>\n",
       "      <td>NaN</td>\n",
       "      <td>NaN</td>\n",
       "      <td>NaN</td>\n",
       "      <td>NaN</td>\n",
       "      <td>NaN</td>\n",
       "      <td>NaN</td>\n",
       "      <td>NaN</td>\n",
       "    </tr>\n",
       "  </tbody>\n",
       "</table>\n",
       "<p>771 rows × 9 columns</p>\n",
       "</div>"
      ],
      "text/plain": [
       "        site_id            timestamp  air_temperature  cloud_coverage  \\\n",
       "139773        1  2016-02-15 14:00:00              NaN             NaN   \n",
       "139774        1  2016-02-15 15:00:00              NaN             NaN   \n",
       "139775        1  2016-02-15 16:00:00              NaN             NaN   \n",
       "139776        1  2016-02-15 17:00:00              NaN             NaN   \n",
       "139777        1  2016-02-15 20:00:00              NaN             NaN   \n",
       "...         ...                  ...              ...             ...   \n",
       "140539       15  2016-12-09 10:00:00              NaN             NaN   \n",
       "140540       15  2016-12-17 07:00:00              NaN             NaN   \n",
       "140541       15  2016-12-20 06:00:00              NaN             NaN   \n",
       "140542       15  2016-12-24 05:00:00              NaN             NaN   \n",
       "140543       15  2016-12-28 10:00:00              NaN             NaN   \n",
       "\n",
       "        dew_temperature  precip_depth_1_hr  sea_level_pressure  \\\n",
       "139773              NaN                NaN                 NaN   \n",
       "139774              NaN                NaN                 NaN   \n",
       "139775              NaN                NaN                 NaN   \n",
       "139776              NaN                NaN                 NaN   \n",
       "139777              NaN                NaN                 NaN   \n",
       "...                 ...                ...                 ...   \n",
       "140539              NaN                NaN                 NaN   \n",
       "140540              NaN                NaN                 NaN   \n",
       "140541              NaN                NaN                 NaN   \n",
       "140542              NaN                NaN                 NaN   \n",
       "140543              NaN                NaN                 NaN   \n",
       "\n",
       "        wind_direction  wind_speed  \n",
       "139773             NaN         NaN  \n",
       "139774             NaN         NaN  \n",
       "139775             NaN         NaN  \n",
       "139776             NaN         NaN  \n",
       "139777             NaN         NaN  \n",
       "...                ...         ...  \n",
       "140539             NaN         NaN  \n",
       "140540             NaN         NaN  \n",
       "140541             NaN         NaN  \n",
       "140542             NaN         NaN  \n",
       "140543             NaN         NaN  \n",
       "\n",
       "[771 rows x 9 columns]"
      ]
     },
     "execution_count": 14,
     "metadata": {},
     "output_type": "execute_result"
    }
   ],
   "source": [
    "# データ差異を確認\n",
    "tmp_weather_df.merge(weather_df, indicator=True, how='outer').query('_merge==\"left_only\"').drop('_merge', 1)"
   ]
  },
  {
   "cell_type": "code",
   "execution_count": null,
   "metadata": {},
   "outputs": [
    {
     "data": {
      "text/plain": [
       "0.0"
      ]
     },
     "execution_count": 24,
     "metadata": {},
     "output_type": "execute_result"
    }
   ],
   "source": [
    "\n",
    "np.log1p(0)"
   ]
  },
  {
   "cell_type": "code",
   "execution_count": null,
   "metadata": {},
   "outputs": [
    {
     "data": {
      "text/html": [
       "<div>\n",
       "<style scoped>\n",
       "    .dataframe tbody tr th:only-of-type {\n",
       "        vertical-align: middle;\n",
       "    }\n",
       "\n",
       "    .dataframe tbody tr th {\n",
       "        vertical-align: top;\n",
       "    }\n",
       "\n",
       "    .dataframe thead th {\n",
       "        text-align: right;\n",
       "    }\n",
       "</style>\n",
       "<table border=\"1\" class=\"dataframe\">\n",
       "  <thead>\n",
       "    <tr style=\"text-align: right;\">\n",
       "      <th></th>\n",
       "      <th>site_id</th>\n",
       "      <th>timestamp</th>\n",
       "      <th>air_temperature</th>\n",
       "      <th>cloud_coverage</th>\n",
       "      <th>dew_temperature</th>\n",
       "      <th>precip_depth_1_hr</th>\n",
       "      <th>sea_level_pressure</th>\n",
       "      <th>wind_direction</th>\n",
       "      <th>wind_speed</th>\n",
       "    </tr>\n",
       "  </thead>\n",
       "  <tbody>\n",
       "  </tbody>\n",
       "</table>\n",
       "</div>"
      ],
      "text/plain": [
       "Empty DataFrame\n",
       "Columns: [site_id, timestamp, air_temperature, cloud_coverage, dew_temperature, precip_depth_1_hr, sea_level_pressure, wind_direction, wind_speed]\n",
       "Index: []"
      ]
     },
     "execution_count": 12,
     "metadata": {},
     "output_type": "execute_result"
    }
   ],
   "source": [
    "# 風向きが0のデータは風速が0のデータであることを確認\n",
    "weather_df.query(\"wind_direction == 0 and wind_speed != 0\")"
   ]
  },
  {
   "cell_type": "code",
   "execution_count": 65,
   "metadata": {},
   "outputs": [],
   "source": [
    "from matplotlib import pyplot\n",
    "\n",
    "def plotMeterByYearBuilt(df: pd.DataFrame) -> None :\n",
    "    \"\"\"建築年とメーター値の散布図を作成する\n",
    "\n",
    "    Args:\n",
    "        df (pd.DataFrame): データ\n",
    "    \"\"\"\n",
    "    \n",
    "    fig, axes = pyplot.subplots(nrows=4, ncols=1, sharex=False)\n",
    "\n",
    "    cnt = 0\n",
    "    for ctg in [0, 1, 2 ,3]:\n",
    "      plotDf = df.query(f\"meter == {ctg}\")\n",
    "      axes[cnt].scatter(plotDf[\"year_built\"], plotDf[\"meter_reading\"])\n",
    "      \n",
    "      cnt += 1\n",
    "      del plotDf\n",
    "    \n",
    "    fig.tight_layout()\n",
    "    plt.show()\n"
   ]
  },
  {
   "cell_type": "code",
   "execution_count": null,
   "metadata": {},
   "outputs": [
    {
     "data": {
      "image/png": "[encoded data removed]",
      "text/plain": [
       "<Figure size 432x288 with 4 Axes>"
      ]
     },
     "metadata": {
      "needs_background": "light"
     },
     "output_type": "display_data"
    }
   ],
   "source": [
    "# 建築年数は直接関係しない模様\n",
    "plotMeterByYearBuilt(train_df)"
   ]
  },
  {
   "cell_type": "code",
   "execution_count": 69,
   "metadata": {},
   "outputs": [],
   "source": [
    "from matplotlib import pyplot\n",
    "\n",
    "def meterMeanByYearBuilt(df: pd.DataFrame) -> None :\n",
    "    \"\"\"メーター値の平均値を築年の設定有無毎に算出する\n",
    "\n",
    "    Args:\n",
    "        df (pd.DataFrame): データ\n",
    "    \"\"\"\n",
    "\n",
    "    for ctg in [0, 1, 2 ,3]:\n",
    "      yearBuiltSetDf = df.query(f\"meter == {ctg} and year_built == year_built\")\n",
    "      yearBuiltNotSetDf = df.query(f\"meter == {ctg} and year_built != year_built\")\n",
    "\n",
    "      yearBuiltSetMean =yearBuiltSetDf[\"meter_reading\"].mean()\n",
    "      yearBuiltNotSetMean =yearBuiltNotSetDf[\"meter_reading\"].mean()\n",
    "\n",
    "      print(f\"Category: {ctg}\")  \n",
    "      print(f\"YearBuiltSetMean: {yearBuiltSetMean}\")  \n",
    "      print(f\"YearBuiltNotSetMean: {yearBuiltNotSetMean}\")  \n",
    "      \n",
    "      del yearBuiltSetDf, yearBuiltNotSetDf, yearBuiltSetMean, yearBuiltNotSetMean\n",
    "    "
   ]
  },
  {
   "cell_type": "code",
   "execution_count": 74,
   "metadata": {},
   "outputs": [
    {
     "name": "stdout",
     "output_type": "stream",
     "text": [
      "Category: 0\n",
      "YearBuiltSetMean: 209.427490234375\n",
      "YearBuiltNotSetMean: 148.044677734375\n",
      "Category: 1\n",
      "YearBuiltSetMean: 534.3399658203125\n",
      "YearBuiltNotSetMean: 681.2288818359375\n",
      "Category: 2\n",
      "YearBuiltSetMean: 782.62548828125\n",
      "YearBuiltNotSetMean: 1715.304931640625\n",
      "Category: 3\n",
      "YearBuiltSetMean: 186.57418823242188\n",
      "YearBuiltNotSetMean: 547.9810180664062\n"
     ]
    }
   ],
   "source": [
    "meterMeanByYearBuilt(train_df)"
   ]
  },
  {
   "cell_type": "code",
   "execution_count": 75,
   "metadata": {},
   "outputs": [],
   "source": [
    "from matplotlib import pyplot\n",
    "\n",
    "def plotMeterByYearBuiltSet(df: pd.DataFrame) -> None :\n",
    "    \"\"\"建築年とメーター値の散布図を作成する\n",
    "\n",
    "    Args:\n",
    "        df (pd.DataFrame): データ\n",
    "    \"\"\"\n",
    "    \n",
    "    fig, axes = pyplot.subplots(nrows=4, ncols=2, sharex=False)\n",
    "\n",
    "    cnt = 0\n",
    "    for ctg in [0, 1, 2 ,3]:\n",
    "      yearBuiltSetDf = df.query(f\"meter == {ctg} and year_built == year_built\")\n",
    "      yearBuiltNotSetDf = df.query(f\"meter == {ctg} and year_built != year_built\")\n",
    "\n",
    "      axes[cnt, 0].hist(yearBuiltSetDf[\"meter_reading\"])\n",
    "      axes[cnt, 1].hist(yearBuiltNotSetDf[\"meter_reading\"])\n",
    "      \n",
    "      cnt += 1\n",
    "      del yearBuiltSetDf, yearBuiltNotSetDf\n",
    "    \n",
    "    fig.tight_layout()\n",
    "    plt.show()\n"
   ]
  },
  {
   "cell_type": "code",
   "execution_count": 76,
   "metadata": {},
   "outputs": [
    {
     "data": {
      "image/png": "[encoded data removed]",
      "text/plain": [
       "<Figure size 432x288 with 8 Axes>"
      ]
     },
     "metadata": {
      "needs_background": "light"
     },
     "output_type": "display_data"
    }
   ],
   "source": [
    "plotMeterByYearBuiltSet(train_df)"
   ]
  },
  {
   "cell_type": "code",
   "execution_count": 79,
   "metadata": {},
   "outputs": [],
   "source": [
    "def meterStaticsByYearBuilt(df: pd.DataFrame) -> None :\n",
    "    for ctg in [0, 1, 2 ,3]:\n",
    "      yearBuiltSetDf = df.query(f\"meter == {ctg} and year_built == year_built\")\n",
    "      yearBuiltNotSetDf = df.query(f\"meter == {ctg} and year_built != year_built\")\n",
    "      print(f\"Category: {ctg}\")  \n",
    "      print(f\"YearBuiltSet\")\n",
    "      print(yearBuiltSetDf[\"meter_reading\"].describe())\n",
    "      print(f\"YearBuiltNotSet\")\n",
    "      print(yearBuiltNotSetDf[\"meter_reading\"].describe())\n",
    "      \n",
    "      del yearBuiltSetDf, yearBuiltNotSetDf\n",
    "    "
   ]
  },
  {
   "cell_type": "code",
   "execution_count": 81,
   "metadata": {},
   "outputs": [
    {
     "name": "stdout",
     "output_type": "stream",
     "text": [
      "Category: 0\n",
      "YearBuiltSet\n",
      "count    5.244763e+06\n",
      "mean     2.094275e+02\n",
      "std      4.735475e+02\n",
      "min      0.000000e+00\n",
      "25%      2.307000e+01\n",
      "50%      7.810000e+01\n",
      "75%      1.991750e+02\n",
      "max      1.750210e+04\n",
      "Name: meter_reading, dtype: float64\n",
      "YearBuiltNotSet\n",
      "count    6.461253e+06\n",
      "mean     1.480447e+02\n",
      "std      2.917258e+02\n",
      "min      0.000000e+00\n",
      "25%      2.131500e+01\n",
      "50%      5.891670e+01\n",
      "75%      1.553000e+02\n",
      "max      7.976900e+04\n",
      "Name: meter_reading, dtype: float64\n",
      "Category: 1\n",
      "YearBuiltSet\n",
      "count    1.362881e+06\n",
      "mean     5.343400e+02\n",
      "std      1.216988e+03\n",
      "min      0.000000e+00\n",
      "25%      1.654710e+01\n",
      "50%      1.074800e+02\n",
      "75%      4.221040e+02\n",
      "max      1.726110e+05\n",
      "Name: meter_reading, dtype: float64\n",
      "YearBuiltNotSet\n",
      "count    2.819559e+06\n",
      "mean     6.812289e+02\n",
      "std      9.691904e+03\n",
      "min      0.000000e+00\n",
      "25%      7.631600e+00\n",
      "50%      1.270000e+02\n",
      "75%      4.833910e+02\n",
      "max      8.803740e+05\n",
      "Name: meter_reading, dtype: float64\n",
      "Category: 2\n",
      "YearBuiltSet\n",
      "count    567697.000000\n",
      "mean        782.625488\n",
      "std        1019.243042\n",
      "min           0.000000\n",
      "25%          99.548203\n",
      "50%         410.061005\n",
      "75%        1061.130005\n",
      "max       10301.400391\n",
      "Name: meter_reading, dtype: float64\n",
      "YearBuiltNotSet\n",
      "count    2.132232e+06\n",
      "mean     1.715305e+03\n",
      "std      6.124272e+03\n",
      "min      0.000000e+00\n",
      "25%      3.820720e+01\n",
      "50%      2.196000e+02\n",
      "75%      1.002600e+03\n",
      "max      1.316250e+05\n",
      "Name: meter_reading, dtype: float64\n",
      "Category: 3\n",
      "YearBuiltSet\n",
      "count    567002.000000\n",
      "mean        186.574188\n",
      "std         959.656067\n",
      "min           0.000000\n",
      "25%           0.000000\n",
      "50%          14.653600\n",
      "75%          70.336998\n",
      "max       26860.599609\n",
      "Name: meter_reading, dtype: float64\n",
      "YearBuiltNotSet\n",
      "count    697035.000000\n",
      "mean        547.981018\n",
      "std        3255.849609\n",
      "min           0.000000\n",
      "25%           0.688800\n",
      "50%         116.559998\n",
      "75%         477.919006\n",
      "max      160187.000000\n",
      "Name: meter_reading, dtype: float64\n"
     ]
    }
   ],
   "source": [
    "# \n",
    "meterStaticsByYearBuilt(train_df)"
   ]
  }
 ],
 "metadata": {
  "interpreter": {
   "hash": "74c7c3687703664997f19149f5445e423068aa826b97a36d943ea9f2cd8004e5"
  },
  "kernelspec": {
   "display_name": "Python 3.10.4 ('python_3.10')",
   "language": "python",
   "name": "python3"
  },
  "language_info": {
   "codemirror_mode": {
    "name": "ipython",
    "version": 3
   },
   "file_extension": ".py",
   "mimetype": "text/x-python",
   "name": "python",
   "nbconvert_exporter": "python",
   "pygments_lexer": "ipython3",
   "version": "3.10.4"
  },
  "orig_nbformat": 4
 },
 "nbformat": 4,
 "nbformat_minor": 2
}
